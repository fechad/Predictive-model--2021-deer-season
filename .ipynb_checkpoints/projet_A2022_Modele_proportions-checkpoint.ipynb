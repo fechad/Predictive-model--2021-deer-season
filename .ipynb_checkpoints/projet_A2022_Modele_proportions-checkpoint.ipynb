{
 "cells": [
  {
   "cell_type": "markdown",
   "id": "0d3add36",
   "metadata": {},
   "source": [
    "# MTH3302 : Méthodes probabilistes et statistiques pour l'I.A.\n",
    "\n",
    "Jonathan Jalbert<br/>\n",
    "Professeur adjoint au Département de mathématiques et de génie industriel<br/>\n",
    "Polytechnique Montréal<br/>\n",
    "\n",
    "\n",
    "Le projet a été préparé par Gabriel Gobeil, associé de recherche à Polytechnique Montréal.\n",
    "\n",
    "---\n",
    "# Projet A2022 : Récolte des cerfs de Virginie\n",
    "\n",
    "\n",
    "La description du projet est disponible à l'adresse suivante : https://www.kaggle.com/t/23b6d8c44f1247c78e19a6a902f804af\n",
    "\n",
    "Ce calepin Jupyter de base permet de charger et de nettoyer les données fournies. La dernière section détaille la génération du fichier des prédictions afin de le soumettre sur Kaggle dans le bon format.\n",
    "\n",
    "### Données\n",
    "\n",
    "Dans un premier temps, vous devrez récupérer les données sur Kaggle. Les fichiers disponibles sont les suivants :\n",
    "- recolte.csv\n",
    "- permis.csv\n",
    "- meteo.csv\n",
    "- essence.csv\n",
    "- test.csv\n",
    "\n",
    "**Déposez ces fichiers dans un dossier nommé *data* dans le répertoire de ce calepin.**\n",
    "\n",
    "Le fichier *recolte.csv* contient les statistiques de chasse au cerf de Viriginie. On y retrouve le nombre de cerfs mâles adultes récoltés annuellement dans certaines zones de chasse du Québec, listé selon le type d'engin utilisé.\n",
    "\n",
    "Le fichier *permis.csv* contient des informations sur le nombre de permis de chasse aux cerfs de Virginie alloués aux résidents et non-résidents de 1999 à 2020.\n",
    "\n",
    "Le fichier *meteo.csv* contient certaines variables météorologiques enregistrées à la station Montréal-Trudeau de 1999 à 2021 :\n",
    "- Mean Temp (°C)\t\n",
    "- Total Rain (mm)\t\n",
    "- Total Snow (cm)\t\n",
    "- Snow on Grnd (cm)\n",
    "\n",
    "Le fichier *essence.csv* contient des informations sur le prix de détail moyen par mois de l'essence pour Québec et Montréal de 1999 à 2021. Des renseignements additionnels sur les données sont disponibles à l'adresse suivante : https://www150.statcan.gc.ca/t1/tbl1/fr/cv.action?pid=1810000101\n",
    "\n",
    "Le fichier *test.csv* contient les zones de chasse pour lesquels vous devez prédire le nombre de cerfs mâles adultes récoltés pour l'année 2021, peu importe l'engin de chasse utilisé. La qualité de vos prédictions sera ensuite évaluée lorsque vous les téléverserez sur Kaggle. Vos prédictions seront comparées à celles des autres équipes de la classe.\n",
    "\n",
    "### Consignes\n",
    "\n",
    "- Vous devez constituer une équipe de 3 à 5 personnes.\n",
    "- Au moins une solution doit être proposée sur Kaggle.\n",
    "- Utilisez votre identifiant d'équipe pour téléverser vos prédictions sur Kaggle.\n",
    "- Un seul calepin *.ipynb* par équipe doit être remis. Ce fichier documente et illustre la procédure qui vous a permis de produire vos meilleures prédictions. Ce fichier constitue le rapport final du projet.\n",
    "- Le langage Julia doit être utilisé.\n",
    "- Votre démarche doit être rigoureusement justifiée (consultez la grille de correction pour vous orienter).\n",
    "\n",
    "### Quelques conseils\n",
    "\n",
    "Votre calepin doit permettre à une personne à l'extérieur de l'équipe de comprendre votre démarche et de reproduire vos résultats. Par exemple, une bonne façon de faire consiste à expliquer dans une cellule de texte la tâche qui est accomplie dans la cellule de code suivante. \n",
    "\n",
    "Je vous encourage fortement à faire une analyse exploratoire des données pour développer une meilleure expertise du problème. C'est une étape qui est toujours négligée mais qui est essentielle. C'est avec l'analyse exploratoire que vous viendra des idées d'amélioration, comme par exemple créer de nouvelles variables explicatives.\n",
    "\n",
    "Vous pouvez utiliser directement tout ce qui se trouve dans les notes de cours sans explication et toutes les librairies utilisées dans le cours (incluant mes fonctions).\n",
    "\n",
    "Ce calepin contient un modèle très simple de prédiction : on n'utilise qu'une seule variable explicative. Ce sera votre travail d'améliorer ces prédictions avec la méthode et les variables de votre choix.\n",
    "\n",
    "S'il y a des données manquantes, ce sera à vous de traiter ce problème. La plupart du temps, une méthode simple d'imputation (de remplacement) des données manquantes est suffisante.\n",
    "\n",
    "Prenez la peine de documenter succinctement les essais infructueux. Ce n'est pas nécessaire de les expliquer en détails, mais c'est important de les mentionner dans la discussion avec une raison possible de leur échec. De cette façon, une personne qui reprendra votre travail dans le futur ne perdra pas de temps à réessayer une méthode infructueuse déjà testée.\n",
    "\n",
    "Vous pouvez aussi indiquer dans votre rapport les raisons qui vous font croire pourquoi une méthode a moins bien performée de ce qui était attendu. Vous pouvez également mentionner ce que vous auriez pu tenter si vous aviez eu plus de temps ou plus de données. L'idée est de guider l'analyste qui prendrait la relève de votre travail.\n",
    "\n",
    "Vous êtes limités à deux soumissions par jour UTC par équipe sur Kaggle. Je vous suggère donc de bien tester vos modèles localement et de ne téléverser que vos meilleurs prédictions de la journée."
   ]
  },
  {
   "cell_type": "code",
   "execution_count": 2,
   "id": "829d25dc",
   "metadata": {},
   "outputs": [],
   "source": [
    "using CSV, DataFrames, Statistics, Dates, Gadfly, Distributions, LinearAlgebra, GLM, Combinatorics, StatsBase, Random"
   ]
  },
  {
   "cell_type": "markdown",
   "id": "6c4adb0c",
   "metadata": {},
   "source": [
    "---\n",
    "## 1. Chargement de données"
   ]
  },
  {
   "cell_type": "markdown",
   "id": "ace31f16",
   "metadata": {},
   "source": [
    "#### Récolte annuelle de cerfs par zones de chasse selon les différents engins"
   ]
  },
  {
   "cell_type": "code",
   "execution_count": 3,
   "id": "700a3273",
   "metadata": {},
   "outputs": [
    {
     "data": {
      "text/html": [
       "<div class=\"data-frame\"><p>5 rows × 4 columns</p><table class=\"data-frame\"><thead><tr><th></th><th>Année</th><th>Zone</th><th>Engin</th><th>Cerfs</th></tr><tr><th></th><th title=\"Int64\">Int64</th><th title=\"Int64\">Int64</th><th title=\"String15\">String15</th><th title=\"Int64\">Int64</th></tr></thead><tbody><tr><th>1</th><td>1999</td><td>2</td><td>Arc</td><td>58</td></tr><tr><th>2</th><td>1999</td><td>2</td><td>Carabine</td><td>852</td></tr><tr><th>3</th><td>1999</td><td>2</td><td>Indéterminé</td><td>12</td></tr><tr><th>4</th><td>1999</td><td>3</td><td>Arc</td><td>94</td></tr><tr><th>5</th><td>1999</td><td>3</td><td>Carabine</td><td>1422</td></tr></tbody></table></div>"
      ],
      "text/latex": [
       "\\begin{tabular}{r|cccc}\n",
       "\t& Année & Zone & Engin & Cerfs\\\\\n",
       "\t\\hline\n",
       "\t& Int64 & Int64 & String15 & Int64\\\\\n",
       "\t\\hline\n",
       "\t1 & 1999 & 2 & Arc & 58 \\\\\n",
       "\t2 & 1999 & 2 & Carabine & 852 \\\\\n",
       "\t3 & 1999 & 2 & Indéterminé & 12 \\\\\n",
       "\t4 & 1999 & 3 & Arc & 94 \\\\\n",
       "\t5 & 1999 & 3 & Carabine & 1422 \\\\\n",
       "\\end{tabular}\n"
      ],
      "text/plain": [
       "\u001b[1m5×4 DataFrame\u001b[0m\n",
       "\u001b[1m Row \u001b[0m│\u001b[1m Année \u001b[0m\u001b[1m Zone  \u001b[0m\u001b[1m Engin       \u001b[0m\u001b[1m Cerfs \u001b[0m\n",
       "\u001b[1m     \u001b[0m│\u001b[90m Int64 \u001b[0m\u001b[90m Int64 \u001b[0m\u001b[90m String15    \u001b[0m\u001b[90m Int64 \u001b[0m\n",
       "─────┼──────────────────────────────────\n",
       "   1 │  1999      2  Arc             58\n",
       "   2 │  1999      2  Carabine       852\n",
       "   3 │  1999      2  Indéterminé     12\n",
       "   4 │  1999      3  Arc             94\n",
       "   5 │  1999      3  Carabine      1422"
      ]
     },
     "execution_count": 3,
     "metadata": {},
     "output_type": "execute_result"
    }
   ],
   "source": [
    "recolte = CSV.read(\"data/recolte.csv\", DataFrame)\n",
    "first(recolte, 5)"
   ]
  },
  {
   "cell_type": "markdown",
   "id": "bf8f8930",
   "metadata": {},
   "source": [
    "#### Nombre de permis de chasse alloués annuellement aux résidents et non-résidents"
   ]
  },
  {
   "cell_type": "code",
   "execution_count": 4,
   "id": "8ef0693a",
   "metadata": {},
   "outputs": [
    {
     "data": {
      "text/html": [
       "<div class=\"data-frame\"><p>5 rows × 5 columns</p><table class=\"data-frame\"><thead><tr><th></th><th>Année</th><th>Résidents</th><th>Résidents premier abbatage</th><th>Non-résidents</th><th>Total</th></tr><tr><th></th><th title=\"Int64\">Int64</th><th title=\"Union{Missing, Int64}\">Int64?</th><th title=\"Union{Missing, Int64}\">Int64?</th><th title=\"Union{Missing, Int64}\">Int64?</th><th title=\"Union{Missing, Int64}\">Int64?</th></tr></thead><tbody><tr><th>1</th><td>1998</td><td>135409</td><td>0</td><td>1230</td><td>136639</td></tr><tr><th>2</th><td>1999</td><td>131325</td><td>0</td><td>1260</td><td>132585</td></tr><tr><th>3</th><td>2000</td><td>137346</td><td>0</td><td>1463</td><td>138809</td></tr><tr><th>4</th><td>2001</td><td>144074</td><td>0</td><td>1551</td><td>145625</td></tr><tr><th>5</th><td>2002</td><td>151154</td><td>0</td><td>1735</td><td>152889</td></tr></tbody></table></div>"
      ],
      "text/latex": [
       "\\begin{tabular}{r|ccccc}\n",
       "\t& Année & Résidents & Résidents premier abbatage & Non-résidents & Total\\\\\n",
       "\t\\hline\n",
       "\t& Int64 & Int64? & Int64? & Int64? & Int64?\\\\\n",
       "\t\\hline\n",
       "\t1 & 1998 & 135409 & 0 & 1230 & 136639 \\\\\n",
       "\t2 & 1999 & 131325 & 0 & 1260 & 132585 \\\\\n",
       "\t3 & 2000 & 137346 & 0 & 1463 & 138809 \\\\\n",
       "\t4 & 2001 & 144074 & 0 & 1551 & 145625 \\\\\n",
       "\t5 & 2002 & 151154 & 0 & 1735 & 152889 \\\\\n",
       "\\end{tabular}\n"
      ],
      "text/plain": [
       "\u001b[1m5×5 DataFrame\u001b[0m\n",
       "\u001b[1m Row \u001b[0m│\u001b[1m Année \u001b[0m\u001b[1m Résidents \u001b[0m\u001b[1m Résidents premier abbatage \u001b[0m\u001b[1m Non-résidents \u001b[0m\u001b[1m Total  \u001b[0m\n",
       "\u001b[1m     \u001b[0m│\u001b[90m Int64 \u001b[0m\u001b[90m Int64?    \u001b[0m\u001b[90m Int64?                     \u001b[0m\u001b[90m Int64?        \u001b[0m\u001b[90m Int64? \u001b[0m\n",
       "─────┼─────────────────────────────────────────────────────────────────────\n",
       "   1 │  1998     135409                           0           1230  136639\n",
       "   2 │  1999     131325                           0           1260  132585\n",
       "   3 │  2000     137346                           0           1463  138809\n",
       "   4 │  2001     144074                           0           1551  145625\n",
       "   5 │  2002     151154                           0           1735  152889"
      ]
     },
     "execution_count": 4,
     "metadata": {},
     "output_type": "execute_result"
    }
   ],
   "source": [
    "permis = CSV.read(\"data/permis.csv\", DataFrame)\n",
    "n = size(permis,1)\n",
    "for i in range(1, n)\n",
    "    residents_premier_abbatage = permis[i, :\"Résidents premier abbatage\"]\n",
    "    if (ismissing(residents_premier_abbatage))\n",
    "        permis[i, :\"Résidents premier abbatage\"] = 0\n",
    "    end\n",
    "end\n",
    "\n",
    "permis.Total = [permis[i, :Résidents] + permis[i, :\"Résidents premier abbatage\"] + permis[i, :\"Non-résidents\"] for i in 1:n]\n",
    "first(permis, 5)"
   ]
  },
  {
   "cell_type": "markdown",
   "id": "0be4b90d",
   "metadata": {},
   "source": [
    "#### Moyenne mensuelle du prix de détail de l'essence en cents pour Québec et Montréal"
   ]
  },
  {
   "cell_type": "code",
   "execution_count": 5,
   "id": "a3686a00",
   "metadata": {},
   "outputs": [
    {
     "data": {
      "text/html": [
       "<div class=\"data-frame\"><p>5 rows × 3 columns</p><table class=\"data-frame\"><thead><tr><th></th><th>Mois</th><th>Québec</th><th>Montréal</th></tr><tr><th></th><th title=\"Date\">Date</th><th title=\"Float64\">Float64</th><th title=\"Float64\">Float64</th></tr></thead><tbody><tr><th>1</th><td>1997-04-01</td><td>60.1</td><td>60.3</td></tr><tr><th>2</th><td>1997-05-01</td><td>60.7</td><td>60.5</td></tr><tr><th>3</th><td>1997-06-01</td><td>59.4</td><td>61.5</td></tr><tr><th>4</th><td>1997-07-01</td><td>57.9</td><td>59.7</td></tr><tr><th>5</th><td>1997-08-01</td><td>62.8</td><td>64.0</td></tr></tbody></table></div>"
      ],
      "text/latex": [
       "\\begin{tabular}{r|ccc}\n",
       "\t& Mois & Québec & Montréal\\\\\n",
       "\t\\hline\n",
       "\t& Date & Float64 & Float64\\\\\n",
       "\t\\hline\n",
       "\t1 & 1997-04-01 & 60.1 & 60.3 \\\\\n",
       "\t2 & 1997-05-01 & 60.7 & 60.5 \\\\\n",
       "\t3 & 1997-06-01 & 59.4 & 61.5 \\\\\n",
       "\t4 & 1997-07-01 & 57.9 & 59.7 \\\\\n",
       "\t5 & 1997-08-01 & 62.8 & 64.0 \\\\\n",
       "\\end{tabular}\n"
      ],
      "text/plain": [
       "\u001b[1m5×3 DataFrame\u001b[0m\n",
       "\u001b[1m Row \u001b[0m│\u001b[1m Mois       \u001b[0m\u001b[1m Québec  \u001b[0m\u001b[1m Montréal \u001b[0m\n",
       "\u001b[1m     \u001b[0m│\u001b[90m Date       \u001b[0m\u001b[90m Float64 \u001b[0m\u001b[90m Float64  \u001b[0m\n",
       "─────┼───────────────────────────────\n",
       "   1 │ 1997-04-01     60.1      60.3\n",
       "   2 │ 1997-05-01     60.7      60.5\n",
       "   3 │ 1997-06-01     59.4      61.5\n",
       "   4 │ 1997-07-01     57.9      59.7\n",
       "   5 │ 1997-08-01     62.8      64.0"
      ]
     },
     "execution_count": 5,
     "metadata": {},
     "output_type": "execute_result"
    }
   ],
   "source": [
    "essence = CSV.read(\"data/essence.csv\", DataFrame)\n",
    "first(essence, 5)"
   ]
  },
  {
   "cell_type": "markdown",
   "id": "11a22489",
   "metadata": {},
   "source": [
    "#### Données météorologiques quotidiennes à Montréal-Trudeau entre 1999 et 2021"
   ]
  },
  {
   "cell_type": "code",
   "execution_count": 6,
   "id": "93f0e212",
   "metadata": {},
   "outputs": [
    {
     "data": {
      "text/html": [
       "<div class=\"data-frame\"><p>5 rows × 6 columns (omitted printing of 1 columns)</p><table class=\"data-frame\"><thead><tr><th></th><th>Date/Time</th><th>Mean Temp (°C)</th><th>Total Rain (mm)</th><th>Total Snow (cm)</th><th>Snow on Grnd (cm)</th></tr><tr><th></th><th title=\"Date\">Date</th><th title=\"Union{Missing, Float64}\">Float64?</th><th title=\"Union{Missing, Float64}\">Float64?</th><th title=\"Union{Missing, Float64}\">Float64?</th><th title=\"Union{Missing, Int64}\">Int64?</th></tr></thead><tbody><tr><th>1</th><td>1999-01-01</td><td>-20.5</td><td>0.0</td><td>1.0</td><td>2</td></tr><tr><th>2</th><td>1999-01-02</td><td>-19.2</td><td>0.0</td><td>0.0</td><td>2</td></tr><tr><th>3</th><td>1999-01-03</td><td>-8.5</td><td>1.2</td><td>11.4</td><td>7</td></tr><tr><th>4</th><td>1999-01-04</td><td>-9.4</td><td>0.0</td><td>0.0</td><td>8</td></tr><tr><th>5</th><td>1999-01-05</td><td>-14.3</td><td>0.0</td><td>0.0</td><td>8</td></tr></tbody></table></div>"
      ],
      "text/latex": [
       "\\begin{tabular}{r|cccccc}\n",
       "\t& Date/Time & Mean Temp (°C) & Total Rain (mm) & Total Snow (cm) & Snow on Grnd (cm) & \\\\\n",
       "\t\\hline\n",
       "\t& Date & Float64? & Float64? & Float64? & Int64? & \\\\\n",
       "\t\\hline\n",
       "\t1 & 1999-01-01 & -20.5 & 0.0 & 1.0 & 2 & $\\dots$ \\\\\n",
       "\t2 & 1999-01-02 & -19.2 & 0.0 & 0.0 & 2 & $\\dots$ \\\\\n",
       "\t3 & 1999-01-03 & -8.5 & 1.2 & 11.4 & 7 & $\\dots$ \\\\\n",
       "\t4 & 1999-01-04 & -9.4 & 0.0 & 0.0 & 8 & $\\dots$ \\\\\n",
       "\t5 & 1999-01-05 & -14.3 & 0.0 & 0.0 & 8 & $\\dots$ \\\\\n",
       "\\end{tabular}\n"
      ],
      "text/plain": [
       "\u001b[1m5×6 DataFrame\u001b[0m\n",
       "\u001b[1m Row \u001b[0m│\u001b[1m Date/Time  \u001b[0m\u001b[1m Mean Temp (°C) \u001b[0m\u001b[1m Total Rain (mm) \u001b[0m\u001b[1m Total Snow (cm) \u001b[0m\u001b[1m Snow on G\u001b[0m ⋯\n",
       "\u001b[1m     \u001b[0m│\u001b[90m Date       \u001b[0m\u001b[90m Float64?       \u001b[0m\u001b[90m Float64?        \u001b[0m\u001b[90m Float64?        \u001b[0m\u001b[90m Int64?   \u001b[0m ⋯\n",
       "─────┼──────────────────────────────────────────────────────────────────────────\n",
       "   1 │ 1999-01-01           -20.5              0.0              1.0            ⋯\n",
       "   2 │ 1999-01-02           -19.2              0.0              0.0\n",
       "   3 │ 1999-01-03            -8.5              1.2             11.4\n",
       "   4 │ 1999-01-04            -9.4              0.0              0.0\n",
       "   5 │ 1999-01-05           -14.3              0.0              0.0            ⋯\n",
       "\u001b[36m                                                               2 columns omitted\u001b[0m"
      ]
     },
     "execution_count": 6,
     "metadata": {},
     "output_type": "execute_result"
    }
   ],
   "source": [
    "meteo = CSV.read(\"data/meteo.csv\", DataFrame)\n",
    "n = size(meteo,1)\n",
    "meteo.Année = [Dates.year(meteo[i, :\"Date/Time\"]) for i in 1:n]\n",
    "\n",
    "first(meteo, 5)"
   ]
  },
  {
   "cell_type": "markdown",
   "id": "242abb69",
   "metadata": {},
   "source": [
    "#### Construction du tableau des variables transformée en données anuelles\n",
    "Sachant que la période de chasse est qu'en automne de chaque année, nous pensons que seule les données de météo et du prix de l'essence durant cette période sera pertinente pour notre analyse des variables.\n",
    "\n",
    "##### Température moyenne annuelle"
   ]
  },
  {
   "cell_type": "code",
   "execution_count": 7,
   "id": "93fd30e0",
   "metadata": {},
   "outputs": [
    {
     "data": {
      "text/html": [
       "<div class=\"data-frame\"><p>23 rows × 2 columns</p><table class=\"data-frame\"><thead><tr><th></th><th>Année</th><th>Température</th></tr><tr><th></th><th title=\"Int64\">Int64</th><th title=\"Float64\">Float64</th></tr></thead><tbody><tr><th>1</th><td>1999</td><td>6.36721</td></tr><tr><th>2</th><td>2000</td><td>5.81311</td></tr><tr><th>3</th><td>2001</td><td>7.59836</td></tr><tr><th>4</th><td>2002</td><td>3.94262</td></tr><tr><th>5</th><td>2003</td><td>5.47705</td></tr><tr><th>6</th><td>2004</td><td>5.64098</td></tr><tr><th>7</th><td>2005</td><td>6.53934</td></tr><tr><th>8</th><td>2006</td><td>6.19508</td></tr><tr><th>9</th><td>2007</td><td>6.28689</td></tr><tr><th>10</th><td>2008</td><td>5.29508</td></tr><tr><th>11</th><td>2009</td><td>5.70492</td></tr><tr><th>12</th><td>2010</td><td>5.42459</td></tr><tr><th>13</th><td>2011</td><td>7.63607</td></tr><tr><th>14</th><td>2012</td><td>5.7541</td></tr><tr><th>15</th><td>2014</td><td>6.46393</td></tr><tr><th>16</th><td>2015</td><td>6.10492</td></tr><tr><th>17</th><td>2016</td><td>6.87541</td></tr><tr><th>18</th><td>2017</td><td>6.96393</td></tr><tr><th>19</th><td>2018</td><td>3.11311</td></tr><tr><th>20</th><td>2019</td><td>4.28852</td></tr><tr><th>21</th><td>2020</td><td>6.64918</td></tr><tr><th>22</th><td>2021</td><td>7.13279</td></tr><tr><th>23</th><td>2013</td><td>0.0</td></tr></tbody></table></div>"
      ],
      "text/latex": [
       "\\begin{tabular}{r|cc}\n",
       "\t& Année & Température\\\\\n",
       "\t\\hline\n",
       "\t& Int64 & Float64\\\\\n",
       "\t\\hline\n",
       "\t1 & 1999 & 6.36721 \\\\\n",
       "\t2 & 2000 & 5.81311 \\\\\n",
       "\t3 & 2001 & 7.59836 \\\\\n",
       "\t4 & 2002 & 3.94262 \\\\\n",
       "\t5 & 2003 & 5.47705 \\\\\n",
       "\t6 & 2004 & 5.64098 \\\\\n",
       "\t7 & 2005 & 6.53934 \\\\\n",
       "\t8 & 2006 & 6.19508 \\\\\n",
       "\t9 & 2007 & 6.28689 \\\\\n",
       "\t10 & 2008 & 5.29508 \\\\\n",
       "\t11 & 2009 & 5.70492 \\\\\n",
       "\t12 & 2010 & 5.42459 \\\\\n",
       "\t13 & 2011 & 7.63607 \\\\\n",
       "\t14 & 2012 & 5.7541 \\\\\n",
       "\t15 & 2014 & 6.46393 \\\\\n",
       "\t16 & 2015 & 6.10492 \\\\\n",
       "\t17 & 2016 & 6.87541 \\\\\n",
       "\t18 & 2017 & 6.96393 \\\\\n",
       "\t19 & 2018 & 3.11311 \\\\\n",
       "\t20 & 2019 & 4.28852 \\\\\n",
       "\t21 & 2020 & 6.64918 \\\\\n",
       "\t22 & 2021 & 7.13279 \\\\\n",
       "\t23 & 2013 & 0.0 \\\\\n",
       "\\end{tabular}\n"
      ],
      "text/plain": [
       "\u001b[1m23×2 DataFrame\u001b[0m\n",
       "\u001b[1m Row \u001b[0m│\u001b[1m Année \u001b[0m\u001b[1m Température \u001b[0m\n",
       "\u001b[1m     \u001b[0m│\u001b[90m Int64 \u001b[0m\u001b[90m Float64     \u001b[0m\n",
       "─────┼────────────────────\n",
       "   1 │  1999      6.36721\n",
       "   2 │  2000      5.81311\n",
       "   3 │  2001      7.59836\n",
       "   4 │  2002      3.94262\n",
       "   5 │  2003      5.47705\n",
       "   6 │  2004      5.64098\n",
       "   7 │  2005      6.53934\n",
       "   8 │  2006      6.19508\n",
       "   9 │  2007      6.28689\n",
       "  10 │  2008      5.29508\n",
       "  11 │  2009      5.70492\n",
       "  12 │  2010      5.42459\n",
       "  13 │  2011      7.63607\n",
       "  14 │  2012      5.7541\n",
       "  15 │  2014      6.46393\n",
       "  16 │  2015      6.10492\n",
       "  17 │  2016      6.87541\n",
       "  18 │  2017      6.96393\n",
       "  19 │  2018      3.11311\n",
       "  20 │  2019      4.28852\n",
       "  21 │  2020      6.64918\n",
       "  22 │  2021      7.13279\n",
       "  23 │  2013      0.0"
      ]
     },
     "execution_count": 7,
     "metadata": {},
     "output_type": "execute_result"
    }
   ],
   "source": [
    "Temp = CSV.read(\"data/meteo.csv\", DataFrame)\n",
    "# On remplace les données manquantes par 0\n",
    "  n = length(Temp[!, \"Mean Temp (°C)\"])\n",
    "    for i = 1:n\n",
    "        Temp[!, \"Mean Temp (°C)\"][i] = Temp[!, \"Mean Temp (°C)\"][i] !== missing ?  Temp[!, \"Mean Temp (°C)\"][i] : 0.0\n",
    "    end\n",
    "#=# conversion des températures en kelvin, pour ne pas avoir de températures négative\n",
    "    n = length(Temp[!, \"Mean Temp (°C)\"])\n",
    "    for i = 1:n\n",
    "        Temp[!, \"Mean Temp (°C)\"][i] = Temp[!, \"Mean Temp (°C)\"][i]\n",
    "    end\n",
    "=#\n",
    "rename!(Temp, \"Date/Time\" => \"Année\") #Changer le nom pour simplifier la lecture \n",
    "#sélection des donnée de l'automne, donc de septembre à novembre de chaque années\n",
    "Temp = Temp[[10 <= Dates.month(Temp.Année[i]) <= 11 for i in 1:length(Temp.Année)], :]\n",
    "\n",
    "Temp[!,\"Année\"] = [item == item ? Dates.year(item) : \"\" for item in Temp[!,\"Année\"]] #Utilisation de l'année seulement\n",
    "TempMoy = DataFrame(Année = Int64[], Temp = Float64[])\n",
    "TempMoy = combine(groupby(Temp, :Année), :\"Mean Temp (°C)\" => mean∘skipmissing => :\"Température\")\n",
    "push!(TempMoy, [2013, 0.0])\n",
    "Temp2021 = TempMoy.Température[22]\n",
    "TempMoy"
   ]
  },
  {
   "cell_type": "markdown",
   "id": "e5bb61bb",
   "metadata": {},
   "source": [
    "##### Pluie totale annuelle"
   ]
  },
  {
   "cell_type": "code",
   "execution_count": 8,
   "id": "09a5bc9a",
   "metadata": {},
   "outputs": [
    {
     "data": {
      "text/html": [
       "<div class=\"data-frame\"><p>23 rows × 2 columns</p><table class=\"data-frame\"><thead><tr><th></th><th>Année</th><th>Pluie_totale</th></tr><tr><th></th><th title=\"Int64\">Int64</th><th title=\"Float64\">Float64</th></tr></thead><tbody><tr><th>1</th><td>1999</td><td>139.7</td></tr><tr><th>2</th><td>2000</td><td>79.9</td></tr><tr><th>3</th><td>2001</td><td>155.9</td></tr><tr><th>4</th><td>2002</td><td>108.9</td></tr><tr><th>5</th><td>2003</td><td>287.4</td></tr><tr><th>6</th><td>2004</td><td>122.6</td></tr><tr><th>7</th><td>2005</td><td>279.8</td></tr><tr><th>8</th><td>2006</td><td>250.8</td></tr><tr><th>9</th><td>2007</td><td>162.0</td></tr><tr><th>10</th><td>2008</td><td>156.6</td></tr><tr><th>11</th><td>2009</td><td>161.0</td></tr><tr><th>12</th><td>2010</td><td>206.0</td></tr><tr><th>13</th><td>2011</td><td>142.6</td></tr><tr><th>14</th><td>2012</td><td>108.0</td></tr><tr><th>15</th><td>2014</td><td>120.2</td></tr><tr><th>16</th><td>2015</td><td>146.6</td></tr><tr><th>17</th><td>2016</td><td>209.4</td></tr><tr><th>18</th><td>2017</td><td>202.4</td></tr><tr><th>19</th><td>2018</td><td>154.4</td></tr><tr><th>20</th><td>2019</td><td>294.4</td></tr><tr><th>21</th><td>2020</td><td>150.4</td></tr><tr><th>22</th><td>2021</td><td>168.2</td></tr><tr><th>23</th><td>2013</td><td>0.0</td></tr></tbody></table></div>"
      ],
      "text/latex": [
       "\\begin{tabular}{r|cc}\n",
       "\t& Année & Pluie\\_totale\\\\\n",
       "\t\\hline\n",
       "\t& Int64 & Float64\\\\\n",
       "\t\\hline\n",
       "\t1 & 1999 & 139.7 \\\\\n",
       "\t2 & 2000 & 79.9 \\\\\n",
       "\t3 & 2001 & 155.9 \\\\\n",
       "\t4 & 2002 & 108.9 \\\\\n",
       "\t5 & 2003 & 287.4 \\\\\n",
       "\t6 & 2004 & 122.6 \\\\\n",
       "\t7 & 2005 & 279.8 \\\\\n",
       "\t8 & 2006 & 250.8 \\\\\n",
       "\t9 & 2007 & 162.0 \\\\\n",
       "\t10 & 2008 & 156.6 \\\\\n",
       "\t11 & 2009 & 161.0 \\\\\n",
       "\t12 & 2010 & 206.0 \\\\\n",
       "\t13 & 2011 & 142.6 \\\\\n",
       "\t14 & 2012 & 108.0 \\\\\n",
       "\t15 & 2014 & 120.2 \\\\\n",
       "\t16 & 2015 & 146.6 \\\\\n",
       "\t17 & 2016 & 209.4 \\\\\n",
       "\t18 & 2017 & 202.4 \\\\\n",
       "\t19 & 2018 & 154.4 \\\\\n",
       "\t20 & 2019 & 294.4 \\\\\n",
       "\t21 & 2020 & 150.4 \\\\\n",
       "\t22 & 2021 & 168.2 \\\\\n",
       "\t23 & 2013 & 0.0 \\\\\n",
       "\\end{tabular}\n"
      ],
      "text/plain": [
       "\u001b[1m23×2 DataFrame\u001b[0m\n",
       "\u001b[1m Row \u001b[0m│\u001b[1m Année \u001b[0m\u001b[1m Pluie_totale \u001b[0m\n",
       "\u001b[1m     \u001b[0m│\u001b[90m Int64 \u001b[0m\u001b[90m Float64      \u001b[0m\n",
       "─────┼─────────────────────\n",
       "   1 │  1999         139.7\n",
       "   2 │  2000          79.9\n",
       "   3 │  2001         155.9\n",
       "   4 │  2002         108.9\n",
       "   5 │  2003         287.4\n",
       "   6 │  2004         122.6\n",
       "   7 │  2005         279.8\n",
       "   8 │  2006         250.8\n",
       "   9 │  2007         162.0\n",
       "  10 │  2008         156.6\n",
       "  11 │  2009         161.0\n",
       "  12 │  2010         206.0\n",
       "  13 │  2011         142.6\n",
       "  14 │  2012         108.0\n",
       "  15 │  2014         120.2\n",
       "  16 │  2015         146.6\n",
       "  17 │  2016         209.4\n",
       "  18 │  2017         202.4\n",
       "  19 │  2018         154.4\n",
       "  20 │  2019         294.4\n",
       "  21 │  2020         150.4\n",
       "  22 │  2021         168.2\n",
       "  23 │  2013           0.0"
      ]
     },
     "execution_count": 8,
     "metadata": {},
     "output_type": "execute_result"
    }
   ],
   "source": [
    "Pluie = CSV.read(\"data/meteo.csv\", DataFrame)\n",
    "rename!(Pluie, \"Date/Time\" => \"Année\") #Changer le nom pour simplifier la lecture \n",
    "\n",
    "#sélection des données durant la saison de chase\n",
    "Pluie = Pluie[[10 <= Dates.month(Pluie.Année[i]) <= 11 for i in 1:length(Pluie.Année)], :]\n",
    "\n",
    "Pluie[!,\"Année\"] = [item == item ? Dates.year(item) : \"\" for item in Pluie[!,\"Année\"]]\n",
    "# On remplace les données manquantes par 0\n",
    "    n = length(Pluie[!, \"Total Rain (mm)\"])\n",
    "    for i = 1:n\n",
    "        Pluie[!, \"Total Rain (mm)\"][i] = Pluie[!, \"Total Rain (mm)\"][i] !== missing ?  Pluie[!, \"Total Rain (mm)\"][i] : 0.0\n",
    "    end\n",
    "PluieAn = combine(groupby(Pluie, :Année), :\"Total Rain (mm)\" => sum => :\"Pluie_totale\")\n",
    "push!(PluieAn, [2013, 0.0])"
   ]
  },
  {
   "cell_type": "markdown",
   "id": "d1bf9846",
   "metadata": {},
   "source": [
    "##### Neige total tombée annuelle"
   ]
  },
  {
   "cell_type": "code",
   "execution_count": 9,
   "id": "519a9f77",
   "metadata": {},
   "outputs": [
    {
     "data": {
      "text/html": [
       "<div class=\"data-frame\"><p>23 rows × 2 columns</p><table class=\"data-frame\"><thead><tr><th></th><th>Année</th><th>Neige_totale</th></tr><tr><th></th><th title=\"Int64\">Int64</th><th title=\"Float64\">Float64</th></tr></thead><tbody><tr><th>1</th><td>1999</td><td>5.1</td></tr><tr><th>2</th><td>2000</td><td>9.6</td></tr><tr><th>3</th><td>2001</td><td>4.6</td></tr><tr><th>4</th><td>2002</td><td>63.3</td></tr><tr><th>5</th><td>2003</td><td>2.8</td></tr><tr><th>6</th><td>2004</td><td>0.4</td></tr><tr><th>7</th><td>2005</td><td>13.6</td></tr><tr><th>8</th><td>2006</td><td>0.0</td></tr><tr><th>9</th><td>2007</td><td>29.0</td></tr><tr><th>10</th><td>2008</td><td>15.6</td></tr><tr><th>11</th><td>2009</td><td>6.4</td></tr><tr><th>12</th><td>2010</td><td>5.6</td></tr><tr><th>13</th><td>2011</td><td>8.2</td></tr><tr><th>14</th><td>2012</td><td>1.0</td></tr><tr><th>15</th><td>2014</td><td>17.2</td></tr><tr><th>16</th><td>2015</td><td>3.2</td></tr><tr><th>17</th><td>2016</td><td>10.0</td></tr><tr><th>18</th><td>2017</td><td>6.0</td></tr><tr><th>19</th><td>2018</td><td>44.0</td></tr><tr><th>20</th><td>2019</td><td>31.6</td></tr><tr><th>21</th><td>2020</td><td>22.4</td></tr><tr><th>22</th><td>2021</td><td>3.8</td></tr><tr><th>23</th><td>2013</td><td>0.0</td></tr></tbody></table></div>"
      ],
      "text/latex": [
       "\\begin{tabular}{r|cc}\n",
       "\t& Année & Neige\\_totale\\\\\n",
       "\t\\hline\n",
       "\t& Int64 & Float64\\\\\n",
       "\t\\hline\n",
       "\t1 & 1999 & 5.1 \\\\\n",
       "\t2 & 2000 & 9.6 \\\\\n",
       "\t3 & 2001 & 4.6 \\\\\n",
       "\t4 & 2002 & 63.3 \\\\\n",
       "\t5 & 2003 & 2.8 \\\\\n",
       "\t6 & 2004 & 0.4 \\\\\n",
       "\t7 & 2005 & 13.6 \\\\\n",
       "\t8 & 2006 & 0.0 \\\\\n",
       "\t9 & 2007 & 29.0 \\\\\n",
       "\t10 & 2008 & 15.6 \\\\\n",
       "\t11 & 2009 & 6.4 \\\\\n",
       "\t12 & 2010 & 5.6 \\\\\n",
       "\t13 & 2011 & 8.2 \\\\\n",
       "\t14 & 2012 & 1.0 \\\\\n",
       "\t15 & 2014 & 17.2 \\\\\n",
       "\t16 & 2015 & 3.2 \\\\\n",
       "\t17 & 2016 & 10.0 \\\\\n",
       "\t18 & 2017 & 6.0 \\\\\n",
       "\t19 & 2018 & 44.0 \\\\\n",
       "\t20 & 2019 & 31.6 \\\\\n",
       "\t21 & 2020 & 22.4 \\\\\n",
       "\t22 & 2021 & 3.8 \\\\\n",
       "\t23 & 2013 & 0.0 \\\\\n",
       "\\end{tabular}\n"
      ],
      "text/plain": [
       "\u001b[1m23×2 DataFrame\u001b[0m\n",
       "\u001b[1m Row \u001b[0m│\u001b[1m Année \u001b[0m\u001b[1m Neige_totale \u001b[0m\n",
       "\u001b[1m     \u001b[0m│\u001b[90m Int64 \u001b[0m\u001b[90m Float64      \u001b[0m\n",
       "─────┼─────────────────────\n",
       "   1 │  1999           5.1\n",
       "   2 │  2000           9.6\n",
       "   3 │  2001           4.6\n",
       "   4 │  2002          63.3\n",
       "   5 │  2003           2.8\n",
       "   6 │  2004           0.4\n",
       "   7 │  2005          13.6\n",
       "   8 │  2006           0.0\n",
       "   9 │  2007          29.0\n",
       "  10 │  2008          15.6\n",
       "  11 │  2009           6.4\n",
       "  12 │  2010           5.6\n",
       "  13 │  2011           8.2\n",
       "  14 │  2012           1.0\n",
       "  15 │  2014          17.2\n",
       "  16 │  2015           3.2\n",
       "  17 │  2016          10.0\n",
       "  18 │  2017           6.0\n",
       "  19 │  2018          44.0\n",
       "  20 │  2019          31.6\n",
       "  21 │  2020          22.4\n",
       "  22 │  2021           3.8\n",
       "  23 │  2013           0.0"
      ]
     },
     "execution_count": 9,
     "metadata": {},
     "output_type": "execute_result"
    }
   ],
   "source": [
    "Neige = CSV.read(\"data/meteo.csv\", DataFrame)\n",
    "rename!(Neige, \"Date/Time\" => \"Année\") #Changer le nom pour simplifier la lecture \n",
    "\n",
    "#sélection des données durant la saison de chase\n",
    "Neige = Neige[[10 <= Dates.month(Neige.Année[i]) <= 11 for i in 1:length(Neige.Année)], :]\n",
    "\n",
    "Neige[!,\"Année\"] = [item == item ? Dates.year(item) : \"\" for item in Neige[!,\"Année\"]]\n",
    "# On remplace les données manquantes par 0\n",
    "    n = length(Neige[!, \"Total Snow (cm)\"])\n",
    "    for i = 1:n\n",
    "        Neige[!, \"Total Snow (cm)\"][i] = Neige[!, \"Total Snow (cm)\"][i] !== missing ?  Neige[!, \"Total Snow (cm)\"][i] : 0.0\n",
    "    end\n",
    "NeigeAn = combine(groupby(Neige, :Année), :\"Total Snow (cm)\" => sum => :\"Neige_totale\")\n",
    "push!(NeigeAn, [2013, 0.0])"
   ]
  },
  {
   "cell_type": "markdown",
   "id": "7aa4c85a",
   "metadata": {},
   "source": [
    "#### Neige totale sur le sol annuelle"
   ]
  },
  {
   "cell_type": "code",
   "execution_count": 10,
   "id": "63426a4a",
   "metadata": {},
   "outputs": [
    {
     "data": {
      "text/html": [
       "<div class=\"data-frame\"><p>23 rows × 2 columns</p><table class=\"data-frame\"><thead><tr><th></th><th>Année</th><th>Neige_totale_au_sol</th></tr><tr><th></th><th title=\"Int64\">Int64</th><th title=\"Int64\">Int64</th></tr></thead><tbody><tr><th>1</th><td>1999</td><td>2</td></tr><tr><th>2</th><td>2000</td><td>13</td></tr><tr><th>3</th><td>2001</td><td>2</td></tr><tr><th>4</th><td>2002</td><td>68</td></tr><tr><th>5</th><td>2003</td><td>1</td></tr><tr><th>6</th><td>2004</td><td>0</td></tr><tr><th>7</th><td>2005</td><td>20</td></tr><tr><th>8</th><td>2006</td><td>0</td></tr><tr><th>9</th><td>2007</td><td>52</td></tr><tr><th>10</th><td>2008</td><td>3</td></tr><tr><th>11</th><td>2009</td><td>1</td></tr><tr><th>12</th><td>2010</td><td>0</td></tr><tr><th>13</th><td>2011</td><td>12</td></tr><tr><th>14</th><td>2012</td><td>0</td></tr><tr><th>15</th><td>2014</td><td>19</td></tr><tr><th>16</th><td>2015</td><td>1</td></tr><tr><th>17</th><td>2016</td><td>17</td></tr><tr><th>18</th><td>2017</td><td>8</td></tr><tr><th>19</th><td>2018</td><td>58</td></tr><tr><th>20</th><td>2019</td><td>47</td></tr><tr><th>21</th><td>2020</td><td>13</td></tr><tr><th>22</th><td>2021</td><td>6</td></tr><tr><th>23</th><td>2013</td><td>0</td></tr></tbody></table></div>"
      ],
      "text/latex": [
       "\\begin{tabular}{r|cc}\n",
       "\t& Année & Neige\\_totale\\_au\\_sol\\\\\n",
       "\t\\hline\n",
       "\t& Int64 & Int64\\\\\n",
       "\t\\hline\n",
       "\t1 & 1999 & 2 \\\\\n",
       "\t2 & 2000 & 13 \\\\\n",
       "\t3 & 2001 & 2 \\\\\n",
       "\t4 & 2002 & 68 \\\\\n",
       "\t5 & 2003 & 1 \\\\\n",
       "\t6 & 2004 & 0 \\\\\n",
       "\t7 & 2005 & 20 \\\\\n",
       "\t8 & 2006 & 0 \\\\\n",
       "\t9 & 2007 & 52 \\\\\n",
       "\t10 & 2008 & 3 \\\\\n",
       "\t11 & 2009 & 1 \\\\\n",
       "\t12 & 2010 & 0 \\\\\n",
       "\t13 & 2011 & 12 \\\\\n",
       "\t14 & 2012 & 0 \\\\\n",
       "\t15 & 2014 & 19 \\\\\n",
       "\t16 & 2015 & 1 \\\\\n",
       "\t17 & 2016 & 17 \\\\\n",
       "\t18 & 2017 & 8 \\\\\n",
       "\t19 & 2018 & 58 \\\\\n",
       "\t20 & 2019 & 47 \\\\\n",
       "\t21 & 2020 & 13 \\\\\n",
       "\t22 & 2021 & 6 \\\\\n",
       "\t23 & 2013 & 0 \\\\\n",
       "\\end{tabular}\n"
      ],
      "text/plain": [
       "\u001b[1m23×2 DataFrame\u001b[0m\n",
       "\u001b[1m Row \u001b[0m│\u001b[1m Année \u001b[0m\u001b[1m Neige_totale_au_sol \u001b[0m\n",
       "\u001b[1m     \u001b[0m│\u001b[90m Int64 \u001b[0m\u001b[90m Int64               \u001b[0m\n",
       "─────┼────────────────────────────\n",
       "   1 │  1999                    2\n",
       "   2 │  2000                   13\n",
       "   3 │  2001                    2\n",
       "   4 │  2002                   68\n",
       "   5 │  2003                    1\n",
       "   6 │  2004                    0\n",
       "   7 │  2005                   20\n",
       "   8 │  2006                    0\n",
       "   9 │  2007                   52\n",
       "  10 │  2008                    3\n",
       "  11 │  2009                    1\n",
       "  12 │  2010                    0\n",
       "  13 │  2011                   12\n",
       "  14 │  2012                    0\n",
       "  15 │  2014                   19\n",
       "  16 │  2015                    1\n",
       "  17 │  2016                   17\n",
       "  18 │  2017                    8\n",
       "  19 │  2018                   58\n",
       "  20 │  2019                   47\n",
       "  21 │  2020                   13\n",
       "  22 │  2021                    6\n",
       "  23 │  2013                    0"
      ]
     },
     "execution_count": 10,
     "metadata": {},
     "output_type": "execute_result"
    }
   ],
   "source": [
    "NeigeSol = CSV.read(\"data/meteo.csv\", DataFrame)\n",
    "rename!(NeigeSol, \"Date/Time\" => \"Année\") #Changer le nom pour simplifier la lecture \n",
    "\n",
    "#sélection des données durant la saison de chase\n",
    "NeigeSol = NeigeSol[[10 <= Dates.month(NeigeSol.Année[i]) <= 11 for i in 1:length(NeigeSol.Année)], :]\n",
    "\n",
    "NeigeSol[!,\"Année\"] = [item == item ? Dates.year(item) : \"\" for item in NeigeSol[!,\"Année\"]]\n",
    "# On remplace les données manquantes par 0\n",
    "    n = length(NeigeSol[!, \"Snow on Grnd (cm)\"])\n",
    "    for i = 1:n\n",
    "        NeigeSol[!, \"Snow on Grnd (cm)\"][i] = NeigeSol[!, \"Snow on Grnd (cm)\"][i] !== missing ?  NeigeSol[!, \"Snow on Grnd (cm)\"][i] : 0.0\n",
    "    end\n",
    "NeigeSolAn = combine(groupby(NeigeSol, :Année), :\"Snow on Grnd (cm)\" => sum => :\"Neige_totale_au_sol\")\n",
    "push!(NeigeSolAn, [2013, 0.0])"
   ]
  },
  {
   "cell_type": "markdown",
   "id": "f1577ca2",
   "metadata": {},
   "source": [
    "#### Nombre de jours ayant de la neige au sol dans l'année"
   ]
  },
  {
   "cell_type": "code",
   "execution_count": 11,
   "id": "891bb12e",
   "metadata": {},
   "outputs": [
    {
     "data": {
      "text/html": [
       "<div class=\"data-frame\"><p>23 rows × 2 columns</p><table class=\"data-frame\"><thead><tr><th></th><th>Année</th><th>Jours_neige_au_sol</th></tr><tr><th></th><th title=\"Int64\">Int64</th><th title=\"Int64\">Int64</th></tr></thead><tbody><tr><th>1</th><td>1999</td><td>1</td></tr><tr><th>2</th><td>2000</td><td>5</td></tr><tr><th>3</th><td>2001</td><td>1</td></tr><tr><th>4</th><td>2002</td><td>14</td></tr><tr><th>5</th><td>2003</td><td>1</td></tr><tr><th>6</th><td>2004</td><td>0</td></tr><tr><th>7</th><td>2005</td><td>6</td></tr><tr><th>8</th><td>2006</td><td>0</td></tr><tr><th>9</th><td>2007</td><td>9</td></tr><tr><th>10</th><td>2008</td><td>1</td></tr><tr><th>11</th><td>2009</td><td>1</td></tr><tr><th>12</th><td>2010</td><td>0</td></tr><tr><th>13</th><td>2011</td><td>2</td></tr><tr><th>14</th><td>2012</td><td>0</td></tr><tr><th>15</th><td>2014</td><td>6</td></tr><tr><th>16</th><td>2015</td><td>1</td></tr><tr><th>17</th><td>2016</td><td>6</td></tr><tr><th>18</th><td>2017</td><td>5</td></tr><tr><th>19</th><td>2018</td><td>13</td></tr><tr><th>20</th><td>2019</td><td>12</td></tr><tr><th>21</th><td>2020</td><td>4</td></tr><tr><th>22</th><td>2021</td><td>3</td></tr><tr><th>23</th><td>2013</td><td>0</td></tr></tbody></table></div>"
      ],
      "text/latex": [
       "\\begin{tabular}{r|cc}\n",
       "\t& Année & Jours\\_neige\\_au\\_sol\\\\\n",
       "\t\\hline\n",
       "\t& Int64 & Int64\\\\\n",
       "\t\\hline\n",
       "\t1 & 1999 & 1 \\\\\n",
       "\t2 & 2000 & 5 \\\\\n",
       "\t3 & 2001 & 1 \\\\\n",
       "\t4 & 2002 & 14 \\\\\n",
       "\t5 & 2003 & 1 \\\\\n",
       "\t6 & 2004 & 0 \\\\\n",
       "\t7 & 2005 & 6 \\\\\n",
       "\t8 & 2006 & 0 \\\\\n",
       "\t9 & 2007 & 9 \\\\\n",
       "\t10 & 2008 & 1 \\\\\n",
       "\t11 & 2009 & 1 \\\\\n",
       "\t12 & 2010 & 0 \\\\\n",
       "\t13 & 2011 & 2 \\\\\n",
       "\t14 & 2012 & 0 \\\\\n",
       "\t15 & 2014 & 6 \\\\\n",
       "\t16 & 2015 & 1 \\\\\n",
       "\t17 & 2016 & 6 \\\\\n",
       "\t18 & 2017 & 5 \\\\\n",
       "\t19 & 2018 & 13 \\\\\n",
       "\t20 & 2019 & 12 \\\\\n",
       "\t21 & 2020 & 4 \\\\\n",
       "\t22 & 2021 & 3 \\\\\n",
       "\t23 & 2013 & 0 \\\\\n",
       "\\end{tabular}\n"
      ],
      "text/plain": [
       "\u001b[1m23×2 DataFrame\u001b[0m\n",
       "\u001b[1m Row \u001b[0m│\u001b[1m Année \u001b[0m\u001b[1m Jours_neige_au_sol \u001b[0m\n",
       "\u001b[1m     \u001b[0m│\u001b[90m Int64 \u001b[0m\u001b[90m Int64              \u001b[0m\n",
       "─────┼───────────────────────────\n",
       "   1 │  1999                   1\n",
       "   2 │  2000                   5\n",
       "   3 │  2001                   1\n",
       "   4 │  2002                  14\n",
       "   5 │  2003                   1\n",
       "   6 │  2004                   0\n",
       "   7 │  2005                   6\n",
       "   8 │  2006                   0\n",
       "   9 │  2007                   9\n",
       "  10 │  2008                   1\n",
       "  11 │  2009                   1\n",
       "  12 │  2010                   0\n",
       "  13 │  2011                   2\n",
       "  14 │  2012                   0\n",
       "  15 │  2014                   6\n",
       "  16 │  2015                   1\n",
       "  17 │  2016                   6\n",
       "  18 │  2017                   5\n",
       "  19 │  2018                  13\n",
       "  20 │  2019                  12\n",
       "  21 │  2020                   4\n",
       "  22 │  2021                   3\n",
       "  23 │  2013                   0"
      ]
     },
     "execution_count": 11,
     "metadata": {},
     "output_type": "execute_result"
    }
   ],
   "source": [
    "JourNeigeSol = CSV.read(\"data/meteo.csv\", DataFrame)\n",
    "rename!(JourNeigeSol, \"Date/Time\" => \"Année\") #Changer le nom pour simplifier la lecture \n",
    "\n",
    "#sélection des données durant la saison de chase\n",
    "JourNeigeSol = JourNeigeSol[[10 <= Dates.month(JourNeigeSol.Année[i]) <= 11 for i in 1:length(JourNeigeSol.Année)], :]\n",
    "\n",
    "JourNeigeSol[!,\"Année\"] = [item == item ? Dates.year(item) : \"\" for item in JourNeigeSol[!,\"Année\"]]\n",
    "# On remplace les jours où on a une donnée  par 1.0, pour signifier qu'il a de la neige au sol \n",
    "    n = length(JourNeigeSol[!, \"Snow on Grnd (cm)\"])\n",
    "    for i = 1:n\n",
    "        JourNeigeSol[!, \"Snow on Grnd (cm)\"][i] = JourNeigeSol[!, \"Snow on Grnd (cm)\"][i] !== missing ?  JourNeigeSol[!, \"Snow on Grnd (cm)\"][i] : 0\n",
    "        JourNeigeSol[!, \"Snow on Grnd (cm)\"][i] = JourNeigeSol[!, \"Snow on Grnd (cm)\"][i] !== 0 ?  1 : 0\n",
    "    end\n",
    "JourNeigeSolAn = combine(groupby(JourNeigeSol, :Année), :\"Snow on Grnd (cm)\" => sum => :\"Jours_neige_au_sol\")\n",
    "push!(JourNeigeSolAn, [2013, 0.0])"
   ]
  },
  {
   "cell_type": "markdown",
   "id": "8a10c898",
   "metadata": {},
   "source": [
    "#### Nombre de jours où il a plu dans l'année"
   ]
  },
  {
   "cell_type": "code",
   "execution_count": 12,
   "id": "25999575",
   "metadata": {},
   "outputs": [
    {
     "data": {
      "text/html": [
       "<div class=\"data-frame\"><p>23 rows × 2 columns</p><table class=\"data-frame\"><thead><tr><th></th><th>Année</th><th>Jours_de_pluie</th></tr><tr><th></th><th title=\"Int64\">Int64</th><th title=\"Float64\">Float64</th></tr></thead><tbody><tr><th>1</th><td>1999</td><td>26.0</td></tr><tr><th>2</th><td>2000</td><td>19.0</td></tr><tr><th>3</th><td>2001</td><td>33.0</td></tr><tr><th>4</th><td>2002</td><td>22.0</td></tr><tr><th>5</th><td>2003</td><td>25.0</td></tr><tr><th>6</th><td>2004</td><td>20.0</td></tr><tr><th>7</th><td>2005</td><td>31.0</td></tr><tr><th>8</th><td>2006</td><td>33.0</td></tr><tr><th>9</th><td>2007</td><td>24.0</td></tr><tr><th>10</th><td>2008</td><td>22.0</td></tr><tr><th>11</th><td>2009</td><td>25.0</td></tr><tr><th>12</th><td>2010</td><td>26.0</td></tr><tr><th>13</th><td>2011</td><td>22.0</td></tr><tr><th>14</th><td>2012</td><td>22.0</td></tr><tr><th>15</th><td>2014</td><td>27.0</td></tr><tr><th>16</th><td>2015</td><td>22.0</td></tr><tr><th>17</th><td>2016</td><td>26.0</td></tr><tr><th>18</th><td>2017</td><td>26.0</td></tr><tr><th>19</th><td>2018</td><td>30.0</td></tr><tr><th>20</th><td>2019</td><td>24.0</td></tr><tr><th>21</th><td>2020</td><td>23.0</td></tr><tr><th>22</th><td>2021</td><td>26.0</td></tr><tr><th>23</th><td>2013</td><td>0.0</td></tr></tbody></table></div>"
      ],
      "text/latex": [
       "\\begin{tabular}{r|cc}\n",
       "\t& Année & Jours\\_de\\_pluie\\\\\n",
       "\t\\hline\n",
       "\t& Int64 & Float64\\\\\n",
       "\t\\hline\n",
       "\t1 & 1999 & 26.0 \\\\\n",
       "\t2 & 2000 & 19.0 \\\\\n",
       "\t3 & 2001 & 33.0 \\\\\n",
       "\t4 & 2002 & 22.0 \\\\\n",
       "\t5 & 2003 & 25.0 \\\\\n",
       "\t6 & 2004 & 20.0 \\\\\n",
       "\t7 & 2005 & 31.0 \\\\\n",
       "\t8 & 2006 & 33.0 \\\\\n",
       "\t9 & 2007 & 24.0 \\\\\n",
       "\t10 & 2008 & 22.0 \\\\\n",
       "\t11 & 2009 & 25.0 \\\\\n",
       "\t12 & 2010 & 26.0 \\\\\n",
       "\t13 & 2011 & 22.0 \\\\\n",
       "\t14 & 2012 & 22.0 \\\\\n",
       "\t15 & 2014 & 27.0 \\\\\n",
       "\t16 & 2015 & 22.0 \\\\\n",
       "\t17 & 2016 & 26.0 \\\\\n",
       "\t18 & 2017 & 26.0 \\\\\n",
       "\t19 & 2018 & 30.0 \\\\\n",
       "\t20 & 2019 & 24.0 \\\\\n",
       "\t21 & 2020 & 23.0 \\\\\n",
       "\t22 & 2021 & 26.0 \\\\\n",
       "\t23 & 2013 & 0.0 \\\\\n",
       "\\end{tabular}\n"
      ],
      "text/plain": [
       "\u001b[1m23×2 DataFrame\u001b[0m\n",
       "\u001b[1m Row \u001b[0m│\u001b[1m Année \u001b[0m\u001b[1m Jours_de_pluie \u001b[0m\n",
       "\u001b[1m     \u001b[0m│\u001b[90m Int64 \u001b[0m\u001b[90m Float64        \u001b[0m\n",
       "─────┼───────────────────────\n",
       "   1 │  1999            26.0\n",
       "   2 │  2000            19.0\n",
       "   3 │  2001            33.0\n",
       "   4 │  2002            22.0\n",
       "   5 │  2003            25.0\n",
       "   6 │  2004            20.0\n",
       "   7 │  2005            31.0\n",
       "   8 │  2006            33.0\n",
       "   9 │  2007            24.0\n",
       "  10 │  2008            22.0\n",
       "  11 │  2009            25.0\n",
       "  12 │  2010            26.0\n",
       "  13 │  2011            22.0\n",
       "  14 │  2012            22.0\n",
       "  15 │  2014            27.0\n",
       "  16 │  2015            22.0\n",
       "  17 │  2016            26.0\n",
       "  18 │  2017            26.0\n",
       "  19 │  2018            30.0\n",
       "  20 │  2019            24.0\n",
       "  21 │  2020            23.0\n",
       "  22 │  2021            26.0\n",
       "  23 │  2013             0.0"
      ]
     },
     "execution_count": 12,
     "metadata": {},
     "output_type": "execute_result"
    }
   ],
   "source": [
    "JourPluie = CSV.read(\"data/meteo.csv\", DataFrame)\n",
    "rename!(JourPluie, \"Date/Time\" => \"Année\") #Changer le nom pour simplifier la lecture \n",
    "\n",
    "#sélection des données durant la saison de chase\n",
    "JourPluie = JourPluie[[10 <= Dates.month(JourPluie.Année[i]) <= 11 for i in 1:length(JourPluie.Année)], :]\n",
    "\n",
    "JourPluie[!,\"Année\"] = [item == item ? Dates.year(item) : \"\" for item in JourPluie[!,\"Année\"]]\n",
    "# On remplace les jours où on a une donnée  par 1.0, pour signifier qu'il a de la pluie \n",
    "    n = length(JourPluie[!, \"Total Rain (mm)\"])\n",
    "    for i = 1:n\n",
    "        JourPluie[!, \"Total Rain (mm)\"][i] = JourPluie[!, \"Total Rain (mm)\"][i] !== missing ?  JourPluie[!, \"Total Rain (mm)\"][i] : 0\n",
    "        JourPluie[!, \"Total Rain (mm)\"][i] = JourPluie[!, \"Total Rain (mm)\"][i] !== 0.0 ?  1.0 : 0.0\n",
    "    end\n",
    "JourPluieAn = combine(groupby(JourPluie, :Année), :\"Total Rain (mm)\" => sum => :\"Jours_de_pluie\")\n",
    "push!(JourPluieAn, [2013, 0.0])"
   ]
  },
  {
   "cell_type": "markdown",
   "id": "a31ca036",
   "metadata": {},
   "source": [
    "#### Nombre de jours où il a neigé dans l'année"
   ]
  },
  {
   "cell_type": "code",
   "execution_count": 13,
   "id": "2d431c15",
   "metadata": {},
   "outputs": [
    {
     "data": {
      "text/html": [
       "<div class=\"data-frame\"><p>23 rows × 2 columns</p><table class=\"data-frame\"><thead><tr><th></th><th>Année</th><th>Jours_de_neige</th></tr><tr><th></th><th title=\"Int64\">Int64</th><th title=\"Float64\">Float64</th></tr></thead><tbody><tr><th>1</th><td>1999</td><td>3.0</td></tr><tr><th>2</th><td>2000</td><td>7.0</td></tr><tr><th>3</th><td>2001</td><td>1.0</td></tr><tr><th>4</th><td>2002</td><td>14.0</td></tr><tr><th>5</th><td>2003</td><td>3.0</td></tr><tr><th>6</th><td>2004</td><td>1.0</td></tr><tr><th>7</th><td>2005</td><td>7.0</td></tr><tr><th>8</th><td>2006</td><td>0.0</td></tr><tr><th>9</th><td>2007</td><td>8.0</td></tr><tr><th>10</th><td>2008</td><td>8.0</td></tr><tr><th>11</th><td>2009</td><td>3.0</td></tr><tr><th>12</th><td>2010</td><td>4.0</td></tr><tr><th>13</th><td>2011</td><td>1.0</td></tr><tr><th>14</th><td>2012</td><td>1.0</td></tr><tr><th>15</th><td>2014</td><td>7.0</td></tr><tr><th>16</th><td>2015</td><td>3.0</td></tr><tr><th>17</th><td>2016</td><td>5.0</td></tr><tr><th>18</th><td>2017</td><td>5.0</td></tr><tr><th>19</th><td>2018</td><td>11.0</td></tr><tr><th>20</th><td>2019</td><td>8.0</td></tr><tr><th>21</th><td>2020</td><td>3.0</td></tr><tr><th>22</th><td>2021</td><td>2.0</td></tr><tr><th>23</th><td>2013</td><td>0.0</td></tr></tbody></table></div>"
      ],
      "text/latex": [
       "\\begin{tabular}{r|cc}\n",
       "\t& Année & Jours\\_de\\_neige\\\\\n",
       "\t\\hline\n",
       "\t& Int64 & Float64\\\\\n",
       "\t\\hline\n",
       "\t1 & 1999 & 3.0 \\\\\n",
       "\t2 & 2000 & 7.0 \\\\\n",
       "\t3 & 2001 & 1.0 \\\\\n",
       "\t4 & 2002 & 14.0 \\\\\n",
       "\t5 & 2003 & 3.0 \\\\\n",
       "\t6 & 2004 & 1.0 \\\\\n",
       "\t7 & 2005 & 7.0 \\\\\n",
       "\t8 & 2006 & 0.0 \\\\\n",
       "\t9 & 2007 & 8.0 \\\\\n",
       "\t10 & 2008 & 8.0 \\\\\n",
       "\t11 & 2009 & 3.0 \\\\\n",
       "\t12 & 2010 & 4.0 \\\\\n",
       "\t13 & 2011 & 1.0 \\\\\n",
       "\t14 & 2012 & 1.0 \\\\\n",
       "\t15 & 2014 & 7.0 \\\\\n",
       "\t16 & 2015 & 3.0 \\\\\n",
       "\t17 & 2016 & 5.0 \\\\\n",
       "\t18 & 2017 & 5.0 \\\\\n",
       "\t19 & 2018 & 11.0 \\\\\n",
       "\t20 & 2019 & 8.0 \\\\\n",
       "\t21 & 2020 & 3.0 \\\\\n",
       "\t22 & 2021 & 2.0 \\\\\n",
       "\t23 & 2013 & 0.0 \\\\\n",
       "\\end{tabular}\n"
      ],
      "text/plain": [
       "\u001b[1m23×2 DataFrame\u001b[0m\n",
       "\u001b[1m Row \u001b[0m│\u001b[1m Année \u001b[0m\u001b[1m Jours_de_neige \u001b[0m\n",
       "\u001b[1m     \u001b[0m│\u001b[90m Int64 \u001b[0m\u001b[90m Float64        \u001b[0m\n",
       "─────┼───────────────────────\n",
       "   1 │  1999             3.0\n",
       "   2 │  2000             7.0\n",
       "   3 │  2001             1.0\n",
       "   4 │  2002            14.0\n",
       "   5 │  2003             3.0\n",
       "   6 │  2004             1.0\n",
       "   7 │  2005             7.0\n",
       "   8 │  2006             0.0\n",
       "   9 │  2007             8.0\n",
       "  10 │  2008             8.0\n",
       "  11 │  2009             3.0\n",
       "  12 │  2010             4.0\n",
       "  13 │  2011             1.0\n",
       "  14 │  2012             1.0\n",
       "  15 │  2014             7.0\n",
       "  16 │  2015             3.0\n",
       "  17 │  2016             5.0\n",
       "  18 │  2017             5.0\n",
       "  19 │  2018            11.0\n",
       "  20 │  2019             8.0\n",
       "  21 │  2020             3.0\n",
       "  22 │  2021             2.0\n",
       "  23 │  2013             0.0"
      ]
     },
     "execution_count": 13,
     "metadata": {},
     "output_type": "execute_result"
    }
   ],
   "source": [
    "JourNeige = CSV.read(\"data/meteo.csv\", DataFrame)\n",
    "rename!(JourNeige, \"Date/Time\" => \"Année\") #Changer le nom pour simplifier la lecture \n",
    "\n",
    "#sélection des données durant la saison de chase\n",
    "JourNeige = JourNeige[[10 <= Dates.month(JourNeige.Année[i]) <= 11 for i in 1:length(JourNeige.Année)], :]\n",
    "\n",
    "JourNeige[!,\"Année\"] = [item == item ? Dates.year(item) : \"\" for item in JourNeige[!,\"Année\"]]\n",
    "# On remplace les jours où on a une donnée  par 1.0, pour signifier qu'il a de la neige \n",
    "    n = length(JourNeige[!, \"Total Snow (cm)\"])\n",
    "    for i = 1:n\n",
    "        JourNeige[!, \"Total Snow (cm)\"][i] = JourNeige[!, \"Total Snow (cm)\"][i] !== missing ?  JourNeige[!, \"Total Snow (cm)\"][i] : 0\n",
    "        JourNeige[!, \"Total Snow (cm)\"][i] = JourNeige[!, \"Total Snow (cm)\"][i] !== 0.0 ?  1.0 : 0.0\n",
    "    end\n",
    "JourNeigeAn = combine(groupby(JourNeige, :Année), :\"Total Snow (cm)\" => sum => :\"Jours_de_neige\")\n",
    "push!(JourNeigeAn, [2013, 0.0])"
   ]
  },
  {
   "cell_type": "markdown",
   "id": "c24d6ad8",
   "metadata": {},
   "source": [
    "#### Prix moyen de l'essence annuelle à Montréal"
   ]
  },
  {
   "cell_type": "code",
   "execution_count": 14,
   "id": "44c4f7b0",
   "metadata": {},
   "outputs": [
    {
     "data": {
      "text/html": [
       "<div class=\"data-frame\"><p>25 rows × 2 columns</p><table class=\"data-frame\"><thead><tr><th></th><th>Année</th><th>Prix_moyen_Montréal</th></tr><tr><th></th><th title=\"Int64\">Int64</th><th title=\"Float64\">Float64</th></tr></thead><tbody><tr><th>1</th><td>1997</td><td>61.15</td></tr><tr><th>2</th><td>1998</td><td>55.95</td></tr><tr><th>3</th><td>1999</td><td>68.75</td></tr><tr><th>4</th><td>2000</td><td>81.05</td></tr><tr><th>5</th><td>2001</td><td>65.65</td></tr><tr><th>6</th><td>2002</td><td>75.3</td></tr><tr><th>7</th><td>2003</td><td>73.5</td></tr><tr><th>8</th><td>2004</td><td>88.85</td></tr><tr><th>9</th><td>2005</td><td>98.9</td></tr><tr><th>10</th><td>2006</td><td>89.8</td></tr><tr><th>11</th><td>2007</td><td>104.2</td></tr><tr><th>12</th><td>2008</td><td>99.15</td></tr><tr><th>13</th><td>2009</td><td>102.8</td></tr><tr><th>14</th><td>2010</td><td>112.6</td></tr><tr><th>15</th><td>2011</td><td>130.7</td></tr><tr><th>16</th><td>2012</td><td>136.6</td></tr><tr><th>17</th><td>2013</td><td>132.65</td></tr><tr><th>18</th><td>2014</td><td>129.25</td></tr><tr><th>19</th><td>2015</td><td>111.35</td></tr><tr><th>20</th><td>2016</td><td>113.5</td></tr><tr><th>21</th><td>2017</td><td>123.1</td></tr><tr><th>22</th><td>2018</td><td>124.35</td></tr><tr><th>23</th><td>2019</td><td>123.55</td></tr><tr><th>24</th><td>2020</td><td>105.1</td></tr><tr><th>25</th><td>2021</td><td>151.85</td></tr></tbody></table></div>"
      ],
      "text/latex": [
       "\\begin{tabular}{r|cc}\n",
       "\t& Année & Prix\\_moyen\\_Montréal\\\\\n",
       "\t\\hline\n",
       "\t& Int64 & Float64\\\\\n",
       "\t\\hline\n",
       "\t1 & 1997 & 61.15 \\\\\n",
       "\t2 & 1998 & 55.95 \\\\\n",
       "\t3 & 1999 & 68.75 \\\\\n",
       "\t4 & 2000 & 81.05 \\\\\n",
       "\t5 & 2001 & 65.65 \\\\\n",
       "\t6 & 2002 & 75.3 \\\\\n",
       "\t7 & 2003 & 73.5 \\\\\n",
       "\t8 & 2004 & 88.85 \\\\\n",
       "\t9 & 2005 & 98.9 \\\\\n",
       "\t10 & 2006 & 89.8 \\\\\n",
       "\t11 & 2007 & 104.2 \\\\\n",
       "\t12 & 2008 & 99.15 \\\\\n",
       "\t13 & 2009 & 102.8 \\\\\n",
       "\t14 & 2010 & 112.6 \\\\\n",
       "\t15 & 2011 & 130.7 \\\\\n",
       "\t16 & 2012 & 136.6 \\\\\n",
       "\t17 & 2013 & 132.65 \\\\\n",
       "\t18 & 2014 & 129.25 \\\\\n",
       "\t19 & 2015 & 111.35 \\\\\n",
       "\t20 & 2016 & 113.5 \\\\\n",
       "\t21 & 2017 & 123.1 \\\\\n",
       "\t22 & 2018 & 124.35 \\\\\n",
       "\t23 & 2019 & 123.55 \\\\\n",
       "\t24 & 2020 & 105.1 \\\\\n",
       "\t25 & 2021 & 151.85 \\\\\n",
       "\\end{tabular}\n"
      ],
      "text/plain": [
       "\u001b[1m25×2 DataFrame\u001b[0m\n",
       "\u001b[1m Row \u001b[0m│\u001b[1m Année \u001b[0m\u001b[1m Prix_moyen_Montréal \u001b[0m\n",
       "\u001b[1m     \u001b[0m│\u001b[90m Int64 \u001b[0m\u001b[90m Float64             \u001b[0m\n",
       "─────┼────────────────────────────\n",
       "   1 │  1997                61.15\n",
       "   2 │  1998                55.95\n",
       "   3 │  1999                68.75\n",
       "   4 │  2000                81.05\n",
       "   5 │  2001                65.65\n",
       "   6 │  2002                75.3\n",
       "   7 │  2003                73.5\n",
       "   8 │  2004                88.85\n",
       "   9 │  2005                98.9\n",
       "  10 │  2006                89.8\n",
       "  11 │  2007               104.2\n",
       "  ⋮  │   ⋮             ⋮\n",
       "  16 │  2012               136.6\n",
       "  17 │  2013               132.65\n",
       "  18 │  2014               129.25\n",
       "  19 │  2015               111.35\n",
       "  20 │  2016               113.5\n",
       "  21 │  2017               123.1\n",
       "  22 │  2018               124.35\n",
       "  23 │  2019               123.55\n",
       "  24 │  2020               105.1\n",
       "  25 │  2021               151.85\n",
       "\u001b[36m                    4 rows omitted\u001b[0m"
      ]
     },
     "execution_count": 14,
     "metadata": {},
     "output_type": "execute_result"
    }
   ],
   "source": [
    "essence = CSV.read(\"data/essence.csv\", DataFrame)\n",
    "rename!(essence, \"Mois\" => \"Année\")\n",
    "\n",
    "#sélection des données durant la saison de chase\n",
    "essence = essence[[10 <= Dates.month(essence.Année[i]) <= 11 for i in 1:length(essence.Année)], :]\n",
    "\n",
    "essence[!,\"Année\"] = [item == item ? Dates.year(item) : \"\" for item in essence[!,\"Année\"]]\n",
    "essenceMtlMoyAn = DataFrame(Année = essence.Année, Montréal = essence.Montréal)\n",
    "essenceMtlMoyAn = combine(groupby(essenceMtlMoyAn, :Année), :\"Montréal\" => mean∘skipmissing => :\"Prix_moyen_Montréal\")\n"
   ]
  },
  {
   "cell_type": "markdown",
   "id": "7b5ae859",
   "metadata": {},
   "source": [
    "#### Prix moyen de l'essence annuelle à Québec"
   ]
  },
  {
   "cell_type": "code",
   "execution_count": 15,
   "id": "bfae6b11",
   "metadata": {},
   "outputs": [
    {
     "data": {
      "text/html": [
       "<div class=\"data-frame\"><p>25 rows × 2 columns</p><table class=\"data-frame\"><thead><tr><th></th><th>Année</th><th>Prix_moyen_Québec</th></tr><tr><th></th><th title=\"Int64\">Int64</th><th title=\"Float64\">Float64</th></tr></thead><tbody><tr><th>1</th><td>1997</td><td>60.65</td></tr><tr><th>2</th><td>1998</td><td>56.3</td></tr><tr><th>3</th><td>1999</td><td>67.9</td></tr><tr><th>4</th><td>2000</td><td>75.15</td></tr><tr><th>5</th><td>2001</td><td>67.9</td></tr><tr><th>6</th><td>2002</td><td>75.7</td></tr><tr><th>7</th><td>2003</td><td>74.0</td></tr><tr><th>8</th><td>2004</td><td>89.4</td></tr><tr><th>9</th><td>2005</td><td>101.15</td></tr><tr><th>10</th><td>2006</td><td>88.25</td></tr><tr><th>11</th><td>2007</td><td>105.25</td></tr><tr><th>12</th><td>2008</td><td>104.1</td></tr><tr><th>13</th><td>2009</td><td>100.8</td></tr><tr><th>14</th><td>2010</td><td>109.55</td></tr><tr><th>15</th><td>2011</td><td>129.05</td></tr><tr><th>16</th><td>2012</td><td>135.2</td></tr><tr><th>17</th><td>2013</td><td>130.55</td></tr><tr><th>18</th><td>2014</td><td>124.75</td></tr><tr><th>19</th><td>2015</td><td>104.1</td></tr><tr><th>20</th><td>2016</td><td>105.2</td></tr><tr><th>21</th><td>2017</td><td>115.6</td></tr><tr><th>22</th><td>2018</td><td>121.3</td></tr><tr><th>23</th><td>2019</td><td>115.95</td></tr><tr><th>24</th><td>2020</td><td>102.05</td></tr><tr><th>25</th><td>2021</td><td>152.6</td></tr></tbody></table></div>"
      ],
      "text/latex": [
       "\\begin{tabular}{r|cc}\n",
       "\t& Année & Prix\\_moyen\\_Québec\\\\\n",
       "\t\\hline\n",
       "\t& Int64 & Float64\\\\\n",
       "\t\\hline\n",
       "\t1 & 1997 & 60.65 \\\\\n",
       "\t2 & 1998 & 56.3 \\\\\n",
       "\t3 & 1999 & 67.9 \\\\\n",
       "\t4 & 2000 & 75.15 \\\\\n",
       "\t5 & 2001 & 67.9 \\\\\n",
       "\t6 & 2002 & 75.7 \\\\\n",
       "\t7 & 2003 & 74.0 \\\\\n",
       "\t8 & 2004 & 89.4 \\\\\n",
       "\t9 & 2005 & 101.15 \\\\\n",
       "\t10 & 2006 & 88.25 \\\\\n",
       "\t11 & 2007 & 105.25 \\\\\n",
       "\t12 & 2008 & 104.1 \\\\\n",
       "\t13 & 2009 & 100.8 \\\\\n",
       "\t14 & 2010 & 109.55 \\\\\n",
       "\t15 & 2011 & 129.05 \\\\\n",
       "\t16 & 2012 & 135.2 \\\\\n",
       "\t17 & 2013 & 130.55 \\\\\n",
       "\t18 & 2014 & 124.75 \\\\\n",
       "\t19 & 2015 & 104.1 \\\\\n",
       "\t20 & 2016 & 105.2 \\\\\n",
       "\t21 & 2017 & 115.6 \\\\\n",
       "\t22 & 2018 & 121.3 \\\\\n",
       "\t23 & 2019 & 115.95 \\\\\n",
       "\t24 & 2020 & 102.05 \\\\\n",
       "\t25 & 2021 & 152.6 \\\\\n",
       "\\end{tabular}\n"
      ],
      "text/plain": [
       "\u001b[1m25×2 DataFrame\u001b[0m\n",
       "\u001b[1m Row \u001b[0m│\u001b[1m Année \u001b[0m\u001b[1m Prix_moyen_Québec \u001b[0m\n",
       "\u001b[1m     \u001b[0m│\u001b[90m Int64 \u001b[0m\u001b[90m Float64           \u001b[0m\n",
       "─────┼──────────────────────────\n",
       "   1 │  1997              60.65\n",
       "   2 │  1998              56.3\n",
       "   3 │  1999              67.9\n",
       "   4 │  2000              75.15\n",
       "   5 │  2001              67.9\n",
       "   6 │  2002              75.7\n",
       "   7 │  2003              74.0\n",
       "   8 │  2004              89.4\n",
       "   9 │  2005             101.15\n",
       "  10 │  2006              88.25\n",
       "  11 │  2007             105.25\n",
       "  ⋮  │   ⋮            ⋮\n",
       "  16 │  2012             135.2\n",
       "  17 │  2013             130.55\n",
       "  18 │  2014             124.75\n",
       "  19 │  2015             104.1\n",
       "  20 │  2016             105.2\n",
       "  21 │  2017             115.6\n",
       "  22 │  2018             121.3\n",
       "  23 │  2019             115.95\n",
       "  24 │  2020             102.05\n",
       "  25 │  2021             152.6\n",
       "\u001b[36m                  4 rows omitted\u001b[0m"
      ]
     },
     "execution_count": 15,
     "metadata": {},
     "output_type": "execute_result"
    }
   ],
   "source": [
    "essence = CSV.read(\"data/essence.csv\", DataFrame)\n",
    "rename!(essence, \"Mois\" => \"Année\")\n",
    "\n",
    "#sélection des données durant la saison de chase\n",
    "essence = essence[[10 <= Dates.month(essence.Année[i]) <= 11 for i in 1:length(essence.Année)], :]\n",
    "\n",
    "essence[!,\"Année\"] = [item == item ? Dates.year(item) : \"\" for item in essence[!,\"Année\"]]\n",
    "essenceQcMoyAn = DataFrame(Année = essence.Année, Québec = essence.Québec)\n",
    "essenceQcMoyAn = combine(groupby(essenceQcMoyAn, :Année), :\"Québec\" => mean∘skipmissing => :\"Prix_moyen_Québec\")"
   ]
  },
  {
   "cell_type": "markdown",
   "id": "9793f702",
   "metadata": {},
   "source": [
    "#### Prix moyen de l'essence annuelle à entre Montréal et Québec"
   ]
  },
  {
   "cell_type": "code",
   "execution_count": 16,
   "id": "9b70aae4",
   "metadata": {},
   "outputs": [
    {
     "data": {
      "text/html": [
       "<div class=\"data-frame\"><p>25 rows × 2 columns</p><table class=\"data-frame\"><thead><tr><th></th><th>Année</th><th>Prix_moyen_Essence</th></tr><tr><th></th><th title=\"Int64\">Int64</th><th title=\"Float64\">Float64</th></tr></thead><tbody><tr><th>1</th><td>1997</td><td>60.9</td></tr><tr><th>2</th><td>1998</td><td>56.125</td></tr><tr><th>3</th><td>1999</td><td>68.325</td></tr><tr><th>4</th><td>2000</td><td>78.1</td></tr><tr><th>5</th><td>2001</td><td>66.775</td></tr><tr><th>6</th><td>2002</td><td>75.5</td></tr><tr><th>7</th><td>2003</td><td>73.75</td></tr><tr><th>8</th><td>2004</td><td>89.125</td></tr><tr><th>9</th><td>2005</td><td>100.025</td></tr><tr><th>10</th><td>2006</td><td>89.025</td></tr><tr><th>11</th><td>2007</td><td>104.725</td></tr><tr><th>12</th><td>2008</td><td>101.625</td></tr><tr><th>13</th><td>2009</td><td>101.8</td></tr><tr><th>14</th><td>2010</td><td>111.075</td></tr><tr><th>15</th><td>2011</td><td>129.875</td></tr><tr><th>16</th><td>2012</td><td>135.9</td></tr><tr><th>17</th><td>2013</td><td>131.6</td></tr><tr><th>18</th><td>2014</td><td>127.0</td></tr><tr><th>19</th><td>2015</td><td>107.725</td></tr><tr><th>20</th><td>2016</td><td>109.35</td></tr><tr><th>21</th><td>2017</td><td>119.35</td></tr><tr><th>22</th><td>2018</td><td>122.825</td></tr><tr><th>23</th><td>2019</td><td>119.75</td></tr><tr><th>24</th><td>2020</td><td>103.575</td></tr><tr><th>25</th><td>2021</td><td>152.225</td></tr></tbody></table></div>"
      ],
      "text/latex": [
       "\\begin{tabular}{r|cc}\n",
       "\t& Année & Prix\\_moyen\\_Essence\\\\\n",
       "\t\\hline\n",
       "\t& Int64 & Float64\\\\\n",
       "\t\\hline\n",
       "\t1 & 1997 & 60.9 \\\\\n",
       "\t2 & 1998 & 56.125 \\\\\n",
       "\t3 & 1999 & 68.325 \\\\\n",
       "\t4 & 2000 & 78.1 \\\\\n",
       "\t5 & 2001 & 66.775 \\\\\n",
       "\t6 & 2002 & 75.5 \\\\\n",
       "\t7 & 2003 & 73.75 \\\\\n",
       "\t8 & 2004 & 89.125 \\\\\n",
       "\t9 & 2005 & 100.025 \\\\\n",
       "\t10 & 2006 & 89.025 \\\\\n",
       "\t11 & 2007 & 104.725 \\\\\n",
       "\t12 & 2008 & 101.625 \\\\\n",
       "\t13 & 2009 & 101.8 \\\\\n",
       "\t14 & 2010 & 111.075 \\\\\n",
       "\t15 & 2011 & 129.875 \\\\\n",
       "\t16 & 2012 & 135.9 \\\\\n",
       "\t17 & 2013 & 131.6 \\\\\n",
       "\t18 & 2014 & 127.0 \\\\\n",
       "\t19 & 2015 & 107.725 \\\\\n",
       "\t20 & 2016 & 109.35 \\\\\n",
       "\t21 & 2017 & 119.35 \\\\\n",
       "\t22 & 2018 & 122.825 \\\\\n",
       "\t23 & 2019 & 119.75 \\\\\n",
       "\t24 & 2020 & 103.575 \\\\\n",
       "\t25 & 2021 & 152.225 \\\\\n",
       "\\end{tabular}\n"
      ],
      "text/plain": [
       "\u001b[1m25×2 DataFrame\u001b[0m\n",
       "\u001b[1m Row \u001b[0m│\u001b[1m Année \u001b[0m\u001b[1m Prix_moyen_Essence \u001b[0m\n",
       "\u001b[1m     \u001b[0m│\u001b[90m Int64 \u001b[0m\u001b[90m Float64            \u001b[0m\n",
       "─────┼───────────────────────────\n",
       "   1 │  1997              60.9\n",
       "   2 │  1998              56.125\n",
       "   3 │  1999              68.325\n",
       "   4 │  2000              78.1\n",
       "   5 │  2001              66.775\n",
       "   6 │  2002              75.5\n",
       "   7 │  2003              73.75\n",
       "   8 │  2004              89.125\n",
       "   9 │  2005             100.025\n",
       "  10 │  2006              89.025\n",
       "  11 │  2007             104.725\n",
       "  ⋮  │   ⋮            ⋮\n",
       "  16 │  2012             135.9\n",
       "  17 │  2013             131.6\n",
       "  18 │  2014             127.0\n",
       "  19 │  2015             107.725\n",
       "  20 │  2016             109.35\n",
       "  21 │  2017             119.35\n",
       "  22 │  2018             122.825\n",
       "  23 │  2019             119.75\n",
       "  24 │  2020             103.575\n",
       "  25 │  2021             152.225\n",
       "\u001b[36m                   4 rows omitted\u001b[0m"
      ]
     },
     "execution_count": 16,
     "metadata": {},
     "output_type": "execute_result"
    }
   ],
   "source": [
    "essence = CSV.read(\"data/essence.csv\", DataFrame)\n",
    "rename!(essence, \"Mois\" => \"Année\")\n",
    "\n",
    "#sélection des données durant la saison de chase\n",
    "essence = essence[[10 <= Dates.month(essence.Année[i]) <= 11 for i in 1:length(essence.Année)], :]\n",
    "\n",
    "essence[!,\"Année\"] = [item == item ? Dates.year(item) : \"\" for item in essence[!,\"Année\"]]\n",
    "essenceMoyen = transform(essence, AsTable([\"Québec\", \"Montréal\"]) => ByRow(mean) => :\"Prix moyen de l'essence\")\n",
    "essenceMoyAn = combine(groupby(essenceMoyen, :Année), :\"Prix moyen de l'essence\" => mean∘skipmissing => :\"Prix_moyen_Essence\")\n"
   ]
  },
  {
   "cell_type": "markdown",
   "id": "11bcee3e",
   "metadata": {},
   "source": [
    "#### Construction de la matrice des données annuelles"
   ]
  },
  {
   "cell_type": "code",
   "execution_count": 17,
   "id": "994ee653",
   "metadata": {},
   "outputs": [
    {
     "data": {
      "text/html": [
       "<div class=\"data-frame\"><p>22 rows × 16 columns (omitted printing of 9 columns)</p><table class=\"data-frame\"><thead><tr><th></th><th>Année</th><th>Cerfs</th><th>Température</th><th>Pluie_totale</th><th>Neige_totale</th><th>Neige_totale_au_sol</th><th>Jours_de_pluie</th></tr><tr><th></th><th title=\"Int64\">Int64</th><th title=\"Int64\">Int64</th><th title=\"Float64\">Float64</th><th title=\"Float64\">Float64</th><th title=\"Float64\">Float64</th><th title=\"Int64\">Int64</th><th title=\"Float64\">Float64</th></tr></thead><tbody><tr><th>1</th><td>1999</td><td>30587</td><td>6.36721</td><td>139.7</td><td>5.1</td><td>2</td><td>26.0</td></tr><tr><th>2</th><td>2000</td><td>38737</td><td>5.81311</td><td>79.9</td><td>9.6</td><td>13</td><td>19.0</td></tr><tr><th>3</th><td>2001</td><td>34751</td><td>7.59836</td><td>155.9</td><td>4.6</td><td>2</td><td>33.0</td></tr><tr><th>4</th><td>2002</td><td>38501</td><td>3.94262</td><td>108.9</td><td>63.3</td><td>68</td><td>22.0</td></tr><tr><th>5</th><td>2003</td><td>39544</td><td>5.47705</td><td>287.4</td><td>2.8</td><td>1</td><td>25.0</td></tr><tr><th>6</th><td>2004</td><td>36699</td><td>5.64098</td><td>122.6</td><td>0.4</td><td>0</td><td>20.0</td></tr><tr><th>7</th><td>2005</td><td>33913</td><td>6.53934</td><td>279.8</td><td>13.6</td><td>20</td><td>31.0</td></tr><tr><th>8</th><td>2006</td><td>40908</td><td>6.19508</td><td>250.8</td><td>0.0</td><td>0</td><td>33.0</td></tr><tr><th>9</th><td>2007</td><td>40047</td><td>6.28689</td><td>162.0</td><td>29.0</td><td>52</td><td>24.0</td></tr><tr><th>10</th><td>2008</td><td>31513</td><td>5.29508</td><td>156.6</td><td>15.6</td><td>3</td><td>22.0</td></tr><tr><th>11</th><td>2009</td><td>24141</td><td>5.70492</td><td>161.0</td><td>6.4</td><td>1</td><td>25.0</td></tr><tr><th>12</th><td>2010</td><td>29738</td><td>5.42459</td><td>206.0</td><td>5.6</td><td>0</td><td>26.0</td></tr><tr><th>13</th><td>2011</td><td>28284</td><td>7.63607</td><td>142.6</td><td>8.2</td><td>12</td><td>22.0</td></tr><tr><th>14</th><td>2012</td><td>36220</td><td>5.7541</td><td>108.0</td><td>1.0</td><td>0</td><td>22.0</td></tr><tr><th>15</th><td>2013</td><td>37739</td><td>0.0</td><td>0.0</td><td>0.0</td><td>0</td><td>0.0</td></tr><tr><th>16</th><td>2014</td><td>31953</td><td>6.46393</td><td>120.2</td><td>17.2</td><td>19</td><td>27.0</td></tr><tr><th>17</th><td>2015</td><td>26458</td><td>6.10492</td><td>146.6</td><td>3.2</td><td>1</td><td>22.0</td></tr><tr><th>18</th><td>2016</td><td>31531</td><td>6.87541</td><td>209.4</td><td>10.0</td><td>17</td><td>26.0</td></tr><tr><th>19</th><td>2017</td><td>32039</td><td>6.96393</td><td>202.4</td><td>6.0</td><td>8</td><td>26.0</td></tr><tr><th>20</th><td>2018</td><td>29331</td><td>3.11311</td><td>154.4</td><td>44.0</td><td>58</td><td>30.0</td></tr><tr><th>21</th><td>2019</td><td>26091</td><td>4.28852</td><td>294.4</td><td>31.6</td><td>47</td><td>24.0</td></tr><tr><th>22</th><td>2020</td><td>29661</td><td>6.64918</td><td>150.4</td><td>22.4</td><td>13</td><td>23.0</td></tr></tbody></table></div>"
      ],
      "text/latex": [
       "\\begin{tabular}{r|cccccccc}\n",
       "\t& Année & Cerfs & Température & Pluie\\_totale & Neige\\_totale & Neige\\_totale\\_au\\_sol & Jours\\_de\\_pluie & \\\\\n",
       "\t\\hline\n",
       "\t& Int64 & Int64 & Float64 & Float64 & Float64 & Int64 & Float64 & \\\\\n",
       "\t\\hline\n",
       "\t1 & 1999 & 30587 & 6.36721 & 139.7 & 5.1 & 2 & 26.0 & $\\dots$ \\\\\n",
       "\t2 & 2000 & 38737 & 5.81311 & 79.9 & 9.6 & 13 & 19.0 & $\\dots$ \\\\\n",
       "\t3 & 2001 & 34751 & 7.59836 & 155.9 & 4.6 & 2 & 33.0 & $\\dots$ \\\\\n",
       "\t4 & 2002 & 38501 & 3.94262 & 108.9 & 63.3 & 68 & 22.0 & $\\dots$ \\\\\n",
       "\t5 & 2003 & 39544 & 5.47705 & 287.4 & 2.8 & 1 & 25.0 & $\\dots$ \\\\\n",
       "\t6 & 2004 & 36699 & 5.64098 & 122.6 & 0.4 & 0 & 20.0 & $\\dots$ \\\\\n",
       "\t7 & 2005 & 33913 & 6.53934 & 279.8 & 13.6 & 20 & 31.0 & $\\dots$ \\\\\n",
       "\t8 & 2006 & 40908 & 6.19508 & 250.8 & 0.0 & 0 & 33.0 & $\\dots$ \\\\\n",
       "\t9 & 2007 & 40047 & 6.28689 & 162.0 & 29.0 & 52 & 24.0 & $\\dots$ \\\\\n",
       "\t10 & 2008 & 31513 & 5.29508 & 156.6 & 15.6 & 3 & 22.0 & $\\dots$ \\\\\n",
       "\t11 & 2009 & 24141 & 5.70492 & 161.0 & 6.4 & 1 & 25.0 & $\\dots$ \\\\\n",
       "\t12 & 2010 & 29738 & 5.42459 & 206.0 & 5.6 & 0 & 26.0 & $\\dots$ \\\\\n",
       "\t13 & 2011 & 28284 & 7.63607 & 142.6 & 8.2 & 12 & 22.0 & $\\dots$ \\\\\n",
       "\t14 & 2012 & 36220 & 5.7541 & 108.0 & 1.0 & 0 & 22.0 & $\\dots$ \\\\\n",
       "\t15 & 2013 & 37739 & 0.0 & 0.0 & 0.0 & 0 & 0.0 & $\\dots$ \\\\\n",
       "\t16 & 2014 & 31953 & 6.46393 & 120.2 & 17.2 & 19 & 27.0 & $\\dots$ \\\\\n",
       "\t17 & 2015 & 26458 & 6.10492 & 146.6 & 3.2 & 1 & 22.0 & $\\dots$ \\\\\n",
       "\t18 & 2016 & 31531 & 6.87541 & 209.4 & 10.0 & 17 & 26.0 & $\\dots$ \\\\\n",
       "\t19 & 2017 & 32039 & 6.96393 & 202.4 & 6.0 & 8 & 26.0 & $\\dots$ \\\\\n",
       "\t20 & 2018 & 29331 & 3.11311 & 154.4 & 44.0 & 58 & 30.0 & $\\dots$ \\\\\n",
       "\t21 & 2019 & 26091 & 4.28852 & 294.4 & 31.6 & 47 & 24.0 & $\\dots$ \\\\\n",
       "\t22 & 2020 & 29661 & 6.64918 & 150.4 & 22.4 & 13 & 23.0 & $\\dots$ \\\\\n",
       "\\end{tabular}\n"
      ],
      "text/plain": [
       "\u001b[1m22×16 DataFrame\u001b[0m\n",
       "\u001b[1m Row \u001b[0m│\u001b[1m Année \u001b[0m\u001b[1m Cerfs \u001b[0m\u001b[1m Température \u001b[0m\u001b[1m Pluie_totale \u001b[0m\u001b[1m Neige_totale \u001b[0m\u001b[1m Neige_totale_au_\u001b[0m ⋯\n",
       "\u001b[1m     \u001b[0m│\u001b[90m Int64 \u001b[0m\u001b[90m Int64 \u001b[0m\u001b[90m Float64     \u001b[0m\u001b[90m Float64      \u001b[0m\u001b[90m Float64      \u001b[0m\u001b[90m Int64           \u001b[0m ⋯\n",
       "─────┼──────────────────────────────────────────────────────────────────────────\n",
       "   1 │  1999  30587      6.36721         139.7           5.1                   ⋯\n",
       "   2 │  2000  38737      5.81311          79.9           9.6\n",
       "   3 │  2001  34751      7.59836         155.9           4.6\n",
       "   4 │  2002  38501      3.94262         108.9          63.3\n",
       "   5 │  2003  39544      5.47705         287.4           2.8                   ⋯\n",
       "   6 │  2004  36699      5.64098         122.6           0.4\n",
       "   7 │  2005  33913      6.53934         279.8          13.6\n",
       "   8 │  2006  40908      6.19508         250.8           0.0\n",
       "   9 │  2007  40047      6.28689         162.0          29.0                   ⋯\n",
       "  10 │  2008  31513      5.29508         156.6          15.6\n",
       "  11 │  2009  24141      5.70492         161.0           6.4\n",
       "  12 │  2010  29738      5.42459         206.0           5.6\n",
       "  13 │  2011  28284      7.63607         142.6           8.2                   ⋯\n",
       "  14 │  2012  36220      5.7541          108.0           1.0\n",
       "  15 │  2013  37739      0.0               0.0           0.0\n",
       "  16 │  2014  31953      6.46393         120.2          17.2\n",
       "  17 │  2015  26458      6.10492         146.6           3.2                   ⋯\n",
       "  18 │  2016  31531      6.87541         209.4          10.0\n",
       "  19 │  2017  32039      6.96393         202.4           6.0\n",
       "  20 │  2018  29331      3.11311         154.4          44.0\n",
       "  21 │  2019  26091      4.28852         294.4          31.6                   ⋯\n",
       "  22 │  2020  29661      6.64918         150.4          22.4\n",
       "\u001b[36m                                                              11 columns omitted\u001b[0m"
      ]
     },
     "execution_count": 17,
     "metadata": {},
     "output_type": "execute_result"
    }
   ],
   "source": [
    "df = combine(groupby(recolte, :Année), :Cerfs => sum => :Cerfs)\n",
    "Matrice = DataFrame(Année = df.Année, Cerfs = df.Cerfs)\n",
    "Matrice = innerjoin(Matrice, TempMoy, on = :Année)\n",
    "Matrice = innerjoin(Matrice, PluieAn, on = :Année)\n",
    "Matrice = innerjoin(Matrice, NeigeAn, on = :Année)\n",
    "Matrice = innerjoin(Matrice, NeigeSolAn, on = :Année)\n",
    "Matrice = innerjoin(Matrice, JourPluieAn, on = :Année)\n",
    "Matrice = innerjoin(Matrice, JourNeigeAn, on = :Année)\n",
    "Matrice = innerjoin(Matrice, JourNeigeSolAn, on = :Année)\n",
    "Matrice = innerjoin(Matrice, essenceMtlMoyAn, on = :Année)\n",
    "Matrice = innerjoin(Matrice, essenceQcMoyAn, on = :Année)\n",
    "Matrice = innerjoin(Matrice, essenceMoyAn, on = :Année)\n",
    "Matrice = innerjoin(Matrice, permis, on = :Année)"
   ]
  },
  {
   "cell_type": "markdown",
   "id": "23b89c8e",
   "metadata": {},
   "source": [
    "#### Quantité de cerfs récoltés annuellement dans les différentes zones de chasse"
   ]
  },
  {
   "cell_type": "code",
   "execution_count": 18,
   "id": "4ff699ba",
   "metadata": {},
   "outputs": [
    {
     "data": {
      "text/html": [
       "<div class=\"data-frame\"><p>5 rows × 3 columns</p><table class=\"data-frame\"><thead><tr><th></th><th>Année</th><th>Zone</th><th>Cerfs</th></tr><tr><th></th><th title=\"Int64\">Int64</th><th title=\"Int64\">Int64</th><th title=\"Int64\">Int64</th></tr></thead><tbody><tr><th>1</th><td>1999</td><td>2</td><td>922</td></tr><tr><th>2</th><td>1999</td><td>3</td><td>1519</td></tr><tr><th>3</th><td>1999</td><td>4</td><td>4890</td></tr><tr><th>4</th><td>1999</td><td>5</td><td>2014</td></tr><tr><th>5</th><td>1999</td><td>6</td><td>4846</td></tr></tbody></table></div>"
      ],
      "text/latex": [
       "\\begin{tabular}{r|ccc}\n",
       "\t& Année & Zone & Cerfs\\\\\n",
       "\t\\hline\n",
       "\t& Int64 & Int64 & Int64\\\\\n",
       "\t\\hline\n",
       "\t1 & 1999 & 2 & 922 \\\\\n",
       "\t2 & 1999 & 3 & 1519 \\\\\n",
       "\t3 & 1999 & 4 & 4890 \\\\\n",
       "\t4 & 1999 & 5 & 2014 \\\\\n",
       "\t5 & 1999 & 6 & 4846 \\\\\n",
       "\\end{tabular}\n"
      ],
      "text/plain": [
       "\u001b[1m5×3 DataFrame\u001b[0m\n",
       "\u001b[1m Row \u001b[0m│\u001b[1m Année \u001b[0m\u001b[1m Zone  \u001b[0m\u001b[1m Cerfs \u001b[0m\n",
       "\u001b[1m     \u001b[0m│\u001b[90m Int64 \u001b[0m\u001b[90m Int64 \u001b[0m\u001b[90m Int64 \u001b[0m\n",
       "─────┼─────────────────────\n",
       "   1 │  1999      2    922\n",
       "   2 │  1999      3   1519\n",
       "   3 │  1999      4   4890\n",
       "   4 │  1999      5   2014\n",
       "   5 │  1999      6   4846"
      ]
     },
     "execution_count": 18,
     "metadata": {},
     "output_type": "execute_result"
    }
   ],
   "source": [
    "zones = groupby(recolte, :Zone)  # On groupe les données par zone\n",
    "\n",
    "new_df = DataFrame(Année = Int64[], Zone = Int64[], Cerfs= Int64[])  # On initialise un DataFrame vide\n",
    "\n",
    "for zone in zones  # Pour chaque zone de chasse,\n",
    "    \n",
    "    # pour chaque année,\n",
    "    # on additionne le nombre de cerfs récoltés selon les différents engins de chasse\n",
    "    df = combine(groupby(zone, :Année), :Cerfs => sum => :Cerfs)  \n",
    "    \n",
    "    df2 = DataFrame(Année = df.Année, \n",
    "                    Zone = fill(unique(zone.Zone)[1], size(df, 1)),\n",
    "                    Cerfs = df.Cerfs) \n",
    "    \n",
    "    append!(new_df, df2)  # On ajoute l'information au DataFrame préinitialisé \n",
    "end\n",
    "\n",
    "\n",
    "\n",
    "sort!(new_df, :Année)\n",
    "first(new_df, 5)\n"
   ]
  },
  {
   "cell_type": "markdown",
   "id": "f44dcc9b",
   "metadata": {},
   "source": [
    "#### Inclusion des zones à la Matrice"
   ]
  },
  {
   "cell_type": "code",
   "execution_count": 19,
   "id": "c145440e",
   "metadata": {},
   "outputs": [
    {
     "data": {
      "text/html": [
       "<div class=\"data-frame\"><p>366 rows × 18 columns (omitted printing of 12 columns)</p><table class=\"data-frame\"><thead><tr><th></th><th>Année</th><th>Cerfs_totale</th><th>Température</th><th>Pluie_totale</th><th>Neige_totale</th><th>Neige_totale_au_sol</th></tr><tr><th></th><th title=\"Int64\">Int64</th><th title=\"Int64\">Int64</th><th title=\"Float64\">Float64</th><th title=\"Float64\">Float64</th><th title=\"Float64\">Float64</th><th title=\"Int64\">Int64</th></tr></thead><tbody><tr><th>1</th><td>1999</td><td>30587</td><td>6.36721</td><td>139.7</td><td>5.1</td><td>2</td></tr><tr><th>2</th><td>1999</td><td>30587</td><td>6.36721</td><td>139.7</td><td>5.1</td><td>2</td></tr><tr><th>3</th><td>1999</td><td>30587</td><td>6.36721</td><td>139.7</td><td>5.1</td><td>2</td></tr><tr><th>4</th><td>1999</td><td>30587</td><td>6.36721</td><td>139.7</td><td>5.1</td><td>2</td></tr><tr><th>5</th><td>1999</td><td>30587</td><td>6.36721</td><td>139.7</td><td>5.1</td><td>2</td></tr><tr><th>6</th><td>1999</td><td>30587</td><td>6.36721</td><td>139.7</td><td>5.1</td><td>2</td></tr><tr><th>7</th><td>1999</td><td>30587</td><td>6.36721</td><td>139.7</td><td>5.1</td><td>2</td></tr><tr><th>8</th><td>1999</td><td>30587</td><td>6.36721</td><td>139.7</td><td>5.1</td><td>2</td></tr><tr><th>9</th><td>1999</td><td>30587</td><td>6.36721</td><td>139.7</td><td>5.1</td><td>2</td></tr><tr><th>10</th><td>1999</td><td>30587</td><td>6.36721</td><td>139.7</td><td>5.1</td><td>2</td></tr><tr><th>11</th><td>1999</td><td>30587</td><td>6.36721</td><td>139.7</td><td>5.1</td><td>2</td></tr><tr><th>12</th><td>2000</td><td>38737</td><td>5.81311</td><td>79.9</td><td>9.6</td><td>13</td></tr><tr><th>13</th><td>2000</td><td>38737</td><td>5.81311</td><td>79.9</td><td>9.6</td><td>13</td></tr><tr><th>14</th><td>2000</td><td>38737</td><td>5.81311</td><td>79.9</td><td>9.6</td><td>13</td></tr><tr><th>15</th><td>2000</td><td>38737</td><td>5.81311</td><td>79.9</td><td>9.6</td><td>13</td></tr><tr><th>16</th><td>2000</td><td>38737</td><td>5.81311</td><td>79.9</td><td>9.6</td><td>13</td></tr><tr><th>17</th><td>2000</td><td>38737</td><td>5.81311</td><td>79.9</td><td>9.6</td><td>13</td></tr><tr><th>18</th><td>2000</td><td>38737</td><td>5.81311</td><td>79.9</td><td>9.6</td><td>13</td></tr><tr><th>19</th><td>2000</td><td>38737</td><td>5.81311</td><td>79.9</td><td>9.6</td><td>13</td></tr><tr><th>20</th><td>2000</td><td>38737</td><td>5.81311</td><td>79.9</td><td>9.6</td><td>13</td></tr><tr><th>21</th><td>2000</td><td>38737</td><td>5.81311</td><td>79.9</td><td>9.6</td><td>13</td></tr><tr><th>22</th><td>2000</td><td>38737</td><td>5.81311</td><td>79.9</td><td>9.6</td><td>13</td></tr><tr><th>23</th><td>2000</td><td>38737</td><td>5.81311</td><td>79.9</td><td>9.6</td><td>13</td></tr><tr><th>24</th><td>2001</td><td>34751</td><td>7.59836</td><td>155.9</td><td>4.6</td><td>2</td></tr><tr><th>25</th><td>2001</td><td>34751</td><td>7.59836</td><td>155.9</td><td>4.6</td><td>2</td></tr><tr><th>26</th><td>2001</td><td>34751</td><td>7.59836</td><td>155.9</td><td>4.6</td><td>2</td></tr><tr><th>27</th><td>2001</td><td>34751</td><td>7.59836</td><td>155.9</td><td>4.6</td><td>2</td></tr><tr><th>28</th><td>2001</td><td>34751</td><td>7.59836</td><td>155.9</td><td>4.6</td><td>2</td></tr><tr><th>29</th><td>2001</td><td>34751</td><td>7.59836</td><td>155.9</td><td>4.6</td><td>2</td></tr><tr><th>30</th><td>2001</td><td>34751</td><td>7.59836</td><td>155.9</td><td>4.6</td><td>2</td></tr><tr><th>&vellip;</th><td>&vellip;</td><td>&vellip;</td><td>&vellip;</td><td>&vellip;</td><td>&vellip;</td><td>&vellip;</td></tr></tbody></table></div>"
      ],
      "text/latex": [
       "\\begin{tabular}{r|ccccccc}\n",
       "\t& Année & Cerfs\\_totale & Température & Pluie\\_totale & Neige\\_totale & Neige\\_totale\\_au\\_sol & \\\\\n",
       "\t\\hline\n",
       "\t& Int64 & Int64 & Float64 & Float64 & Float64 & Int64 & \\\\\n",
       "\t\\hline\n",
       "\t1 & 1999 & 30587 & 6.36721 & 139.7 & 5.1 & 2 & $\\dots$ \\\\\n",
       "\t2 & 1999 & 30587 & 6.36721 & 139.7 & 5.1 & 2 & $\\dots$ \\\\\n",
       "\t3 & 1999 & 30587 & 6.36721 & 139.7 & 5.1 & 2 & $\\dots$ \\\\\n",
       "\t4 & 1999 & 30587 & 6.36721 & 139.7 & 5.1 & 2 & $\\dots$ \\\\\n",
       "\t5 & 1999 & 30587 & 6.36721 & 139.7 & 5.1 & 2 & $\\dots$ \\\\\n",
       "\t6 & 1999 & 30587 & 6.36721 & 139.7 & 5.1 & 2 & $\\dots$ \\\\\n",
       "\t7 & 1999 & 30587 & 6.36721 & 139.7 & 5.1 & 2 & $\\dots$ \\\\\n",
       "\t8 & 1999 & 30587 & 6.36721 & 139.7 & 5.1 & 2 & $\\dots$ \\\\\n",
       "\t9 & 1999 & 30587 & 6.36721 & 139.7 & 5.1 & 2 & $\\dots$ \\\\\n",
       "\t10 & 1999 & 30587 & 6.36721 & 139.7 & 5.1 & 2 & $\\dots$ \\\\\n",
       "\t11 & 1999 & 30587 & 6.36721 & 139.7 & 5.1 & 2 & $\\dots$ \\\\\n",
       "\t12 & 2000 & 38737 & 5.81311 & 79.9 & 9.6 & 13 & $\\dots$ \\\\\n",
       "\t13 & 2000 & 38737 & 5.81311 & 79.9 & 9.6 & 13 & $\\dots$ \\\\\n",
       "\t14 & 2000 & 38737 & 5.81311 & 79.9 & 9.6 & 13 & $\\dots$ \\\\\n",
       "\t15 & 2000 & 38737 & 5.81311 & 79.9 & 9.6 & 13 & $\\dots$ \\\\\n",
       "\t16 & 2000 & 38737 & 5.81311 & 79.9 & 9.6 & 13 & $\\dots$ \\\\\n",
       "\t17 & 2000 & 38737 & 5.81311 & 79.9 & 9.6 & 13 & $\\dots$ \\\\\n",
       "\t18 & 2000 & 38737 & 5.81311 & 79.9 & 9.6 & 13 & $\\dots$ \\\\\n",
       "\t19 & 2000 & 38737 & 5.81311 & 79.9 & 9.6 & 13 & $\\dots$ \\\\\n",
       "\t20 & 2000 & 38737 & 5.81311 & 79.9 & 9.6 & 13 & $\\dots$ \\\\\n",
       "\t21 & 2000 & 38737 & 5.81311 & 79.9 & 9.6 & 13 & $\\dots$ \\\\\n",
       "\t22 & 2000 & 38737 & 5.81311 & 79.9 & 9.6 & 13 & $\\dots$ \\\\\n",
       "\t23 & 2000 & 38737 & 5.81311 & 79.9 & 9.6 & 13 & $\\dots$ \\\\\n",
       "\t24 & 2001 & 34751 & 7.59836 & 155.9 & 4.6 & 2 & $\\dots$ \\\\\n",
       "\t25 & 2001 & 34751 & 7.59836 & 155.9 & 4.6 & 2 & $\\dots$ \\\\\n",
       "\t26 & 2001 & 34751 & 7.59836 & 155.9 & 4.6 & 2 & $\\dots$ \\\\\n",
       "\t27 & 2001 & 34751 & 7.59836 & 155.9 & 4.6 & 2 & $\\dots$ \\\\\n",
       "\t28 & 2001 & 34751 & 7.59836 & 155.9 & 4.6 & 2 & $\\dots$ \\\\\n",
       "\t29 & 2001 & 34751 & 7.59836 & 155.9 & 4.6 & 2 & $\\dots$ \\\\\n",
       "\t30 & 2001 & 34751 & 7.59836 & 155.9 & 4.6 & 2 & $\\dots$ \\\\\n",
       "\t$\\dots$ & $\\dots$ & $\\dots$ & $\\dots$ & $\\dots$ & $\\dots$ & $\\dots$ &  \\\\\n",
       "\\end{tabular}\n"
      ],
      "text/plain": [
       "\u001b[1m366×18 DataFrame\u001b[0m\n",
       "\u001b[1m Row \u001b[0m│\u001b[1m Année \u001b[0m\u001b[1m Cerfs_totale \u001b[0m\u001b[1m Température \u001b[0m\u001b[1m Pluie_totale \u001b[0m\u001b[1m Neige_totale \u001b[0m\u001b[1m Neige_tot\u001b[0m ⋯\n",
       "\u001b[1m     \u001b[0m│\u001b[90m Int64 \u001b[0m\u001b[90m Int64        \u001b[0m\u001b[90m Float64     \u001b[0m\u001b[90m Float64      \u001b[0m\u001b[90m Float64      \u001b[0m\u001b[90m Int64    \u001b[0m ⋯\n",
       "─────┼──────────────────────────────────────────────────────────────────────────\n",
       "   1 │  1999         30587      6.36721         139.7           5.1            ⋯\n",
       "   2 │  1999         30587      6.36721         139.7           5.1\n",
       "   3 │  1999         30587      6.36721         139.7           5.1\n",
       "   4 │  1999         30587      6.36721         139.7           5.1\n",
       "   5 │  1999         30587      6.36721         139.7           5.1            ⋯\n",
       "   6 │  1999         30587      6.36721         139.7           5.1\n",
       "   7 │  1999         30587      6.36721         139.7           5.1\n",
       "   8 │  1999         30587      6.36721         139.7           5.1\n",
       "   9 │  1999         30587      6.36721         139.7           5.1            ⋯\n",
       "  10 │  1999         30587      6.36721         139.7           5.1\n",
       "  11 │  1999         30587      6.36721         139.7           5.1\n",
       "  ⋮  │   ⋮         ⋮             ⋮            ⋮             ⋮                  ⋱\n",
       " 357 │  2020         29661      6.64918         150.4          22.4\n",
       " 358 │  2020         29661      6.64918         150.4          22.4            ⋯\n",
       " 359 │  2020         29661      6.64918         150.4          22.4\n",
       " 360 │  2020         29661      6.64918         150.4          22.4\n",
       " 361 │  2020         29661      6.64918         150.4          22.4\n",
       " 362 │  2020         29661      6.64918         150.4          22.4            ⋯\n",
       " 363 │  2020         29661      6.64918         150.4          22.4\n",
       " 364 │  2020         29661      6.64918         150.4          22.4\n",
       " 365 │  2020         29661      6.64918         150.4          22.4\n",
       " 366 │  2020         29661      6.64918         150.4          22.4            ⋯\n",
       "\u001b[36m                                                 13 columns and 345 rows omitted\u001b[0m"
      ]
     },
     "execution_count": 19,
     "metadata": {},
     "output_type": "execute_result"
    }
   ],
   "source": [
    "m = DataFrame(Matrice)\n",
    "rename!(m, \"Cerfs\" => \"Cerfs_totale\")\n",
    "MatriceZones = innerjoin(m, new_df, on = :Année)"
   ]
  },
  {
   "cell_type": "markdown",
   "id": "ba530b68",
   "metadata": {},
   "source": [
    "---\n",
    "## 2. Analyse exploratoire\n",
    "\n",
    "Maintenant que nous avons extrait les donnés fournies et ajoutées nos données modifiées, nous sommes rendu à la phase de l'annalyse exploratoire. Dans cette section, nous allons explorer divers pistes de modèles avec les données fournies. Doonc, des modèles simples ainsi que des modèles polynomiales pour chaque variables explicatifs et ce selon l'allure de la courbes du nombre de cerfs récolté annuellement selon chaque variable. Nous explorerons plus en détails chacun de ces pistes de solutions et les tenterons sur kaggle."
   ]
  },
  {
   "cell_type": "markdown",
   "id": "93c2dc55",
   "metadata": {},
   "source": [
    "### 2.1 Utilisation de l'année comme variable explicative"
   ]
  },
  {
   "cell_type": "markdown",
   "id": "70d117d3",
   "metadata": {},
   "source": [
    "Premièrement, voici un graphique qui illustre le nombre de cerfs récoltés en fonction de l'année courante, comme on peut le voir, cette variable semble avoir un léger impact négatif"
   ]
  },
  {
   "cell_type": "code",
   "execution_count": null,
   "id": "26952a08",
   "metadata": {},
   "outputs": [],
   "source": [
    "set_default_plot_size(16cm, 10cm)\n",
    "df = combine(groupby(recolte, :Année), :Cerfs => sum => :Cerfs)\n",
    "plot(df, x=:Année, y=:Cerfs, Geom.line, Geom.point)"
   ]
  },
  {
   "cell_type": "markdown",
   "id": "0286c85b",
   "metadata": {},
   "source": [
    "On peut voir que le lien entre l'année et le nombre de cerfs n'est pas linéaire. Confirmon cela en analysant le pouvoir prédictif de cette variable avec une régression linéaire. La courbe ressemble plutot à celle d'une fonction x +x2 +x3 +x4 ou une bimodale. Nous allons donc analyser si ces options semble avoir un pouvoir prédictif significatif."
   ]
  },
  {
   "cell_type": "markdown",
   "id": "72716b48",
   "metadata": {},
   "source": [
    "#### 2.1.1 Ajout de l'année au carré, au cube et exposant 4 dans la matrice de données"
   ]
  },
  {
   "cell_type": "code",
   "execution_count": 20,
   "id": "d1d81337",
   "metadata": {},
   "outputs": [
    {
     "data": {
      "text/html": [
       "<div class=\"data-frame\"><p>366 rows × 21 columns (omitted printing of 15 columns)</p><table class=\"data-frame\"><thead><tr><th></th><th>Année</th><th>Cerfs_totale</th><th>Température</th><th>Pluie_totale</th><th>Neige_totale</th><th>Neige_totale_au_sol</th></tr><tr><th></th><th title=\"Int64\">Int64</th><th title=\"Int64\">Int64</th><th title=\"Float64\">Float64</th><th title=\"Float64\">Float64</th><th title=\"Float64\">Float64</th><th title=\"Int64\">Int64</th></tr></thead><tbody><tr><th>1</th><td>1999</td><td>30587</td><td>6.36721</td><td>139.7</td><td>5.1</td><td>2</td></tr><tr><th>2</th><td>1999</td><td>30587</td><td>6.36721</td><td>139.7</td><td>5.1</td><td>2</td></tr><tr><th>3</th><td>1999</td><td>30587</td><td>6.36721</td><td>139.7</td><td>5.1</td><td>2</td></tr><tr><th>4</th><td>1999</td><td>30587</td><td>6.36721</td><td>139.7</td><td>5.1</td><td>2</td></tr><tr><th>5</th><td>1999</td><td>30587</td><td>6.36721</td><td>139.7</td><td>5.1</td><td>2</td></tr><tr><th>6</th><td>1999</td><td>30587</td><td>6.36721</td><td>139.7</td><td>5.1</td><td>2</td></tr><tr><th>7</th><td>1999</td><td>30587</td><td>6.36721</td><td>139.7</td><td>5.1</td><td>2</td></tr><tr><th>8</th><td>1999</td><td>30587</td><td>6.36721</td><td>139.7</td><td>5.1</td><td>2</td></tr><tr><th>9</th><td>1999</td><td>30587</td><td>6.36721</td><td>139.7</td><td>5.1</td><td>2</td></tr><tr><th>10</th><td>1999</td><td>30587</td><td>6.36721</td><td>139.7</td><td>5.1</td><td>2</td></tr><tr><th>11</th><td>1999</td><td>30587</td><td>6.36721</td><td>139.7</td><td>5.1</td><td>2</td></tr><tr><th>12</th><td>2000</td><td>38737</td><td>5.81311</td><td>79.9</td><td>9.6</td><td>13</td></tr><tr><th>13</th><td>2000</td><td>38737</td><td>5.81311</td><td>79.9</td><td>9.6</td><td>13</td></tr><tr><th>14</th><td>2000</td><td>38737</td><td>5.81311</td><td>79.9</td><td>9.6</td><td>13</td></tr><tr><th>15</th><td>2000</td><td>38737</td><td>5.81311</td><td>79.9</td><td>9.6</td><td>13</td></tr><tr><th>16</th><td>2000</td><td>38737</td><td>5.81311</td><td>79.9</td><td>9.6</td><td>13</td></tr><tr><th>17</th><td>2000</td><td>38737</td><td>5.81311</td><td>79.9</td><td>9.6</td><td>13</td></tr><tr><th>18</th><td>2000</td><td>38737</td><td>5.81311</td><td>79.9</td><td>9.6</td><td>13</td></tr><tr><th>19</th><td>2000</td><td>38737</td><td>5.81311</td><td>79.9</td><td>9.6</td><td>13</td></tr><tr><th>20</th><td>2000</td><td>38737</td><td>5.81311</td><td>79.9</td><td>9.6</td><td>13</td></tr><tr><th>21</th><td>2000</td><td>38737</td><td>5.81311</td><td>79.9</td><td>9.6</td><td>13</td></tr><tr><th>22</th><td>2000</td><td>38737</td><td>5.81311</td><td>79.9</td><td>9.6</td><td>13</td></tr><tr><th>23</th><td>2000</td><td>38737</td><td>5.81311</td><td>79.9</td><td>9.6</td><td>13</td></tr><tr><th>24</th><td>2001</td><td>34751</td><td>7.59836</td><td>155.9</td><td>4.6</td><td>2</td></tr><tr><th>25</th><td>2001</td><td>34751</td><td>7.59836</td><td>155.9</td><td>4.6</td><td>2</td></tr><tr><th>26</th><td>2001</td><td>34751</td><td>7.59836</td><td>155.9</td><td>4.6</td><td>2</td></tr><tr><th>27</th><td>2001</td><td>34751</td><td>7.59836</td><td>155.9</td><td>4.6</td><td>2</td></tr><tr><th>28</th><td>2001</td><td>34751</td><td>7.59836</td><td>155.9</td><td>4.6</td><td>2</td></tr><tr><th>29</th><td>2001</td><td>34751</td><td>7.59836</td><td>155.9</td><td>4.6</td><td>2</td></tr><tr><th>30</th><td>2001</td><td>34751</td><td>7.59836</td><td>155.9</td><td>4.6</td><td>2</td></tr><tr><th>&vellip;</th><td>&vellip;</td><td>&vellip;</td><td>&vellip;</td><td>&vellip;</td><td>&vellip;</td><td>&vellip;</td></tr></tbody></table></div>"
      ],
      "text/latex": [
       "\\begin{tabular}{r|ccccccc}\n",
       "\t& Année & Cerfs\\_totale & Température & Pluie\\_totale & Neige\\_totale & Neige\\_totale\\_au\\_sol & \\\\\n",
       "\t\\hline\n",
       "\t& Int64 & Int64 & Float64 & Float64 & Float64 & Int64 & \\\\\n",
       "\t\\hline\n",
       "\t1 & 1999 & 30587 & 6.36721 & 139.7 & 5.1 & 2 & $\\dots$ \\\\\n",
       "\t2 & 1999 & 30587 & 6.36721 & 139.7 & 5.1 & 2 & $\\dots$ \\\\\n",
       "\t3 & 1999 & 30587 & 6.36721 & 139.7 & 5.1 & 2 & $\\dots$ \\\\\n",
       "\t4 & 1999 & 30587 & 6.36721 & 139.7 & 5.1 & 2 & $\\dots$ \\\\\n",
       "\t5 & 1999 & 30587 & 6.36721 & 139.7 & 5.1 & 2 & $\\dots$ \\\\\n",
       "\t6 & 1999 & 30587 & 6.36721 & 139.7 & 5.1 & 2 & $\\dots$ \\\\\n",
       "\t7 & 1999 & 30587 & 6.36721 & 139.7 & 5.1 & 2 & $\\dots$ \\\\\n",
       "\t8 & 1999 & 30587 & 6.36721 & 139.7 & 5.1 & 2 & $\\dots$ \\\\\n",
       "\t9 & 1999 & 30587 & 6.36721 & 139.7 & 5.1 & 2 & $\\dots$ \\\\\n",
       "\t10 & 1999 & 30587 & 6.36721 & 139.7 & 5.1 & 2 & $\\dots$ \\\\\n",
       "\t11 & 1999 & 30587 & 6.36721 & 139.7 & 5.1 & 2 & $\\dots$ \\\\\n",
       "\t12 & 2000 & 38737 & 5.81311 & 79.9 & 9.6 & 13 & $\\dots$ \\\\\n",
       "\t13 & 2000 & 38737 & 5.81311 & 79.9 & 9.6 & 13 & $\\dots$ \\\\\n",
       "\t14 & 2000 & 38737 & 5.81311 & 79.9 & 9.6 & 13 & $\\dots$ \\\\\n",
       "\t15 & 2000 & 38737 & 5.81311 & 79.9 & 9.6 & 13 & $\\dots$ \\\\\n",
       "\t16 & 2000 & 38737 & 5.81311 & 79.9 & 9.6 & 13 & $\\dots$ \\\\\n",
       "\t17 & 2000 & 38737 & 5.81311 & 79.9 & 9.6 & 13 & $\\dots$ \\\\\n",
       "\t18 & 2000 & 38737 & 5.81311 & 79.9 & 9.6 & 13 & $\\dots$ \\\\\n",
       "\t19 & 2000 & 38737 & 5.81311 & 79.9 & 9.6 & 13 & $\\dots$ \\\\\n",
       "\t20 & 2000 & 38737 & 5.81311 & 79.9 & 9.6 & 13 & $\\dots$ \\\\\n",
       "\t21 & 2000 & 38737 & 5.81311 & 79.9 & 9.6 & 13 & $\\dots$ \\\\\n",
       "\t22 & 2000 & 38737 & 5.81311 & 79.9 & 9.6 & 13 & $\\dots$ \\\\\n",
       "\t23 & 2000 & 38737 & 5.81311 & 79.9 & 9.6 & 13 & $\\dots$ \\\\\n",
       "\t24 & 2001 & 34751 & 7.59836 & 155.9 & 4.6 & 2 & $\\dots$ \\\\\n",
       "\t25 & 2001 & 34751 & 7.59836 & 155.9 & 4.6 & 2 & $\\dots$ \\\\\n",
       "\t26 & 2001 & 34751 & 7.59836 & 155.9 & 4.6 & 2 & $\\dots$ \\\\\n",
       "\t27 & 2001 & 34751 & 7.59836 & 155.9 & 4.6 & 2 & $\\dots$ \\\\\n",
       "\t28 & 2001 & 34751 & 7.59836 & 155.9 & 4.6 & 2 & $\\dots$ \\\\\n",
       "\t29 & 2001 & 34751 & 7.59836 & 155.9 & 4.6 & 2 & $\\dots$ \\\\\n",
       "\t30 & 2001 & 34751 & 7.59836 & 155.9 & 4.6 & 2 & $\\dots$ \\\\\n",
       "\t$\\dots$ & $\\dots$ & $\\dots$ & $\\dots$ & $\\dots$ & $\\dots$ & $\\dots$ &  \\\\\n",
       "\\end{tabular}\n"
      ],
      "text/plain": [
       "\u001b[1m366×21 DataFrame\u001b[0m\n",
       "\u001b[1m Row \u001b[0m│\u001b[1m Année \u001b[0m\u001b[1m Cerfs_totale \u001b[0m\u001b[1m Température \u001b[0m\u001b[1m Pluie_totale \u001b[0m\u001b[1m Neige_totale \u001b[0m\u001b[1m Neige_tot\u001b[0m ⋯\n",
       "\u001b[1m     \u001b[0m│\u001b[90m Int64 \u001b[0m\u001b[90m Int64        \u001b[0m\u001b[90m Float64     \u001b[0m\u001b[90m Float64      \u001b[0m\u001b[90m Float64      \u001b[0m\u001b[90m Int64    \u001b[0m ⋯\n",
       "─────┼──────────────────────────────────────────────────────────────────────────\n",
       "   1 │  1999         30587      6.36721         139.7           5.1            ⋯\n",
       "   2 │  1999         30587      6.36721         139.7           5.1\n",
       "   3 │  1999         30587      6.36721         139.7           5.1\n",
       "   4 │  1999         30587      6.36721         139.7           5.1\n",
       "   5 │  1999         30587      6.36721         139.7           5.1            ⋯\n",
       "   6 │  1999         30587      6.36721         139.7           5.1\n",
       "   7 │  1999         30587      6.36721         139.7           5.1\n",
       "   8 │  1999         30587      6.36721         139.7           5.1\n",
       "   9 │  1999         30587      6.36721         139.7           5.1            ⋯\n",
       "  10 │  1999         30587      6.36721         139.7           5.1\n",
       "  11 │  1999         30587      6.36721         139.7           5.1\n",
       "  ⋮  │   ⋮         ⋮             ⋮            ⋮             ⋮                  ⋱\n",
       " 357 │  2020         29661      6.64918         150.4          22.4\n",
       " 358 │  2020         29661      6.64918         150.4          22.4            ⋯\n",
       " 359 │  2020         29661      6.64918         150.4          22.4\n",
       " 360 │  2020         29661      6.64918         150.4          22.4\n",
       " 361 │  2020         29661      6.64918         150.4          22.4\n",
       " 362 │  2020         29661      6.64918         150.4          22.4            ⋯\n",
       " 363 │  2020         29661      6.64918         150.4          22.4\n",
       " 364 │  2020         29661      6.64918         150.4          22.4\n",
       " 365 │  2020         29661      6.64918         150.4          22.4\n",
       " 366 │  2020         29661      6.64918         150.4          22.4            ⋯\n",
       "\u001b[36m                                                 16 columns and 345 rows omitted\u001b[0m"
      ]
     },
     "execution_count": 20,
     "metadata": {},
     "output_type": "execute_result"
    }
   ],
   "source": [
    "Matrice = transform(Matrice, [\"Année\"] => ByRow(x->(x)^2) => :Année_square)\n",
    "Matrice = transform(Matrice, [\"Année\"] => ByRow(x->(x)^3) => :Année_cubic)\n",
    "Matrice = transform(Matrice, [\"Année\"] => ByRow(x->(x)^4) => :Année_four)\n",
    "\n",
    "MatriceZones = transform(MatriceZones, [\"Année\"] => ByRow(x->(x)^2) => :Année_square)\n",
    "MatriceZones = transform(MatriceZones, [\"Année\"] => ByRow(x->(x)^3) => :Année_cubic)\n",
    "MatriceZones = transform(MatriceZones, [\"Année\"] => ByRow(x->(x)^4) => :Année_four)"
   ]
  },
  {
   "cell_type": "markdown",
   "id": "38c71747",
   "metadata": {},
   "source": [
    "#### 2.1.1 Pouvoir prédictif de l'année au global\n",
    "\n",
    "Dans cette partie, nous allons regarder si l'année possède bel et bien un pouvoir prédictif significatif"
   ]
  },
  {
   "cell_type": "code",
   "execution_count": null,
   "id": "35b40388",
   "metadata": {},
   "outputs": [],
   "source": [
    "lm(@formula(Cerfs ~ Année), Matrice)"
   ]
  },
  {
   "cell_type": "code",
   "execution_count": null,
   "id": "aa3e9e29",
   "metadata": {},
   "outputs": [],
   "source": [
    "lm(@formula(Cerfs ~ Année + Année_square), Matrice)"
   ]
  },
  {
   "cell_type": "code",
   "execution_count": null,
   "id": "0789f046",
   "metadata": {},
   "outputs": [],
   "source": [
    "lm(@formula(Cerfs ~ Année + Année_square + Année_cubic), Matrice)"
   ]
  },
  {
   "cell_type": "code",
   "execution_count": null,
   "id": "8763a86f",
   "metadata": {},
   "outputs": [],
   "source": [
    "lm(@formula(Cerfs ~ Année + Année_square + Année_cubic + Année_four), Matrice)"
   ]
  },
  {
   "cell_type": "markdown",
   "id": "3f29b69a",
   "metadata": {},
   "source": [
    "Selon ces résultats, on peut constater que l'intervalle de confiance du coefficient sur l'année se situe bel et bien en dehors de 0, donc l'année possède un pouvoir prédictif significatif sur le nombre de cerfs. "
   ]
  },
  {
   "cell_type": "markdown",
   "id": "3e780228",
   "metadata": {},
   "source": [
    "#### 2.1.2 Pouvoir prédictif de l'année par zone"
   ]
  },
  {
   "cell_type": "code",
   "execution_count": null,
   "id": "88164a02",
   "metadata": {},
   "outputs": [],
   "source": [
    "models = []\n",
    "\n",
    "z1 = DataFrame(groupby(new_df, :Zone))\n",
    "    \n",
    "zones = unique(new_df[!, :Zone])\n",
    "\n",
    "models = []\n",
    "for i = 1:length(zones)\n",
    "    m = lm(@formula(Cerfs ~ Année), groupby(new_df, :Zone)[i])\n",
    "    push!(models, r2(m))\n",
    "end\n",
    "\n",
    "results = DataFrame(Zone=zones, R2 = models)\n",
    "sort(results, order(:R2, rev=true))"
   ]
  },
  {
   "cell_type": "markdown",
   "id": "dbead1a3",
   "metadata": {},
   "source": [
    "Comme on peut le voir, l'année a une très grande influence sur certaines zones comme la zone 28, et une influence quasi nulle sur des zones comme les zones 2, 4 et 6"
   ]
  },
  {
   "cell_type": "markdown",
   "id": "969e86f7",
   "metadata": {},
   "source": [
    "#### 2.1.3 Pouvoir prédictif de l'année par zone: fonction polynomiales"
   ]
  },
  {
   "cell_type": "markdown",
   "id": "c25113b0",
   "metadata": {},
   "source": [
    "Fonction polynomiale de degré 2:"
   ]
  },
  {
   "cell_type": "code",
   "execution_count": null,
   "id": "db4cd40d",
   "metadata": {},
   "outputs": [],
   "source": [
    "models = []\n",
    "\n",
    "z1 = DataFrame(groupby(new_df, :Zone))\n",
    "    \n",
    "zones = unique(new_df[!, :Zone])\n",
    "\n",
    "models = []\n",
    "for i = 1:length(zones)\n",
    "    m = lm(@formula(Cerfs ~ Année + Année^2), groupby(new_df, :Zone)[i])\n",
    "    push!(models, adjr2(m))\n",
    "end\n",
    "\n",
    "results = DataFrame(Zone=zones, R2_ajusté = models)\n",
    "sort(results, order(:R2_ajusté, rev=true))"
   ]
  },
  {
   "cell_type": "markdown",
   "id": "1e8a7db5",
   "metadata": {},
   "source": [
    "Fonction polynomiale de degré 3:"
   ]
  },
  {
   "cell_type": "code",
   "execution_count": null,
   "id": "33b53f7d",
   "metadata": {},
   "outputs": [],
   "source": [
    "models = []\n",
    "\n",
    "z1 = DataFrame(groupby(new_df, :Zone))\n",
    "    \n",
    "zones = unique(new_df[!, :Zone])\n",
    "\n",
    "models = []\n",
    "for i = 1:length(zones)\n",
    "    m = lm(@formula(Cerfs ~ Année + Année^2 + Année^3), groupby(new_df, :Zone)[i])\n",
    "    push!(models, adjr2(m))\n",
    "end\n",
    "\n",
    "results = DataFrame(Zone=zones, R2_ajusté = models)\n",
    "sort(results, order(:R2_ajusté, rev=true))"
   ]
  },
  {
   "cell_type": "markdown",
   "id": "f32d0d32",
   "metadata": {},
   "source": [
    "Fonction polynomiale de degré 4:"
   ]
  },
  {
   "cell_type": "code",
   "execution_count": null,
   "id": "65cea37d",
   "metadata": {},
   "outputs": [],
   "source": [
    "models = []\n",
    "\n",
    "z1 = DataFrame(groupby(new_df, :Zone))\n",
    "    \n",
    "zones = unique(new_df[!, :Zone])\n",
    "\n",
    "models = []\n",
    "for i = 1:length(zones)\n",
    "    m = lm(@formula(Cerfs ~ Année + Année^2 + Année^3 + Année^4), groupby(new_df, :Zone)[i])\n",
    "    push!(models, adjr2(m))\n",
    "end\n",
    "\n",
    "results = DataFrame(Zone=zones, R2_ajusté = models)\n",
    "sort(results, order(:R2_ajusté, rev=true))"
   ]
  },
  {
   "cell_type": "markdown",
   "id": "bd5f65d8",
   "metadata": {},
   "source": [
    "Comme on peut le voir, les fonctions polynomiale de l'année voit leur infulences augmenter jusqu'au degré 4 et ce pour toutes les zones. En effet, leur placements ne changent pas. De ce fait, explorer des modèles polynomiales pour l'année pourrait etre interessant."
   ]
  },
  {
   "cell_type": "markdown",
   "id": "c4727faf",
   "metadata": {},
   "source": [
    "### 2.2 Tracer le nombre de cerfs récoltés par chaque arme individuellement"
   ]
  },
  {
   "cell_type": "markdown",
   "id": "0bcf7552",
   "metadata": {},
   "source": [
    "Nous avons remarqué que les cerfs sont récoltés via divers types d'armes récurents à chaque année. De ce fait, explorons un peu comments le nombre de cerfs récoltés évolue selon le type d'arme."
   ]
  },
  {
   "cell_type": "markdown",
   "id": "b629e02d",
   "metadata": {},
   "source": [
    "#### 2.2.1 Traçage du nombre de cerfs récoltés par arme globalement"
   ]
  },
  {
   "cell_type": "markdown",
   "id": "683d8bbe",
   "metadata": {},
   "source": [
    "Premièrement, il faudrait tracer le nombre de cerfs récoltés selon chaque arme de chasse utilisée."
   ]
  },
  {
   "cell_type": "code",
   "execution_count": null,
   "id": "1b54c875",
   "metadata": {},
   "outputs": [],
   "source": [
    "combine(groupby(recolte, [:Engin]), :Cerfs => sum => :Cerfs)"
   ]
  },
  {
   "cell_type": "markdown",
   "id": "a01ab088",
   "metadata": {},
   "source": [
    "Comme on peut le voir, on a 6 types d'armes à vérifier. On peut alors affirmer que \n",
    "\n",
    "Y = Y1 + Y2 + Y3 + Y4 + Y5 + Y6\n",
    ",ou Y est le nombre de cerfs et Yi représente un type d'arme."
   ]
  },
  {
   "cell_type": "code",
   "execution_count": null,
   "id": "61792f8a",
   "metadata": {},
   "outputs": [],
   "source": [
    "df_armes = combine(groupby(recolte, [:Année, :Engin]), :Cerfs => sum => :Cerfs)\n",
    "df_arc = filter(row -> !(row.Engin != \"Arc\"),  df_armes)\n",
    "df_carabine = filter(row -> !(row.Engin != \"Carabine\"),  df_armes)\n",
    "df_arbalète = filter(row -> !(row.Engin != \"Arbalète\"),  df_armes)\n",
    "df_acb = filter(row -> !(row.Engin != \"ACB\"),  df_armes)\n",
    "df_fusil = filter(row -> !(row.Engin != \"Fusil\"),  df_armes)\n",
    "df_indetermine = filter(row -> !(row.Engin != \"Indéterminé\"),  df_armes)\n",
    "\n",
    "\n",
    "p1 = plot(df_arc, x=:Année, y=:Cerfs, Geom.line, Geom.point, Guide.xlabel(\"Nombre de cerfs tués par arc\"))\n",
    "p2 = plot(df_carabine, x=:Année, y=:Cerfs, Geom.line, Geom.point, Guide.xlabel(\"Nombre de cerfs tués par carabine\"))\n",
    "p3 = plot(df_arbalète, x=:Année, y=:Cerfs, Geom.line, Geom.point, Guide.xlabel(\"Nombre de cerfs tués par arbalète\"))\n",
    "p4 = plot(df_acb, x=:Année, y=:Cerfs, Geom.line, Geom.point, Guide.xlabel(\"Nombre de cerfs tués par ACB\"))\n",
    "p5 = plot(df_fusil, x=:Année, y=:Cerfs, Geom.line, Geom.point, Guide.xlabel(\"Nombre de cerfs tués par Fusil\"))\n",
    "p6 = plot(df_indetermine, x=:Année, y=:Cerfs, Geom.line, Geom.point, Guide.xlabel(\"Nombre de cerfs tués par Indéterminé\"))\n",
    "                        \n",
    "p = reshape(Plot[p1, p2, p3, p4, p5, p6], (3,2))\n",
    "    \n",
    "set_default_plot_size(20cm, 15cm)\n",
    "gridstack(p)"
   ]
  },
  {
   "cell_type": "markdown",
   "id": "1897d149",
   "metadata": {},
   "source": [
    "#### 2.2.2 Traçage du nombre de cerfs récoltés par zone"
   ]
  },
  {
   "cell_type": "code",
   "execution_count": null,
   "id": "ab69d480",
   "metadata": {},
   "outputs": [],
   "source": [
    "zone = 6 #On regarde la zone 6 par exemple\n",
    "\n",
    "df_armes = combine(groupby(recolte, [:Année, :Engin, :Zone]), :Cerfs => sum => :Cerfs)\n",
    "df_arc = filter(row -> !(row.Engin != \"Arc\") && row.Zone == zone,  df_armes)\n",
    "df_carabine = filter(row -> !(row.Engin != \"Carabine\") && row.Zone == zone,  df_armes)\n",
    "df_arbalète = filter(row -> !(row.Engin != \"Arbalète\") && row.Zone == zone,  df_armes)\n",
    "df_acb = filter(row -> !(row.Engin != \"ACB\") && row.Zone == zone,  df_armes)\n",
    "df_fusil = filter(row -> !(row.Engin != \"Fusil\") && row.Zone == zone,  df_armes)\n",
    "df_indetermine = filter(row -> !(row.Engin != \"Indéterminé\") && row.Zone == zone,  df_armes)\n",
    "\n",
    "\n",
    "p1 = plot(df_arc, x=:Année, y=:Cerfs, Geom.line, Geom.point, Guide.xlabel(\"Nombre de cerfs tués par arc\"))\n",
    "p2 = plot(df_carabine, x=:Année, y=:Cerfs, Geom.line, Geom.point, Guide.xlabel(\"Nombre de cerfs tués par carabine\"))\n",
    "p3 = plot(df_arbalète, x=:Année, y=:Cerfs, Geom.line, Geom.point, Guide.xlabel(\"Nombre de cerfs tués par arbalète\"))\n",
    "p4 = plot(df_acb, x=:Année, y=:Cerfs, Geom.line, Geom.point, Guide.xlabel(\"Nombre de cerfs tués par ACB\"))\n",
    "p5 = plot(df_fusil, x=:Année, y=:Cerfs, Geom.line, Geom.point, Guide.xlabel(\"Nombre de cerfs tués par Fusil\"))\n",
    "p6 = plot(df_indetermine, x=:Année, y=:Cerfs, Geom.line, Geom.point, Guide.xlabel(\"Nombre de cerfs tués par Indéterminé\"))\n",
    "                        \n",
    "p = reshape(Plot[p1, p2, p3, p4, p5, p6], (3,2))\n",
    "set_default_plot_size(20cm, 15cm)\n",
    "gridstack(p)"
   ]
  },
  {
   "cell_type": "markdown",
   "id": "841bfaec",
   "metadata": {},
   "source": [
    "### 2.3 Utilisation du nombre de permis comme variable explicative"
   ]
  },
  {
   "cell_type": "markdown",
   "id": "fa111c9e",
   "metadata": {},
   "source": [
    "Deuxièmement, voici un graphique qui illustre le nombre de cerfs récoltés en fonction de toutes les variables dans le dataset (permis). Comme on peut le voir certaines valeurs semblent avoir des impacts plus significatifs que d'autres, nous allons tenter de voir quelle variables nous devrions garder"
   ]
  },
  {
   "cell_type": "code",
   "execution_count": null,
   "id": "48ba652c",
   "metadata": {},
   "outputs": [],
   "source": [
    "df = combine(groupby(recolte, :Année), :Cerfs => sum => :Cerfs)\n",
    "df2 = innerjoin(df, permis, on = :Année)\n",
    "\n",
    "\n",
    "\n",
    "p1 = plot(df2, x=:Total, y=:Cerfs, Geom.point,\n",
    "     Guide.xlabel(\"total des permis vendus\"),\n",
    "     Guide.ylabel(\"cerfs récoltés\"))\n",
    "\n",
    "p2 = plot(df2, x=:\"Résidents\", y=:Cerfs, Geom.point,\n",
    "     Guide.xlabel(\"permis résidents vendus\"),\n",
    "     Guide.ylabel(\"cerfs récoltés\"))\n",
    "\n",
    "p3 = plot(df2, x=:\"Résidents premier abbatage\", y=:Cerfs, Geom.point,\n",
    "     Guide.xlabel(\"permis résidents premier abbatage vendus\"),\n",
    "     Guide.ylabel(\"cerfs récoltés\"))\n",
    "\n",
    "p4 = plot(df2, x=:\"Non-résidents\", y=:Cerfs, Geom.point,\n",
    "     Guide.xlabel(\"permis non-résidents vendus\"),\n",
    "     Guide.ylabel(\"cerfs récoltés\"))\n",
    "\n",
    "p = reshape(Plot[p1, p2, p3, p4], (2,2))\n",
    "    \n",
    "set_default_plot_size(20cm, 15cm)\n",
    "gridstack(p)"
   ]
  },
  {
   "cell_type": "markdown",
   "id": "490d0525",
   "metadata": {},
   "source": [
    "#### 2.3.1 Pouvoir prédictif du nombre de permis total émis"
   ]
  },
  {
   "cell_type": "code",
   "execution_count": null,
   "id": "fa10152e",
   "metadata": {},
   "outputs": [],
   "source": [
    "lm(@formula(Cerfs ~ Total), df2)"
   ]
  },
  {
   "cell_type": "markdown",
   "id": "3fc3166c",
   "metadata": {},
   "source": [
    "> Comme on peut le voir, cette variable ne semble pas posséder de pouvoir prédictif significatif pour un seil de 95% puisque zéro est inclu dans son intervalle de confiance."
   ]
  },
  {
   "cell_type": "markdown",
   "id": "4aca6326",
   "metadata": {},
   "source": [
    "#### 2.3.2 Pouvoir prédictif du nombre de permis résidents émis"
   ]
  },
  {
   "cell_type": "code",
   "execution_count": null,
   "id": "79800f6f",
   "metadata": {},
   "outputs": [],
   "source": [
    "lm(@formula(Cerfs ~ Résidents), df2)"
   ]
  },
  {
   "cell_type": "markdown",
   "id": "a3f7943a",
   "metadata": {},
   "source": [
    "> Comme on peut le voir, cette variable semble posséder un pouvoir prédictif significatif, car zéro n'est pas inclu dans son intervalle de confiance."
   ]
  },
  {
   "cell_type": "markdown",
   "id": "40ba59ac",
   "metadata": {},
   "source": [
    "#### 2.3.3 Pouvoir prédictif du nombre de permis non-résidents émis"
   ]
  },
  {
   "cell_type": "code",
   "execution_count": null,
   "id": "09cf99a9",
   "metadata": {},
   "outputs": [],
   "source": [
    "df2.nonres = df2[!, \"Non-résidents\"]\n",
    "lm(@formula(Cerfs ~ nonres), df2)"
   ]
  },
  {
   "cell_type": "markdown",
   "id": "860a233f",
   "metadata": {},
   "source": [
    "> Comme on peut le voir, cette variable semble aussi posséder un pouvoir prédictif significatif."
   ]
  },
  {
   "cell_type": "markdown",
   "id": "39dae74e",
   "metadata": {},
   "source": [
    "#### 2.3.4 Pouvoir prédictif du nombre de permis permier abbatage"
   ]
  },
  {
   "cell_type": "code",
   "execution_count": null,
   "id": "57fce8ed",
   "metadata": {},
   "outputs": [],
   "source": [
    "df2.premierabbatage = df2[!, \"Résidents premier abbatage\"]\n",
    "df_premier_abbatage = filter(row -> row.premierabbatage != 0,  df2) #Enlever les missing\n",
    "lm(@formula(Cerfs ~ premierabbatage), df_premier_abbatage)"
   ]
  },
  {
   "cell_type": "markdown",
   "id": "0f458f04",
   "metadata": {},
   "source": [
    "> Comme on peut le voir, cette variable ne semble pas posséder de pouvoir prédictif significatif."
   ]
  },
  {
   "cell_type": "markdown",
   "id": "bf5a6f68",
   "metadata": {},
   "source": [
    "#### Conclusion\n",
    "\n",
    "On peut donc conclure que seuls les permis résidents ainsi que les permi-non-résidents ont une influence sur le nombre de cerfs récoltés par année. De ce fait, nous les utiliserons pour tester des modèles."
   ]
  },
  {
   "cell_type": "markdown",
   "id": "3ad242c9",
   "metadata": {},
   "source": [
    "### 2.4 Utilisation de la température moyenne comme variable explicative"
   ]
  },
  {
   "cell_type": "markdown",
   "id": "0f90bfe3",
   "metadata": {},
   "source": [
    "###### 2.4.1 Graphique du nombre de cerfs selon la température moyenne durant la période de chasse"
   ]
  },
  {
   "cell_type": "code",
   "execution_count": null,
   "id": "fa6e58e9",
   "metadata": {},
   "outputs": [],
   "source": [
    "set_default_plot_size(16cm, 10cm)\n",
    "#Nous enlevons 2013, car cette donnée était manquante pour les données de météo originaux.\n",
    "plot(filter(row -> row.Année !== 2013,Matrice), x=:Température, y=:Cerfs, Geom.line, Geom.point)"
   ]
  },
  {
   "cell_type": "markdown",
   "id": "b3ec3424",
   "metadata": {},
   "source": [
    "Il ne semble pas y avoir un lien linéaire entre la température moyenne annuelle et le nombre de cerfs récoltés au total dans l'année. "
   ]
  },
  {
   "cell_type": "markdown",
   "id": "4e947632",
   "metadata": {
    "scrolled": true
   },
   "source": [
    "#### 2.4.2 Pouvoir prédictif de la température"
   ]
  },
  {
   "cell_type": "markdown",
   "id": "7ec6344a",
   "metadata": {},
   "source": [
    "Étant non linéaire, il se pourrait qu'une relation polynomiale puisse avoir un pouvoir prédictif significatif sur le nombre de cerfs récoltés annuellement. De ce fait, regardons à partir de quel modèle, zéro n'est pas inclu dans l'intervalle de confiance des coefficients."
   ]
  },
  {
   "cell_type": "code",
   "execution_count": null,
   "id": "93550548",
   "metadata": {},
   "outputs": [],
   "source": [
    "lm(@formula(Cerfs ~ Température), filter(row -> row.Année !== 2013, Matrice))"
   ]
  },
  {
   "cell_type": "code",
   "execution_count": null,
   "id": "0f5564ac",
   "metadata": {},
   "outputs": [],
   "source": [
    "lm(@formula(Cerfs ~ Température + Température^2), filter(row -> row.Année !== 2013, Matrice))"
   ]
  },
  {
   "cell_type": "code",
   "execution_count": null,
   "id": "cb5776d6",
   "metadata": {},
   "outputs": [],
   "source": [
    "lm(@formula(Cerfs ~ Température + Température^2 + Température^3), filter(row -> row.Année !== 2013, Matrice))"
   ]
  },
  {
   "cell_type": "markdown",
   "id": "21d5bb70",
   "metadata": {},
   "source": [
    "On peut voir que zéro est toujours inclu dans l'intervalle de confiance des coefficient. De ce fait la température ne semble pas avoir un pouvoir prédictif significatif. Nous ne l'inclurons pas dans nos modèles de prédiction."
   ]
  },
  {
   "cell_type": "markdown",
   "id": "69e4318b",
   "metadata": {},
   "source": [
    "### 2.5 Utilisation de la quantité de pluie totale comme variable explicative"
   ]
  },
  {
   "cell_type": "markdown",
   "id": "1d642c68",
   "metadata": {},
   "source": [
    "###### 2.5.1 Graphique du nombre de cerfs selon la quantité de pluie totale durant la période de chasse"
   ]
  },
  {
   "cell_type": "code",
   "execution_count": null,
   "id": "24c4c72b",
   "metadata": {},
   "outputs": [],
   "source": [
    "set_default_plot_size(16cm, 10cm)\n",
    "plot(filter(row -> row.Année !== 2013, Matrice), x=:\"Pluie_totale\",y=:Cerfs, Geom.line, Geom.point)"
   ]
  },
  {
   "cell_type": "markdown",
   "id": "2a894f37",
   "metadata": {},
   "source": [
    "Comme on peut le voir, il ne semble pas y avoir de relation linéaire ente la quantité de pluie et le nombre de cerfs. De ce fait nous verrons aussi le pouvoir prédictif des relations polynomiales."
   ]
  },
  {
   "cell_type": "markdown",
   "id": "ac9b6afd",
   "metadata": {},
   "source": [
    "###### 2.5.2 Pouvoir prédictif de la pluie"
   ]
  },
  {
   "cell_type": "code",
   "execution_count": null,
   "id": "8311dde9",
   "metadata": {},
   "outputs": [],
   "source": [
    "lm(@formula(Cerfs ~ Pluie_totale), filter(row -> row.Année !== 2013, Matrice))"
   ]
  },
  {
   "cell_type": "code",
   "execution_count": null,
   "id": "b08a5290",
   "metadata": {},
   "outputs": [],
   "source": [
    "lm(@formula(Cerfs ~ Pluie_totale + Pluie_totale^2 ), filter(row -> row.Année !== 2013, Matrice))"
   ]
  },
  {
   "cell_type": "code",
   "execution_count": null,
   "id": "cd187bce",
   "metadata": {},
   "outputs": [],
   "source": [
    "lm(@formula(Cerfs ~ Pluie_totale + Pluie_totale^2 + Pluie_totale^3 ), filter(row -> row.Année !== 2013, Matrice))"
   ]
  },
  {
   "cell_type": "markdown",
   "id": "a5efac0f",
   "metadata": {},
   "source": [
    "Zéro n'est dans l'intervalle de confiance de la relation cubique. De ce fait, la pluie totale durant la période de chasse semble avoir un pouvoir prédictif significatif."
   ]
  },
  {
   "cell_type": "markdown",
   "id": "ebb9689b",
   "metadata": {},
   "source": [
    "### 2.6 Utilisation de la quantité de neige totale comme variable explicative"
   ]
  },
  {
   "cell_type": "markdown",
   "id": "fed1e646",
   "metadata": {},
   "source": [
    "###### 2.6.1 Graphique de la neige totale durant la période de chasse selon les années"
   ]
  },
  {
   "cell_type": "code",
   "execution_count": null,
   "id": "23bf62d3",
   "metadata": {},
   "outputs": [],
   "source": [
    "set_default_plot_size(16cm, 10cm)\n",
    "plot(filter(row -> row.Année !== 2013, Matrice), x=:\"Neige_totale\", y=:Cerfs, Geom.line, Geom.point)"
   ]
  },
  {
   "cell_type": "markdown",
   "id": "e2d379c6",
   "metadata": {},
   "source": [
    "Ici aussi on ne voit pas de lien linéaire entre la neige totale durant la période de chasse annuelle et le nombre de cerfs récoltés. Cependant, cette courbe l'allure générale d'une parabole. De ce fait, ils serait intéressant d'utiliser un modèle quadratique pour estimer le nombre de cerfs."
   ]
  },
  {
   "cell_type": "markdown",
   "id": "d0869ae2",
   "metadata": {},
   "source": [
    "###### 2.6.2 Pouvoir prédictif de la neige"
   ]
  },
  {
   "cell_type": "code",
   "execution_count": null,
   "id": "bb9e30de",
   "metadata": {},
   "outputs": [],
   "source": [
    "lm(@formula(Cerfs ~ Neige_totale), filter(row -> row.Année !== 2013, Matrice))"
   ]
  },
  {
   "cell_type": "code",
   "execution_count": null,
   "id": "e8d20017",
   "metadata": {},
   "outputs": [],
   "source": [
    "lm(@formula(Cerfs ~ Neige_totale + Neige_totale^2), filter(row -> row.Année !== 2013, Matrice))"
   ]
  },
  {
   "cell_type": "code",
   "execution_count": null,
   "id": "6faa921e",
   "metadata": {},
   "outputs": [],
   "source": [
    "lm(@formula(Cerfs ~ Neige_totale + Neige_totale^2 + Neige_totale^3), filter(row -> row.Année !== 2013, Matrice))"
   ]
  },
  {
   "cell_type": "markdown",
   "id": "e80c419d",
   "metadata": {},
   "source": [
    "Zéro est inclu dans l'intervalle de confiance des 3 modèles, ce qui impliquerait que la neige n'a pas un pouvoir prédictif significatif, nous allons tout de même garder le modèle quadratique du à son allure prononcé graphiquement."
   ]
  },
  {
   "cell_type": "markdown",
   "id": "b7a815dc",
   "metadata": {},
   "source": [
    "### 2.7 Utilisation de la neige totale au sol comme variable explictive"
   ]
  },
  {
   "cell_type": "markdown",
   "id": "bfa2756b",
   "metadata": {},
   "source": [
    "###### 2.7.1 Graphique du nombre de cerfs récolté selon la neige totale au sol "
   ]
  },
  {
   "cell_type": "code",
   "execution_count": null,
   "id": "70d5494a",
   "metadata": {},
   "outputs": [],
   "source": [
    "set_default_plot_size(16cm, 10cm)\n",
    "plot(filter(row -> row.Année !== 2013, Matrice), x=:\"Neige_totale_au_sol\", y=:Cerfs, Geom.line, Geom.point)"
   ]
  },
  {
   "cell_type": "markdown",
   "id": "14860a20",
   "metadata": {},
   "source": [
    "Il n'y a pas de relation linéaire entre la quantité de neige au sol et le combre de cerfs récoltés durant la période de chasse. \n",
    "Cette courbe semble pouvoir etre approximé par une parabole. De ce fait, nous pourrons voir si une relation quadratique a un pouvoir significatif."
   ]
  },
  {
   "cell_type": "markdown",
   "id": "34758635",
   "metadata": {},
   "source": [
    "###### 2.7.2  Pouvoir prédictif de la neige totale au sol"
   ]
  },
  {
   "cell_type": "code",
   "execution_count": null,
   "id": "947de626",
   "metadata": {},
   "outputs": [],
   "source": [
    "lm(@formula(Cerfs ~ Neige_totale_au_sol), filter(row -> row.Année !== 2013, Matrice))"
   ]
  },
  {
   "cell_type": "code",
   "execution_count": null,
   "id": "76fd108a",
   "metadata": {},
   "outputs": [],
   "source": [
    "lm(@formula(Cerfs ~ Neige_totale_au_sol + Neige_totale_au_sol^2), filter(row -> row.Année !== 2013, Matrice))"
   ]
  },
  {
   "cell_type": "markdown",
   "id": "5d226de8",
   "metadata": {},
   "source": [
    "Pour tous ces modèles, zéro est inclu dans l'intervalle de confiance. De ce fait, la neige totale au sol ne semble pas avoir un effet prédictif significatif. Nous ne l'incluerons pas dans notre modèle de prédiction à plusieurs variables."
   ]
  },
  {
   "cell_type": "markdown",
   "id": "7664c83a",
   "metadata": {},
   "source": [
    "### 2.8 Utilisation du nombre de jours ayant de la neige au sol comme variable explicative"
   ]
  },
  {
   "cell_type": "markdown",
   "id": "119f26a8",
   "metadata": {},
   "source": [
    "#### 2.8.1 Graphique du nombre de cerfs récoltés selon le nombre de jours ayant de la neige au sol"
   ]
  },
  {
   "cell_type": "code",
   "execution_count": null,
   "id": "23819d86",
   "metadata": {},
   "outputs": [],
   "source": [
    "set_default_plot_size(16cm, 10cm)\n",
    "plot(filter(row -> row.Année !== 2013, Matrice), x=:\"Jours_neige_au_sol\", y=:Cerfs, Geom.line, Geom.point)"
   ]
  },
  {
   "cell_type": "markdown",
   "id": "16acc9f8",
   "metadata": {},
   "source": [
    "La relation entre le nombre de jours ayant de la neige au sol et le nombre de cerfs n'est pas linéaire. Cependant, cette courbe resemble un peu a celle d'une relation cubic. Nous explorons alors le pouvoir prédictif des relations polynomiales."
   ]
  },
  {
   "cell_type": "markdown",
   "id": "80a689ed",
   "metadata": {},
   "source": [
    "#### 2.8.2 Pouvoir prédictif du nombre de jours ayant de la neige au sol"
   ]
  },
  {
   "cell_type": "code",
   "execution_count": null,
   "id": "655dac5b",
   "metadata": {},
   "outputs": [],
   "source": [
    "lm(@formula(Cerfs ~ Jours_neige_au_sol), filter(row -> row.Année !== 2013, Matrice))"
   ]
  },
  {
   "cell_type": "code",
   "execution_count": null,
   "id": "44090dcf",
   "metadata": {},
   "outputs": [],
   "source": [
    "lm(@formula(Cerfs ~ Jours_neige_au_sol + Jours_neige_au_sol^2), filter(row -> row.Année !== 2013, Matrice))"
   ]
  },
  {
   "cell_type": "code",
   "execution_count": null,
   "id": "98569032",
   "metadata": {},
   "outputs": [],
   "source": [
    "lm(@formula(Cerfs ~ Jours_neige_au_sol + Jours_neige_au_sol^2 + Jours_neige_au_sol^3), filter(row -> row.Année !== 2013, Matrice))"
   ]
  },
  {
   "cell_type": "markdown",
   "id": "d3184394",
   "metadata": {},
   "source": [
    "Zéro est toujours inclu dans l'intervalle de confiance de ces trois relations, de ce fait le nombre de jours de neige au sol ne semble pas avoir un pouvoir prédictif significatif. Nous n'incluronts pas non plus cette variable dans notre modèle de prédiction à plusieurs variables."
   ]
  },
  {
   "cell_type": "markdown",
   "id": "0ee7ba45",
   "metadata": {},
   "source": [
    "### 2.9 Utilisation du nombre de jours de neige comme variable explicative"
   ]
  },
  {
   "cell_type": "markdown",
   "id": "0d5fb0cd",
   "metadata": {},
   "source": [
    "#### 2.9.1 Graphique du nombre de cerfs récoltés selon le nombre de jours de neige"
   ]
  },
  {
   "cell_type": "code",
   "execution_count": null,
   "id": "dac4d0ec",
   "metadata": {},
   "outputs": [],
   "source": [
    "set_default_plot_size(16cm, 10cm)\n",
    "plot(filter(row -> row.Année !== 2013, Matrice), x=:\"Jours_de_neige\", y=:Cerfs, Geom.line, Geom.point)"
   ]
  },
  {
   "cell_type": "markdown",
   "id": "861d20bd",
   "metadata": {},
   "source": [
    "Cette relation entre le nombre de jours ayant de la neige au sol et le nombre de cerfs n'est pas linéaire. Cependant, cette courbe resemble un peu a celle d'une relation Y = x + x2 + x3 +x4. Nous explorons alors le pouvoir prédictif des relations polynomiales."
   ]
  },
  {
   "cell_type": "markdown",
   "id": "891eb6f1",
   "metadata": {},
   "source": [
    "###### 2.9.2 Pouvoir prédictif du nombre de jours de neiges par année"
   ]
  },
  {
   "cell_type": "code",
   "execution_count": null,
   "id": "66cfe296",
   "metadata": {},
   "outputs": [],
   "source": [
    "lm(@formula(Cerfs ~ Jours_de_neige), filter(row -> row.Année !== 2013, Matrice))"
   ]
  },
  {
   "cell_type": "code",
   "execution_count": null,
   "id": "7cb74966",
   "metadata": {},
   "outputs": [],
   "source": [
    "lm(@formula(Cerfs ~ Jours_de_neige +  Jours_de_neige^2), filter(row -> row.Année !== 2013, Matrice))"
   ]
  },
  {
   "cell_type": "code",
   "execution_count": null,
   "id": "a9ee607f",
   "metadata": {},
   "outputs": [],
   "source": [
    "lm(@formula(Cerfs ~ Jours_de_neige +  Jours_de_neige^2 +  Jours_de_neige^3), filter(row -> row.Année !== 2013, Matrice))"
   ]
  },
  {
   "cell_type": "code",
   "execution_count": null,
   "id": "31f808d6",
   "metadata": {},
   "outputs": [],
   "source": [
    "lm(@formula(Cerfs ~ Jours_de_neige +  Jours_de_neige^2 +  Jours_de_neige^3 +  Jours_de_neige^4), filter(row -> row.Année !== 2013, Matrice))"
   ]
  },
  {
   "cell_type": "markdown",
   "id": "6ce9d4ce",
   "metadata": {},
   "source": [
    "Puisque zéro n'est pas inclu dans l'intervalle de confiance de la derniere relation, il y a donc un pouvoir prédictif significatif pour celui-ci."
   ]
  },
  {
   "cell_type": "markdown",
   "id": "947cc099",
   "metadata": {},
   "source": [
    "### 2.10 Utilisation du nombre de jours de pluie"
   ]
  },
  {
   "cell_type": "markdown",
   "id": "f6fd485b",
   "metadata": {},
   "source": [
    "###### 2.10.1 Graphique du nombre de cerfs récoltés selon le nombre de jours de pluie"
   ]
  },
  {
   "cell_type": "code",
   "execution_count": null,
   "id": "7971bcce",
   "metadata": {},
   "outputs": [],
   "source": [
    "set_default_plot_size(16cm, 10cm)\n",
    "plot(filter(row -> row.Année !== 2013, Matrice), x=:\"Jours_de_pluie\", y=:Cerfs, Geom.line, Geom.point)"
   ]
  },
  {
   "cell_type": "markdown",
   "id": "8ea46d40",
   "metadata": {},
   "source": [
    "Ce graphique resemble à une parabole, de ce fait il se pourait que la relation soit quadratique. Nous explorerons le pouvoir prédictif de cette posibilité."
   ]
  },
  {
   "cell_type": "markdown",
   "id": "808d2dfe",
   "metadata": {},
   "source": [
    "###### 2.10.2 Pouvoir prédictif du nombre de jours de pluie"
   ]
  },
  {
   "cell_type": "code",
   "execution_count": null,
   "id": "e6156dc1",
   "metadata": {},
   "outputs": [],
   "source": [
    "lm(@formula(Cerfs ~ Jours_de_pluie), filter(row -> row.Année !== 2013, Matrice))"
   ]
  },
  {
   "cell_type": "code",
   "execution_count": null,
   "id": "1c185a54",
   "metadata": {},
   "outputs": [],
   "source": [
    "lm(@formula(Cerfs ~ Jours_de_pluie + Jours_de_pluie^2), filter(row -> row.Année !== 2013, Matrice))"
   ]
  },
  {
   "cell_type": "code",
   "execution_count": null,
   "id": "0bb39cc0",
   "metadata": {},
   "outputs": [],
   "source": [
    "lm(@formula(Cerfs ~ Jours_de_pluie + Jours_de_pluie^2 + Jours_de_pluie^3), filter(row -> row.Année !== 2013, Matrice))"
   ]
  },
  {
   "cell_type": "markdown",
   "id": "319ee65a",
   "metadata": {},
   "source": [
    "On peut voir que seul le modèle quadratique n'inclue pas dans l'intervalle de confiance. Alors, il se pourrait que le nombre de jours de pluie ait un pouvoir prédictif significatif sur le nombre de cerfs récoltés."
   ]
  },
  {
   "cell_type": "markdown",
   "id": "568ee703",
   "metadata": {},
   "source": [
    "### 2.11 Utilisation du prix moyen de l'essence à Montréal comme variable explicative"
   ]
  },
  {
   "cell_type": "markdown",
   "id": "8c81c0d2",
   "metadata": {},
   "source": [
    "###### 2.11.1 Graphique du nombre de cerfs récoltés selon le prix moyen de l'essence à Montréal"
   ]
  },
  {
   "cell_type": "code",
   "execution_count": null,
   "id": "5d707fd4",
   "metadata": {},
   "outputs": [],
   "source": [
    "set_default_plot_size(16cm, 10cm)\n",
    "plot(Matrice, x=:\"Prix_moyen_Montréal\", y=:Cerfs, Geom.line, Geom.point)"
   ]
  },
  {
   "cell_type": "markdown",
   "id": "540661b7",
   "metadata": {},
   "source": [
    "Cette relation n'est pas inéaire. En effet, la courbe a plutot l'allure d'une relation cubique. Nous explorerons le pouvoir prédictif des relations polynomiales avec cette variable explicative."
   ]
  },
  {
   "cell_type": "markdown",
   "id": "e5a889f2",
   "metadata": {},
   "source": [
    "###### 2.11.2 Pouvoir prédictif du prix moyen de l'essence à Montréal"
   ]
  },
  {
   "cell_type": "code",
   "execution_count": null,
   "id": "23b87eb4",
   "metadata": {},
   "outputs": [],
   "source": [
    "lm(@formula(Cerfs ~ Prix_moyen_Montréal), Matrice)"
   ]
  },
  {
   "cell_type": "code",
   "execution_count": null,
   "id": "e0604f0e",
   "metadata": {},
   "outputs": [],
   "source": [
    "lm(@formula(Cerfs ~ Prix_moyen_Montréal + Prix_moyen_Montréal^2 ), Matrice)"
   ]
  },
  {
   "cell_type": "code",
   "execution_count": null,
   "id": "960445b2",
   "metadata": {},
   "outputs": [],
   "source": [
    "lm(@formula(Cerfs ~ Prix_moyen_Montréal + Prix_moyen_Montréal^2 + Prix_moyen_Montréal^3 ), Matrice)"
   ]
  },
  {
   "cell_type": "markdown",
   "id": "5af3860a",
   "metadata": {},
   "source": [
    "Comme nous l'avions prédis, zéro n'est pas inclu dans l'intervalle de confiance pour le modèle cubique, alors il pourrait y avoir un pouvoir prédictif significatif."
   ]
  },
  {
   "cell_type": "markdown",
   "id": "a2fb2e49",
   "metadata": {},
   "source": [
    "### 2.12 Utilisation du prix moyen de l'essence à Québec comme variable explicative"
   ]
  },
  {
   "cell_type": "markdown",
   "id": "c5ce493c",
   "metadata": {},
   "source": [
    "###### 2.12.1 Graphique du nombre de cerfs récoltés selon le prix moyen de l'essence à Montréal"
   ]
  },
  {
   "cell_type": "code",
   "execution_count": null,
   "id": "a198740b",
   "metadata": {},
   "outputs": [],
   "source": [
    "set_default_plot_size(16cm, 10cm)\n",
    "plot(Matrice, x=:\"Prix_moyen_Québec\", y=Matrice.Cerfs, Geom.line, Geom.point, Guide.ylabel(\"Cerfs récoltés\"))"
   ]
  },
  {
   "cell_type": "markdown",
   "id": "a9c7fe39",
   "metadata": {},
   "source": [
    "Tout comme le prix de l'essence a Montréal, cette relation n'est pas linéaire. La courbe a plutot l'allure d'une relation polynomiale de degré 3. Nous explorerons, donc, le pouvoir prédictif de ces relations."
   ]
  },
  {
   "cell_type": "markdown",
   "id": "838fdaeb",
   "metadata": {},
   "source": [
    "###### 2.12.2 Pouvoir prédictif du prix moyen de l'essence à Québec"
   ]
  },
  {
   "cell_type": "code",
   "execution_count": null,
   "id": "ebd850c6",
   "metadata": {},
   "outputs": [],
   "source": [
    "lm(@formula(Cerfs ~ Prix_moyen_Québec), Matrice)"
   ]
  },
  {
   "cell_type": "code",
   "execution_count": null,
   "id": "e3637a17",
   "metadata": {},
   "outputs": [],
   "source": [
    "lm(@formula(Cerfs ~ Prix_moyen_Québec + Prix_moyen_Québec^2 ), Matrice)"
   ]
  },
  {
   "cell_type": "code",
   "execution_count": null,
   "id": "74cc8799",
   "metadata": {},
   "outputs": [],
   "source": [
    "lm(@formula(Cerfs ~ Prix_moyen_Québec + Prix_moyen_Québec^2 + Prix_moyen_Québec^3 ), Matrice)"
   ]
  },
  {
   "cell_type": "markdown",
   "id": "004eecf4",
   "metadata": {},
   "source": [
    "Encore une fois, comme nous l'avions prédis, c'est la relation polynomiale de degré 3 qui a un pouvoir prédictif significatif."
   ]
  },
  {
   "cell_type": "markdown",
   "id": "2784f4b4",
   "metadata": {},
   "source": [
    "### 2.13 Utilisation du prix moyen de l'essence entre Montréal et Québec comme variable explicative"
   ]
  },
  {
   "cell_type": "markdown",
   "id": "3e4a8ddf",
   "metadata": {},
   "source": [
    "###### 2.13.1 Graphique du nombre de cerfs récoltés selon le prix moyen de l'essence à Montréal"
   ]
  },
  {
   "cell_type": "code",
   "execution_count": null,
   "id": "f5869df5",
   "metadata": {},
   "outputs": [],
   "source": [
    "set_default_plot_size(16cm, 10cm)\n",
    "plot(Matrice, x=:\"Prix_moyen_Essence\", y=:Cerfs, Geom.line, Geom.point)"
   ]
  },
  {
   "cell_type": "markdown",
   "id": "38e1babd",
   "metadata": {},
   "source": [
    "Comme pour le prix de Montréal et de Québec, la relation n'est pas linéaire, mais a plutot l'allure d'une courbe polynomiale de degré 3. Nous confirmerons ceci, en analysant le pouvoir prédictif de celle-ci."
   ]
  },
  {
   "cell_type": "markdown",
   "id": "99cbcdd4",
   "metadata": {},
   "source": [
    "###### 2.13.2 Pouvoir prédictif du prix moyen de l'essence"
   ]
  },
  {
   "cell_type": "code",
   "execution_count": null,
   "id": "fcc04d40",
   "metadata": {},
   "outputs": [],
   "source": [
    "lm(@formula(Cerfs ~ Prix_moyen_Essence), Matrice)"
   ]
  },
  {
   "cell_type": "code",
   "execution_count": null,
   "id": "8ad4262c",
   "metadata": {},
   "outputs": [],
   "source": [
    "lm(@formula(Cerfs ~ Prix_moyen_Essence +  Prix_moyen_Essence^2), Matrice)"
   ]
  },
  {
   "cell_type": "code",
   "execution_count": null,
   "id": "8d7d7263",
   "metadata": {},
   "outputs": [],
   "source": [
    "lm(@formula(Cerfs ~ Prix_moyen_Essence +  Prix_moyen_Essence^2 + Prix_moyen_Essence^3), Matrice)"
   ]
  },
  {
   "cell_type": "markdown",
   "id": "2a18dece",
   "metadata": {},
   "source": [
    "Encore une fois, zéro n'est pas inclu dans l'intervalle de confiance de la derniere relation, donc il se pourrait que le prix moyen de l'essence ait un pouvoir prédictif significatif."
   ]
  },
  {
   "cell_type": "markdown",
   "id": "931e9d84",
   "metadata": {},
   "source": [
    "### 2.14 Conclusion de l'analyse exploratoire pour le nombre de cerfs totale"
   ]
  },
  {
   "cell_type": "markdown",
   "id": "d81f9f64",
   "metadata": {},
   "source": [
    "Suite à cette analyse du pouvoir prédictif significatif des variables explicatives, voici celles qui seront utilisés dans nos prochains modèles de prédiction du nombre de cerfs récoltés dans les zones  pour les modeles de régression multiple et les modeles polynomiales:\n",
    "\n",
    "Variables explicatives :\n",
    "1. Permis résident\n",
    "2. Permis non-résidents\n",
    "3. Année (jusqu'a degré 4)\n",
    "4. Pluie totale (degré 3)\n",
    "5. Jours de neige (degré 4)\n",
    "6. Jours de pluie (degré 2)\n",
    "7. Prix de l'essence Mtl (degré 3)\n",
    "8. Prix de l'essence Qc (degré 3)\n",
    "9. Prix de l'essence (degré 3)\n",
    "\n",
    "Variables d'intérêt:\n",
    "1. Nombre de cerfs récoltés\n",
    "2. Nombre de cerfs récoltés pour un type d'arme spécifique"
   ]
  },
  {
   "cell_type": "markdown",
   "id": "e32a0850",
   "metadata": {},
   "source": [
    "### 2.15 Analyse exploratoire des proportions de cerfs annuelle pour chaque zones"
   ]
  },
  {
   "cell_type": "markdown",
   "id": "3c82c2ca",
   "metadata": {},
   "source": [
    "Un modèle qu'on pense qu'il serait intéressant d'explorer serait l'évolution des proportions de cerfs pour chaque zones. Cela impliquerait que l'endroit ou un cerfs est récolté suit une loi catégorielle pour chaque zones."
   ]
  },
  {
   "cell_type": "markdown",
   "id": "77c834d9",
   "metadata": {},
   "source": [
    "#### 2.15.1 Ajout des proportions pour chaque zones dans notre matrice de donnée"
   ]
  },
  {
   "cell_type": "code",
   "execution_count": 21,
   "id": "913b88a4",
   "metadata": {},
   "outputs": [
    {
     "data": {
      "text/plain": [
       "5-element Vector{Float64}:\n",
       "  3.0143525026972244\n",
       "  4.966162095007683\n",
       " 15.987184097819334\n",
       "  6.5844966815967565\n",
       " 15.843332134566973"
      ]
     },
     "execution_count": 21,
     "metadata": {},
     "output_type": "execute_result"
    }
   ],
   "source": [
    "MatriceProportions = MatriceZones\n",
    "MatriceProportions.Proportion = (MatriceProportions.Cerfs ./ MatriceProportions.Cerfs_totale)*100\n",
    "first(MatriceProportions[!, :Proportion], 5)"
   ]
  },
  {
   "cell_type": "markdown",
   "id": "9a76d63f",
   "metadata": {},
   "source": [
    "#### 2.15.1 Utilisation de l'année comme variable explicative"
   ]
  },
  {
   "cell_type": "code",
   "execution_count": null,
   "id": "86f9a9ec",
   "metadata": {},
   "outputs": [],
   "source": [
    "zones = unique(MatriceProportions[!, :Zone])\n",
    "\n",
    "pp = Plot[]\n",
    "\n",
    "set_default_plot_size(10cm, 6cm)\n",
    "for i = 1:length(zones)\n",
    "    p = plot(groupby(MatriceProportions, :Zone)[i], x=:Année, y=:Proportion, Geom.line, Geom.point, Guide.title(raw\"Zone\"*\" $(groupby(MatriceProportions, :Zone)[i].Zone[1])\"))\n",
    "    push!(pp, p)\n",
    "end\n",
    "\n",
    "# Pour afficher les 4 premières zones \n",
    "\n",
    "p = reshape(pp[1:4], (2,2))\n",
    "\n",
    "set_default_plot_size(20cm, 15cm)\n",
    "gridstack(p)"
   ]
  },
  {
   "cell_type": "markdown",
   "id": "ddedc36e",
   "metadata": {},
   "source": [
    "Comme nous pouvons le voir par ces graphiques, l'évolution des proportions au cours des années n'est pas constante ni linéaire. En effet, les courbes onts plus l'allure de relations polynomiales. Explorerons le pouvoir prédictif de l'année sur les proportions d'une zone."
   ]
  },
  {
   "cell_type": "code",
   "execution_count": null,
   "id": "186ccb46",
   "metadata": {},
   "outputs": [],
   "source": [
    "models = []\n",
    "\n",
    "z1 = DataFrame(groupby(MatriceProportions, :Zone))\n",
    "    \n",
    "zones = unique(MatriceProportions[!, :Zone])\n",
    "\n",
    "models = []\n",
    "for i = 1:length(zones)\n",
    "    m = lm(@formula(Proportion ~ Année), groupby(MatriceProportions, :Zone)[i])\n",
    "    push!(models, adjr2(m))\n",
    "end\n",
    "\n",
    "results = DataFrame(Zone=zones, R2_ajusté = models)\n",
    "sort(results, order(:R2_ajusté, rev=true))"
   ]
  },
  {
   "cell_type": "code",
   "execution_count": null,
   "id": "adf8bb34",
   "metadata": {},
   "outputs": [],
   "source": [
    "models = []\n",
    "\n",
    "z1 = DataFrame(groupby(MatriceProportions, :Zone))\n",
    "    \n",
    "zones = unique(MatriceProportions[!, :Zone])\n",
    "\n",
    "models = []\n",
    "for i = 1:length(zones)\n",
    "    m = lm(@formula(Proportion ~ Année + Année^2), groupby(MatriceProportions, :Zone)[i])\n",
    "    push!(models, adjr2(m))\n",
    "end\n",
    "\n",
    "results = DataFrame(Zone=zones, R2_ajusté = models)\n",
    "sort(results, order(:R2_ajusté, rev=true))"
   ]
  },
  {
   "cell_type": "code",
   "execution_count": null,
   "id": "8bd7865e",
   "metadata": {},
   "outputs": [],
   "source": [
    "models = []\n",
    "\n",
    "z1 = DataFrame(groupby(MatriceProportions, :Zone))\n",
    "    \n",
    "zones = unique(MatriceProportions[!, :Zone])\n",
    "\n",
    "models = []\n",
    "for i = 1:length(zones)\n",
    "    m = lm(@formula(Proportion ~ Année + Année^2 + Année^3), groupby(MatriceProportions, :Zone)[i])\n",
    "    push!(models, adjr2(m))\n",
    "end\n",
    "\n",
    "results = DataFrame(Zone=zones, R2_ajusté = models)\n",
    "sort(results, order(:R2_ajusté, rev=true))"
   ]
  },
  {
   "cell_type": "markdown",
   "id": "28efc4d7",
   "metadata": {},
   "source": [
    "Comme on peut le voir, augmenter le degré du polynome avec l'année augmente le R2 ajusté pour certaines zones, mais le diminue pour d'autre. Cela implique que chaque zone a un degré optimale différent. Il faudra tenir compte de cela, lors de la mise en place de nos modèles. L'année semble cependant etre un bon pour certaines zones tels que les zones 27, 28 et 8 et ce dans tous les cas."
   ]
  },
  {
   "cell_type": "markdown",
   "id": "15c7e35e",
   "metadata": {},
   "source": [
    "#### 2.15.2 Utilisation de la température comme variable explicative"
   ]
  },
  {
   "cell_type": "code",
   "execution_count": null,
   "id": "2d1e1a52",
   "metadata": {},
   "outputs": [],
   "source": [
    "zones = unique(MatriceProportions[!, :Zone])\n",
    "\n",
    "pp = Plot[]\n",
    "\n",
    "set_default_plot_size(10cm, 6cm)\n",
    "for i = 1:length(zones)\n",
    "    p = plot(filter(row -> row.Année !== 2013, groupby(MatriceProportions, :Zone)[i]), x=:Température, y=:Proportion, Geom.line, Geom.point, Guide.title(raw\"Zone\"*\" $(groupby(MatriceProportions, :Zone)[i].Zone[1])\"))\n",
    "    push!(pp, p)\n",
    "end\n",
    "\n",
    "# Pour afficher les 4 premières zones \n",
    "\n",
    "p = reshape(pp[1:4], (2,2))\n",
    "\n",
    "set_default_plot_size(20cm, 15cm)\n",
    "gridstack(p)"
   ]
  },
  {
   "cell_type": "markdown",
   "id": "3d878eab",
   "metadata": {},
   "source": [
    "Comme nous pouvons le voir par ces graphiques, l'évolution des proportions avec la température n'est pas constante ni linéaire. En effet, les courbes onts plus l'allure de relations polynomiales. Explorerons le pouvoir prédictif de la température sur les proportions d'une zone."
   ]
  },
  {
   "cell_type": "code",
   "execution_count": null,
   "id": "8d77463b",
   "metadata": {},
   "outputs": [],
   "source": [
    "models = []\n",
    "\n",
    "z1 = DataFrame(groupby(MatriceProportions, :Zone))\n",
    "    \n",
    "zones = unique(MatriceProportions[!, :Zone])\n",
    "\n",
    "models = []\n",
    "for i = 1:length(zones)\n",
    "    m = lm(@formula(Proportion ~ Température), filter(row -> row.Année !== 2013, groupby(MatriceProportions, :Zone)[i]))\n",
    "    push!(models, adjr2(m))\n",
    "end\n",
    "\n",
    "results = DataFrame(Zone=zones, R2_ajusté = models)\n",
    "sort(results, order(:R2_ajusté, rev=true))"
   ]
  },
  {
   "cell_type": "code",
   "execution_count": null,
   "id": "8caaf056",
   "metadata": {},
   "outputs": [],
   "source": [
    "models = []\n",
    "\n",
    "z1 = DataFrame(groupby(MatriceProportions, :Zone))\n",
    "    \n",
    "zones = unique(MatriceProportions[!, :Zone])\n",
    "\n",
    "models = []\n",
    "for i = 1:length(zones)\n",
    "    m = lm(@formula(Proportion ~ Température + Température^2), filter(row -> row.Année !== 2013, groupby(MatriceProportions, :Zone)[i]))\n",
    "    push!(models, adjr2(m))\n",
    "end\n",
    "\n",
    "results = DataFrame(Zone=zones, R2_ajusté = models)\n",
    "sort(results, order(:R2_ajusté, rev=true))"
   ]
  },
  {
   "cell_type": "code",
   "execution_count": null,
   "id": "f99d3939",
   "metadata": {},
   "outputs": [],
   "source": [
    "models = []\n",
    "\n",
    "z1 = DataFrame(groupby(MatriceProportions, :Zone))\n",
    "    \n",
    "zones = unique(MatriceProportions[!, :Zone])\n",
    "\n",
    "models = []\n",
    "for i = 1:length(zones)\n",
    "    m = lm(@formula(Proportion ~ Température + Température^2 + Température^3), filter(row -> row.Année !== 2013, groupby(MatriceProportions, :Zone)[i]))\n",
    "    push!(models, adjr2(m))\n",
    "end\n",
    "\n",
    "results = DataFrame(Zone=zones, R2_ajusté = models)\n",
    "sort(results, order(:R2_ajusté, rev=true))"
   ]
  },
  {
   "cell_type": "markdown",
   "id": "aee79fe3",
   "metadata": {},
   "source": [
    "\n",
    "Comme nous pouvons le voir, augemter le degré du polynome avec la température améliore le R2 ajusté de certaines zones. De ce fait, la température pourrait etre une variable qui valle la peine d'utiliser pour nos modèles de prédiction."
   ]
  },
  {
   "cell_type": "markdown",
   "id": "43b6cc49",
   "metadata": {},
   "source": [
    "#### 2.15.3 Utilisation du prix de l'essence moyen entre Montréal et Québec comme variable explicative"
   ]
  },
  {
   "cell_type": "code",
   "execution_count": null,
   "id": "b4fbac8a",
   "metadata": {},
   "outputs": [],
   "source": [
    "zones = unique(MatriceProportions[!, :Zone])\n",
    "\n",
    "pp = Plot[]\n",
    "\n",
    "set_default_plot_size(10cm, 6cm)\n",
    "for i = 1:length(zones)\n",
    "    p = plot(groupby(MatriceProportions, :Zone)[i], x=:Prix_moyen_Essence, y=:Proportion, Geom.line, Geom.point, Guide.title(raw\"Zone\"*\" $(groupby(MatriceProportions, :Zone)[i].Zone[1])\"))\n",
    "    push!(pp, p)\n",
    "end\n",
    "\n",
    "# Pour afficher les 4 premières zones \n",
    "\n",
    "p = reshape(pp[1:4], (2,2))\n",
    "\n",
    "set_default_plot_size(20cm, 15cm)\n",
    "gridstack(p)"
   ]
  },
  {
   "cell_type": "markdown",
   "id": "c19c8905",
   "metadata": {},
   "source": [
    "Comme on peut le voir, la variation des proportions semble etre coréler avec la vatration du prix moyen de l'essence."
   ]
  },
  {
   "cell_type": "code",
   "execution_count": null,
   "id": "b64b7ba4",
   "metadata": {},
   "outputs": [],
   "source": [
    "models = []\n",
    "\n",
    "z1 = DataFrame(groupby(MatriceProportions, :Zone))\n",
    "    \n",
    "zones = unique(MatriceProportions[!, :Zone])\n",
    "\n",
    "models = []\n",
    "for i = 1:length(zones)\n",
    "    m = lm(@formula(Proportion ~ Prix_moyen_Essence), groupby(MatriceProportions, :Zone)[i])\n",
    "    push!(models, adjr2(m))\n",
    "end\n",
    "\n",
    "results = DataFrame(Zone=zones, R2_ajusté = models)\n",
    "sort(results, order(:R2_ajusté, rev=true))"
   ]
  },
  {
   "cell_type": "code",
   "execution_count": null,
   "id": "69df70e8",
   "metadata": {},
   "outputs": [],
   "source": [
    "models = []\n",
    "\n",
    "z1 = DataFrame(groupby(MatriceProportions, :Zone))\n",
    "    \n",
    "zones = unique(MatriceProportions[!, :Zone])\n",
    "\n",
    "models = []\n",
    "for i = 1:length(zones)\n",
    "    m = lm(@formula(Proportion ~ Prix_moyen_Essence + Prix_moyen_Essence^2), groupby(MatriceProportions, :Zone)[i])\n",
    "    push!(models, adjr2(m))\n",
    "end\n",
    "\n",
    "results = DataFrame(Zone=zones, R2_ajusté = models)\n",
    "sort(results, order(:R2_ajusté, rev=true))"
   ]
  },
  {
   "cell_type": "code",
   "execution_count": null,
   "id": "240613dc",
   "metadata": {},
   "outputs": [],
   "source": [
    "models = []\n",
    "\n",
    "z1 = DataFrame(groupby(MatriceProportions, :Zone))\n",
    "    \n",
    "zones = unique(MatriceProportions[!, :Zone])\n",
    "\n",
    "models = []\n",
    "for i = 1:length(zones)\n",
    "    m = lm(@formula(Proportion ~ Prix_moyen_Essence + Prix_moyen_Essence^2 + Prix_moyen_Essence^3), groupby(MatriceProportions, :Zone)[i])\n",
    "    push!(models, adjr2(m))\n",
    "end\n",
    "\n",
    "results = DataFrame(Zone=zones, R2_ajusté = models)\n",
    "sort(results, order(:R2_ajusté, rev=true))"
   ]
  },
  {
   "cell_type": "markdown",
   "id": "29caa5bd",
   "metadata": {},
   "source": [
    "Comme on peut le voir, utiliser des degrés supérieur pour la relation polynomiale avec l'essence augmente les R2 ajustés. Cela implique qu'on devrait considérer ceux-ci dans nos modèles de régressions."
   ]
  },
  {
   "cell_type": "markdown",
   "id": "409a9762",
   "metadata": {},
   "source": [
    "#### 2.15.4 Utilisation de la quantité de neige au sol comme variable explicative"
   ]
  },
  {
   "cell_type": "code",
   "execution_count": null,
   "id": "64c16671",
   "metadata": {},
   "outputs": [],
   "source": [
    "zones = unique(MatriceProportions[!, :Zone])\n",
    "\n",
    "pp = Plot[]\n",
    "\n",
    "set_default_plot_size(10cm, 6cm)\n",
    "for i = 1:length(zones)\n",
    "    p = plot(filter(row -> row.Année !== 2013, groupby(MatriceProportions, :Zone)[i]), x=:Neige_totale_au_sol, y=:Proportion, Geom.line, Geom.point, Guide.title(raw\"Zone\"*\" $(groupby(MatriceProportions, :Zone)[i].Zone[1])\"))\n",
    "    push!(pp, p)\n",
    "end\n",
    "\n",
    "# Pour afficher les 4 premières zones \n",
    "\n",
    "p = reshape(pp[1:4], (2,2))\n",
    "\n",
    "set_default_plot_size(20cm, 15cm)\n",
    "gridstack(p)"
   ]
  },
  {
   "cell_type": "code",
   "execution_count": null,
   "id": "f402cffe",
   "metadata": {},
   "outputs": [],
   "source": [
    "models = []\n",
    "\n",
    "z1 = DataFrame(groupby(MatriceProportions, :Zone))\n",
    "    \n",
    "zones = unique(MatriceProportions[!, :Zone])\n",
    "\n",
    "models = []\n",
    "for i = 1:length(zones)\n",
    "    m = lm(@formula(Proportion ~ Neige_totale_au_sol), groupby(MatriceProportions, :Zone)[i])\n",
    "    push!(models, adjr2(m))\n",
    "end\n",
    "\n",
    "results = DataFrame(Zone=zones, R2_ajusté = models)\n",
    "sort(results, order(:R2_ajusté, rev=true))"
   ]
  },
  {
   "cell_type": "code",
   "execution_count": null,
   "id": "1a5e6e25",
   "metadata": {},
   "outputs": [],
   "source": [
    "models = []\n",
    "\n",
    "z1 = DataFrame(groupby(MatriceProportions, :Zone))\n",
    "    \n",
    "zones = unique(MatriceProportions[!, :Zone])\n",
    "\n",
    "models = []\n",
    "for i = 1:length(zones)\n",
    "    m = lm(@formula(Proportion ~ Neige_totale_au_sol+ Neige_totale_au_sol^2), groupby(MatriceProportions, :Zone)[i])\n",
    "    push!(models, adjr2(m))\n",
    "end\n",
    "\n",
    "results = DataFrame(Zone=zones, R2_ajusté = models)\n",
    "sort(results, order(:R2_ajusté, rev=true))"
   ]
  },
  {
   "cell_type": "code",
   "execution_count": null,
   "id": "53d62f91",
   "metadata": {},
   "outputs": [],
   "source": [
    "models = []\n",
    "\n",
    "z1 = DataFrame(groupby(MatriceProportions, :Zone))\n",
    "    \n",
    "zones = unique(MatriceProportions[!, :Zone])\n",
    "\n",
    "models = []\n",
    "for i = 1:length(zones)\n",
    "    m = lm(@formula(Proportion ~ Neige_totale_au_sol+ Neige_totale_au_sol^2 + Neige_totale_au_sol^3), groupby(MatriceProportions, :Zone)[i])\n",
    "    push!(models, adjr2(m))\n",
    "end\n",
    "\n",
    "results = DataFrame(Zone=zones, R2_ajusté = models)\n",
    "sort(results, order(:R2_ajusté, rev=true))"
   ]
  },
  {
   "cell_type": "markdown",
   "id": "b0192737",
   "metadata": {},
   "source": [
    "Comme on peut le voir, la quantité de neige au sol ne donne pas de meilleurs R2 ajustés que l'année ou le prix de l'essence. De plus, augmenter le degré du polynome, n'augmente pas significativement ceux-ci. De ce fait nous pensons pas l'utiliser pour nos modèles de prédiction des proportions de 2021."
   ]
  },
  {
   "cell_type": "markdown",
   "id": "95e308c6",
   "metadata": {},
   "source": [
    "#### 2.15.5 Conclusion de l'analyse exploratoire des proportions"
   ]
  },
  {
   "cell_type": "markdown",
   "id": "621027e9",
   "metadata": {},
   "source": [
    "Ce que nous pouvons conclure, c'est que la variation des proportions de cerfs calculés pour chaque zones varient selon des courbes polynomiales. De ce fait, nous pensons qu'il faudra utiliser de la régression polynomiale pour prédire les proportions de 2021. De plus, l'année et le prix moyen de l'essence semble pouvoir donner de bon modèles de prédictions."
   ]
  },
  {
   "cell_type": "markdown",
   "id": "42351a0c",
   "metadata": {},
   "source": [
    "## 3. Estimation du nombre de permis en 2021"
   ]
  },
  {
   "cell_type": "markdown",
   "id": "b08aaf84",
   "metadata": {},
   "source": [
    "Comme on peut le voir, le nombre de permis émis en 2021 n'est pas fourni, nous allons donc tenter de l'estimer, comme nous avons vu précédemment, seuls le nombre de permis résidents et non-résidents nous intéressent, alors nous n'allons estimer que ces valeurs\n",
    "\n",
    "#### 3.1 Permis résidents"
   ]
  },
  {
   "cell_type": "code",
   "execution_count": null,
   "id": "70fa4091",
   "metadata": {},
   "outputs": [],
   "source": [
    "set_default_plot_size(16cm, 10cm)\n",
    "plot(permis, x=:Année, y=:Résidents, Geom.line, Geom.point,\n",
    "    Guide.ylabel(\"Permis résidents vendus\"))"
   ]
  },
  {
   "cell_type": "markdown",
   "id": "60d90e82",
   "metadata": {},
   "source": []
  },
  {
   "cell_type": "code",
   "execution_count": null,
   "id": "639d8703",
   "metadata": {},
   "outputs": [],
   "source": [
    "n = size(permis, 1)\n",
    "Y = [permis[i, :Résidents] for i in 1:n-1]\n",
    "X = hcat(ones(n - 1), [permis[i, :Année] for i in 1:n-1], [permis[i, :Année]^2 for i in 1:n-1])\n",
    "\n",
    "B = X \\ Y\n",
    "\n",
    "permis_residents_2021 = ceil(B[1] + B[2] * 2021 + B[3] * 2021^2)"
   ]
  },
  {
   "cell_type": "markdown",
   "id": "eec39980",
   "metadata": {},
   "source": [
    "Nous allons utiliser cette estimation plus tard"
   ]
  },
  {
   "cell_type": "code",
   "execution_count": null,
   "id": "3cde9c7d",
   "metadata": {},
   "outputs": [],
   "source": [
    "obs = layer(permis, x=:Année, y=:Résidents, Geom.point)\n",
    "model = layer(x-> B[1] + B[2] * x + B[3] * x^2, 1998, 2021, Theme(default_color=\"red\"))\n",
    "\n",
    "set_default_plot_size(16cm, 10cm)\n",
    "plot(obs, model)"
   ]
  },
  {
   "cell_type": "markdown",
   "id": "72cd652e",
   "metadata": {},
   "source": [
    "#### 3.2 Permis non-résidents"
   ]
  },
  {
   "cell_type": "code",
   "execution_count": null,
   "id": "b1bb6e6e",
   "metadata": {},
   "outputs": [],
   "source": [
    "set_default_plot_size(16cm, 10cm)\n",
    "plot(permis, x=:Année, y=:\"Non-résidents\", Geom.line, Geom.point,\n",
    "    Guide.ylabel(\"Permis non-résidents vendus\"))"
   ]
  },
  {
   "cell_type": "code",
   "execution_count": 22,
   "id": "a94763b8",
   "metadata": {},
   "outputs": [
    {
     "data": {
      "text/plain": [
       "508.0"
      ]
     },
     "execution_count": 22,
     "metadata": {},
     "output_type": "execute_result"
    }
   ],
   "source": [
    "n = size(permis, 1)\n",
    "Y = [permis[i, :\"Non-résidents\"] for i in 1:n-1]\n",
    "X = hcat(ones(n - 1), [permis[i, :Année] for i in 1:n-1], [permis[i, :Année]^2 for i in 1:n-1])\n",
    "\n",
    "B = X \\ Y\n",
    "\n",
    "permis_non_residents_2021 = ceil(B[1] + B[2] * 2021 + B[3] * 2021^2)"
   ]
  },
  {
   "cell_type": "markdown",
   "id": "54aa0cf3",
   "metadata": {},
   "source": [
    "Nous allons utiliser cette estimation plus tard"
   ]
  },
  {
   "cell_type": "code",
   "execution_count": null,
   "id": "b1b1a47b",
   "metadata": {},
   "outputs": [],
   "source": [
    "obs = layer(permis, x=:Année, y=:\"Non-résidents\", Geom.point)\n",
    "model = layer(x-> B[1] + B[2] * x + B[3] * x^2, 1998, 2021, Theme(default_color=\"red\"))\n",
    "\n",
    "set_default_plot_size(16cm, 10cm)\n",
    "plot(obs, model)"
   ]
  },
  {
   "cell_type": "code",
   "execution_count": null,
   "id": "5e73a210",
   "metadata": {},
   "outputs": [],
   "source": [
    "Pluie2021 = PluieAn.Pluie_totale[22]\n",
    "Neige2021 = NeigeAn.Neige_totale[22]\n",
    "NeigeTS2021 = NeigeSolAn.Neige_totale_au_sol[22]\n",
    "JPluie2021 = JourPluieAn.Jours_de_pluie[22] \n",
    "JNeige2021 = JourNeigeAn.Jours_de_neige[22]\n",
    "JNeigeS2021 = JourNeigeSolAn.Jours_neige_au_sol[22] \n",
    "PrixMtl2021 = essenceMtlMoyAn.Prix_moyen_Montréal[25] \n",
    "PrixQc2021 = essenceQcMoyAn.Prix_moyen_Québec[25]\n",
    "PrixEssence2021 = essenceMoyAn.Prix_moyen_Essence[25]\n",
    "Temp2021"
   ]
  },
  {
   "cell_type": "markdown",
   "id": "64ef8be8",
   "metadata": {},
   "source": [
    "## 4. Modèles de régressions linéaires avec variables explicatives différentes pour chaque zone"
   ]
  },
  {
   "cell_type": "code",
   "execution_count": 22,
   "id": "acac23c0",
   "metadata": {},
   "outputs": [
    {
     "name": "stderr",
     "output_type": "stream",
     "text": [
      "WARNING: using MLBase.transform in module Main conflicts with an existing identifier.\n"
     ]
    }
   ],
   "source": [
    "using MLBase"
   ]
  },
  {
   "cell_type": "markdown",
   "id": "2fd66c39",
   "metadata": {},
   "source": [
    "Dans cette section, nous allons tenter de créer des modèles de régression linéaire et de les ordonner du meilleur au pire selon nos prédictions"
   ]
  },
  {
   "cell_type": "markdown",
   "id": "8ffd9d6c",
   "metadata": {},
   "source": [
    "### 4.1 Modèles sans transformation de la variable d'intérêt (pas de catégorisation d'armes)"
   ]
  },
  {
   "cell_type": "markdown",
   "id": "3b7c8617",
   "metadata": {},
   "source": [
    "#### 4.1.1 Tenter de classer nos modèles selon le R2 (avec années et permis comme variables explicatives)"
   ]
  },
  {
   "cell_type": "code",
   "execution_count": null,
   "id": "479f0e9f",
   "metadata": {},
   "outputs": [],
   "source": [
    "zones = groupby(recolte, :Zone)  # On groupe les données par zone\n",
    "\n",
    "new_df = DataFrame(Année = Int64[], Année2= Int64[], Zone = Int64[], Cerfs= Int64[], Résidents= Int64[], NonRes= Int64[], Essence= Float64[], Essence2= Float64[], Essence3= Float64[], Temperature3= Float64[], Jour_de_Pluie= Int64[], Jour_de_Pluie2= Int64[])\n",
    "\n",
    "for zone in zones  # Pour chaque zone de chasse,\n",
    "    \n",
    "    # pour chaque année,\n",
    "    # on additionne le nombre de cerfs récoltés selon les différents engins de chasse\n",
    "    df = combine(groupby(zone, :Année), :Cerfs => sum => :Cerfs)\n",
    "    df = innerjoin(df, Matrice, on = :Année, makeunique=true) \n",
    "    \n",
    "    df2 = DataFrame(Année = df.Année,\n",
    "                    Année2 = [df.Année[i]^2 for i in 1:size(df.Année, 1)],\n",
    "                    Zone = fill(unique(zone.Zone)[1], size(df, 1)),\n",
    "                    Cerfs = df.Cerfs,\n",
    "                    Résidents = df.Résidents,\n",
    "                    NonRes = df.\"Non-résidents\",\n",
    "                    Essence = df.Prix_moyen_Essence,\n",
    "                    Essence2 = [df.Prix_moyen_Essence[i]^2 for i in 1:size(df.Année, 1)], \n",
    "                    Essence3 = [df.Prix_moyen_Essence[i]^3 for i in 1:size(df.Année, 1)], \n",
    "                    Temperature3 = [df.Température[i]^3 for i in 1:size(df.Année, 1)],\n",
    "                    Jour_de_Pluie = df.Jours_de_pluie,\n",
    "                    Jour_de_Pluie2 = [df.Jours_de_pluie[i]^2 for i in 1:size(df.Année, 1)]) \n",
    "    \n",
    "    append!(new_df, df2)  # On ajoute l'information au DataFrame préinitialisé \n",
    "end\n",
    "\n",
    "\n",
    "\n",
    "sort!(new_df, :Année)\n",
    "first(new_df, 5)"
   ]
  },
  {
   "cell_type": "code",
   "execution_count": null,
   "id": "26332648",
   "metadata": {},
   "outputs": [],
   "source": [
    "zones = unique(new_df[!, :Zone])\n",
    "\n",
    "models = DataFrame(Zone= Int64[], R2= Float64[], Formula= Any[], Prediction= Float64[])\n",
    "for i = 1:length(zones)\n",
    "    modelsZone = DataFrame(R2= Float64[], Formula= Any[], Prediction= Int64[])\n",
    "    \n",
    "    for termes in combinations([:Année, :Essence, :Essence2, :Jour_de_Pluie, :Jour_de_Pluie2])\n",
    "        formula = term(:Cerfs) ~ sum(term.(termes))\n",
    "        m = lm(formula, groupby(new_df, :Zone)[i])\n",
    "        pred = max(ceil(predict(m, DataFrame(Année=[2021], Résidents=[117278], NonRes=[508], Année2=[2021^2], Essence=[PrixEssence2021], Essence2=[PrixEssence2021^2], Essence3=[PrixEssence2021^3], Temperature3=[Temp2021^3], Jour_de_Pluie=[JPluie2021], Jour_de_Pluie2=[JPluie2021^2]))[1]), 0)\n",
    "        push!(modelsZone, [r2(m), formula, pred])\n",
    "    end\n",
    "    sorted_models = sort(modelsZone, :R2, rev=true)\n",
    "    \n",
    "    push!(models, [groupby(new_df, :Zone)[i].Zone[1], sorted_models.R2[1], sorted_models.Formula[1], sorted_models.Prediction[1]])\n",
    "end\n",
    "\n",
    "models"
   ]
  },
  {
   "cell_type": "code",
   "execution_count": null,
   "id": "4b0a9b10",
   "metadata": {},
   "outputs": [],
   "source": [
    "test = CSV.read(\"data/test.csv\", DataFrame);\n",
    "\n",
    "models = models[in.(models.Zone, Ref(test.Zone)), :]\n",
    "n = size(models, 1)\n",
    "prediction = DataFrame(Zone = models.Zone, Cerfs = [Int64((models.Prediction[i])) for i in 1:n])\n",
    "CSV.write(\"simple_regression_r2.csv\", prediction)"
   ]
  },
  {
   "cell_type": "markdown",
   "id": "5af53994",
   "metadata": {},
   "source": [
    "Cette régression possède un rmse assez mauvais quand nous l'avons soumis sur Kaggle, nous allons donc tenter d'évaluer nos modèles d'une autre manière"
   ]
  },
  {
   "cell_type": "markdown",
   "id": "87922393",
   "metadata": {},
   "source": [
    "#### 4.1.2 Tenter de classer nos modèles selon les RMSE (avec années et permis comme variables explicatives)"
   ]
  },
  {
   "cell_type": "code",
   "execution_count": null,
   "id": "686407fc",
   "metadata": {},
   "outputs": [],
   "source": [
    "zones = unique(new_df[!, :Zone])\n",
    "\n",
    "models = DataFrame(Zone= Int64[], RMSE= Float64[], Formula= Any[], Prediction= Float64[])\n",
    "for i = 1:length(zones)\n",
    "\n",
    "    modelsZone = DataFrame(RMSE= Float64[], Formula= Any[], Prediction= Float64[])\n",
    "\n",
    "    for termes in combinations([:Année, :Année2, :Essence, :Essence2, :NonRes])\n",
    "        formula = term(:Cerfs) ~ sum(term.(termes))\n",
    "\n",
    "        train = groupby(new_df, :Zone)[i][Not(4), :]\n",
    "        valid = groupby(new_df, :Zone)[i][4, :]\n",
    "\n",
    "        m = glm(formula, train, Normal(), IdentityLink())\n",
    "        θ̂ = predict(m, DataFrame(valid))\n",
    "        θ̂ = convert.(Int64, [ceil(θ̂[i]) for i in 1:size(θ̂ , 1)])\n",
    "\n",
    "        rmse = StatsBase.rmsd(θ̂ , [valid.Cerfs])\n",
    "\n",
    "        pred = max(ceil(predict(m, DataFrame(Année=[2021], Résidents=[117278], NonRes=[508], Année2=[2021^2], Essence=[PrixEssence2021], Essence2=[PrixEssence2021^2], Essence3=[PrixEssence2021^3], Temperature3=[Temp2021^3], Jour_de_Pluie=[JPluie2021], Jour_de_Pluie2=[JPluie2021^2]))[1]), 0)\n",
    "        push!(modelsZone, [rmse, formula, pred])\n",
    "    end\n",
    "    sorted_models = sort(modelsZone, :RMSE)\n",
    "    \n",
    "    push!(models, [groupby(new_df, :Zone)[i].Zone[1], sorted_models.RMSE[1], sorted_models.Formula[1], sorted_models.Prediction[1]])\n",
    "end\n",
    "\n",
    "models"
   ]
  },
  {
   "cell_type": "code",
   "execution_count": null,
   "id": "781eff51",
   "metadata": {},
   "outputs": [],
   "source": [
    "models = models[in.(models.Zone, Ref(test.Zone)), :]\n",
    "n = size(models, 1)\n",
    "prediction = DataFrame(Zone = models.Zone, Cerfs = [Int64((models.Prediction[i])) for i in 1:n])\n",
    "CSV.write(\"simple_regression_rmse.csv\", prediction)"
   ]
  },
  {
   "cell_type": "markdown",
   "id": "031022b3",
   "metadata": {},
   "source": [
    "### 4.2 Modèle avec caractérisation d'armes"
   ]
  },
  {
   "cell_type": "code",
   "execution_count": null,
   "id": "b1881f33",
   "metadata": {},
   "outputs": [],
   "source": [
    "function get_df_engin(engin::Any)\n",
    "    new_df_engin = DataFrame(Année = Int64[], Année2= Int64[], Zone = Int64[], Cerfs= Int64[], Résidents= Int64[], NonRes= Int64[],  Essence= Float64[], Essence2= Float64[], Essence3= Float64[], Temperature3= Float64[], Jour_de_Pluie= Int64[], Jour_de_Pluie2= Int64[])\n",
    "\n",
    "    zones = groupby(recolte, :Zone)  # On groupe les données par zone\n",
    "    for zone in zones  # Pour chaque zone de chasse,\n",
    "        # pour chaque année,\n",
    "        # on additionne le nombre de cerfs récoltés selon les différents engins de chasse.\n",
    "        df_engin = combine(groupby(zone, [:Année, :Engin, :Zone]), :Cerfs => sum => :Cerfs)\n",
    "        df_engin = filter(row -> row.Engin == engin,  df_engin)\n",
    "        \n",
    "        anneesarr = []\n",
    "        zonearr = []\n",
    "        cerfsarr = []\n",
    "        for i in 1998:2020\n",
    "            push!(anneesarr, i)\n",
    "            push!(zonearr, zone.Zone[1])\n",
    "            if (size(filter(row -> row.Année == i, df_engin).Cerfs, 1) == 0)\n",
    "                push!(cerfsarr, 0)\n",
    "            else\n",
    "                push!(cerfsarr, filter(row -> row.Année == i, df_engin).Cerfs[1])\n",
    "            end\n",
    "        end\n",
    "\n",
    "        df2_engin = DataFrame(Année = anneesarr, \n",
    "                        Année2 = [anneesarr[i]^2 for i in 1:size(anneesarr, 1)],\n",
    "                        Zone = zonearr,\n",
    "                        Cerfs = cerfsarr)\n",
    "        \n",
    "        df2_engin = innerjoin(df2_engin, Matrice, makeunique = true, on = :Année)\n",
    "        df2_engin.NonRes = df2_engin[!, \"Non-résidents\"]\n",
    "        df2_engin.Temperature3 = [df2_engin.Température[i]^3 for i in 1:size(df2_engin.Année, 1)]\n",
    "        df2_engin.Essence = df2_engin.Prix_moyen_Essence\n",
    "        df2_engin.Essence2 = [df2_engin.Prix_moyen_Essence[i]^2 for i in 1:size(df2_engin.Année, 1)]\n",
    "        df2_engin.Essence3 = [df2_engin.Prix_moyen_Essence[i]^3 for i in 1:size(df2_engin.Année, 1)]\n",
    "        df2_engin.Jour_de_Pluie = df2_engin.Jours_de_pluie\n",
    "        df2_engin.Jour_de_Pluie2 = [df2_engin.Jours_de_pluie[i]^2 for i in 1:size(df2_engin.Année, 1)]\n",
    "        df2_engin = df2_engin[!, [\"Année\", \"Année2\", \"Résidents\", \"NonRes\", \"Cerfs\", \"Zone\", \"Temperature3\", \"Essence\", \"Essence2\", \"Essence3\", \"Jour_de_Pluie\", \"Jour_de_Pluie2\"]]\n",
    "        append!(new_df_engin, df2_engin)  # On ajoute l'information au DataFrame préinitialisé \n",
    "    end\n",
    "    return new_df_engin\n",
    "end\n",
    "\n",
    "new_df_arc = get_df_engin(\"Arc\")\n",
    "new_df_fusil = get_df_engin(\"Fusil\")\n",
    "new_df_arbalete = get_df_engin(\"Arbalète\")\n",
    "new_df_indetermine = get_df_engin(\"Indéterminé\")\n",
    "new_df_acb = get_df_engin(\"ACB\")\n",
    "new_df_carabine = get_df_engin(\"Carabine\")\n",
    "\n",
    "dataframes = [new_df_arc, new_df_fusil, new_df_arbalete, new_df_indetermine, new_df_acb, new_df_carabine];"
   ]
  },
  {
   "cell_type": "code",
   "execution_count": null,
   "id": "9e719ab7",
   "metadata": {},
   "outputs": [],
   "source": [
    "function get_best_model(dataframe::Any)\n",
    "    models = DataFrame(Zone= Int64[], RMSE= Float64[], Formula= Any[], Prediction= Float64[])\n",
    "    for i = 1:length(zones)\n",
    "\n",
    "        modelsZone = DataFrame(RMSE= Float64[], Formula= Any[], Prediction= Float64[])\n",
    "\n",
    "        for termes in combinations([:Année, :Année2, :Essence, :Résidents, :Temperature3])\n",
    "            formula = term(:Cerfs) ~ sum(term.(termes))\n",
    "\n",
    "            train = groupby(new_df, :Zone)[i][Not(4), :]\n",
    "            valid = groupby(new_df, :Zone)[i][4, :]\n",
    "\n",
    "            m = glm(formula, train, Normal(), IdentityLink())\n",
    "            θ̂ = predict(m, DataFrame(valid))\n",
    "            θ̂ = convert.(Int64, [ceil(θ̂[i]) for i in 1:size(θ̂ , 1)])\n",
    "\n",
    "            rmse = StatsBase.rmsd(θ̂ , [valid.Cerfs])\n",
    "            m = glm(formula, groupby(dataframe, :Zone)[i], Normal(), IdentityLink())\n",
    "            pred = max(ceil(predict(m, DataFrame(Année=[2021], Résidents=[117278], NonRes=[508], Année2=[2021^2], Essence=[PrixEssence2021], Essence2=[PrixEssence2021^2], Essence3=[PrixEssence2021^3], Temperature3=[Temp2021^3], Jour_de_Pluie=[JPluie2021], Jour_de_Pluie2=[JPluie2021^2]))[1]), 0)\n",
    "            push!(modelsZone, [rmse, formula, pred])\n",
    "        end\n",
    "        sorted_models = sort(modelsZone, :RMSE)\n",
    "\n",
    "        push!(models, [groupby(dataframe, :Zone)[i].Zone[1], sorted_models.RMSE[1], sorted_models.Formula[1], sorted_models.Prediction[1]])\n",
    "    end\n",
    "    return models\n",
    "end\n",
    "predictions = []\n",
    "for data in dataframes\n",
    "    push!(predictions, get_best_model(data))\n",
    "end\n",
    "predictions"
   ]
  },
  {
   "cell_type": "code",
   "execution_count": null,
   "id": "c37c5ebf",
   "metadata": {},
   "outputs": [],
   "source": [
    "results = []\n",
    "for models in predictions\n",
    "    models = models[in.(models.Zone, Ref(test.Zone)), :]\n",
    "    n = size(models, 1)\n",
    "    push!(results, DataFrame(Zone = models.Zone, Cerfs = [Int64((models.Prediction[i])) for i in 1:n]))\n",
    "end\n",
    "cerfs_recoltes = [0 for i in 1:size(results[1].Zone, 1)]\n",
    "for result in results\n",
    "    for i in 1:size(results[1].Zone, 1)\n",
    "        cerfs_recoltes[i] = cerfs_recoltes[i] + result.Cerfs[i]\n",
    "    end\n",
    "end\n",
    "cerfs_recoltes\n",
    "CSV.write(\"weapon_category_year_3_vars.csv\", DataFrame(Zone = results[1].Zone, Cerfs= cerfs_recoltes))"
   ]
  },
  {
   "cell_type": "markdown",
   "id": "141151aa",
   "metadata": {},
   "source": [
    "## 5. Modèles de régression multiple  globale (on utilise les mêmes variables explicatives pour toutes les zones"
   ]
  },
  {
   "cell_type": "code",
   "execution_count": null,
   "id": "02f3578d",
   "metadata": {},
   "outputs": [],
   "source": [
    "zones = unique(new_df[!, :Zone])\n",
    "\n",
    "models = DataFrame(RMSE= Float64[], Formula= Any[], Prediction= Any[])\n",
    "for termes in combinations([:Année, :Année2, :Essence, :Essence2, :Essence3, :Résidents])\n",
    "    modelsCombination = DataFrame(RMSE= Float64[], Zone= Int64[], Prediction= Int64[])\n",
    "    formula = term(:Cerfs) ~ sum(term.(termes))\n",
    "    for i = 1:length(zones)\n",
    "\n",
    "        train = groupby(new_df, :Zone)[i][Not(4), :]\n",
    "        valid = groupby(new_df, :Zone)[i][4, :]\n",
    "\n",
    "        m = glm(formula, train, Normal(), IdentityLink())\n",
    "        θ̂ = predict(m, DataFrame(valid))\n",
    "        θ̂ = convert.(Int64, [ceil(θ̂[i]) for i in 1:size(θ̂ , 1)])\n",
    "\n",
    "        rmse = StatsBase.rmsd(θ̂ , [valid.Cerfs])\n",
    "\n",
    "        m = glm(formula, groupby(new_df, :Zone)[i], Normal(), IdentityLink())\n",
    "        pred = max(ceil(predict(m, DataFrame(Année=[2021], Résidents=[117278], NonRes=[508], Année2=[2021^2], Essence=[PrixEssence2021], Essence2=[PrixEssence2021^2], Essence3=[PrixEssence2021^3], Temperature3=[Temp2021^3], Jour_de_Pluie=[JPluie2021], Jour_de_Pluie2=[JPluie2021^2]))[1]), 0)\n",
    "        push!(modelsCombination, [rmse, groupby(new_df, :Zone)[i].Zone[1] , pred])\n",
    "    end\n",
    "    push!(models, [mean(modelsCombination.RMSE), formula, DataFrame(Zone= modelsCombination.Zone, Cerfs = modelsCombination.Prediction)])\n",
    "end\n",
    "models = sort(models, :RMSE)\n",
    "best_model = models.Prediction[1]\n",
    "models"
   ]
  },
  {
   "cell_type": "code",
   "execution_count": null,
   "id": "5ba31b0a",
   "metadata": {},
   "outputs": [],
   "source": [
    "test = CSV.read(\"data/test.csv\", DataFrame);\n",
    "\n",
    "best_model = best_model[in.(best_model.Zone, Ref(test.Zone)), :]\n",
    "\n",
    "CSV.write(\"year_3_vars_same_model.csv\", best_model)"
   ]
  },
  {
   "cell_type": "code",
   "execution_count": null,
   "id": "069a5b52",
   "metadata": {},
   "outputs": [],
   "source": [
    "function get_best_model(dataframes::Any)\n",
    "    zones = unique(new_df[!, :Zone])\n",
    "\n",
    "    models = DataFrame(RMSE= Float64[], Formula= Any[], Prediction= Any[])\n",
    "    for termes in combinations([:Année, :Année2, :Essence, :Essence2, :Essence3, :Résidents])\n",
    "        modelsCombination = DataFrame(RMSE= Float64[], Zone= Int64[], Prediction= Float64[])\n",
    "        modelsCombination_df_array = []\n",
    "        formula = term(:Cerfs) ~ sum(term.(termes))\n",
    "        for dataframe in dataframes\n",
    "            modelsCombination_df = DataFrame(RMSE= Float64[], Zone= Int64[], Prediction= Float64[])\n",
    "            for i = 1:length(zones)\n",
    "                train = groupby(new_df, :Zone)[i][Not(4), :]\n",
    "                valid = groupby(new_df, :Zone)[i][4, :]\n",
    "\n",
    "                m = glm(formula, train, Normal(), IdentityLink())\n",
    "                θ̂ = predict(m, DataFrame(valid))\n",
    "                θ̂ = convert.(Int64, [ceil(θ̂[i]) for i in 1:size(θ̂ , 1)])\n",
    "\n",
    "                rmse = StatsBase.rmsd(θ̂ , [valid.Cerfs])\n",
    "                m = glm(formula, groupby(dataframe, :Zone)[i], Normal(), IdentityLink())\n",
    "                pred = max(ceil(predict(m, DataFrame(Année=[2021], Résidents=[117278], NonRes=[508], Année2=[2021^2], Essence=[PrixEssence2021], Essence2=[PrixEssence2021^2], Essence3=[PrixEssence2021^3], Temperature3=[Temp2021^3], Jour_de_Pluie=[JPluie2021], Jour_de_Pluie2=[JPluie2021^2]))[1]), 0)\n",
    "                push!(modelsCombination_df, [rmse, groupby(dataframe, :Zone)[i].Zone[1] , pred])\n",
    "            end\n",
    "            push!(modelsCombination_df_array, modelsCombination_df)\n",
    "        end\n",
    "        \n",
    "        zones = modelsCombination_df_array[1].Zone\n",
    "        RMSE = 0\n",
    "        cerfs_recoltes = [0 for i in 1:size(modelsCombination_df_array[1].Zone, 1)]\n",
    "        for result in modelsCombination_df_array\n",
    "            RMSE = RMSE + mean(result.RMSE)\n",
    "            for i in 1:size(modelsCombination_df_array[1].Zone, 1)\n",
    "                cerfs_recoltes[i] = cerfs_recoltes[i] + result.Prediction[i]\n",
    "            end\n",
    "        end\n",
    "        \n",
    "        push!(models, [RMSE, formula, DataFrame(Zone = modelsCombination_df_array[1].Zone, Cerfs = cerfs_recoltes)])\n",
    "    end\n",
    "    models = sort(models, :RMSE)\n",
    "    return models\n",
    "end\n",
    "\n",
    "\n",
    "\n",
    "best_model = get_best_model(dataframes).Prediction[1]\n",
    "get_best_model(dataframes)"
   ]
  },
  {
   "cell_type": "code",
   "execution_count": null,
   "id": "e34bde24",
   "metadata": {},
   "outputs": [],
   "source": [
    "test = CSV.read(\"data/test.csv\", DataFrame);\n",
    "\n",
    "best_model = best_model[in.(best_model.Zone, Ref(test.Zone)), :]\n",
    "\n",
    "CSV.write(\"weapon_category_year_essence.csv\", best_model)"
   ]
  },
  {
   "cell_type": "code",
   "execution_count": null,
   "id": "50246817",
   "metadata": {},
   "outputs": [],
   "source": []
  },
  {
   "cell_type": "markdown",
   "id": "6e5f94eb",
   "metadata": {},
   "source": [
    "## 6. Modèles de prédiction du nombre totale de cerfs en 2021\n",
    "\n",
    "Comme nous l'avions découvert dans notre analyse exploratoire, les relations polynomiales de degré 2 à 4 semblaient avoir un pouvoir prédictif significatif sur le nombre de cerfs totale récolté annuellement. Construisons des modèles et sélectionnons le meilleur de prédiction. Nous utiliserons la prédiction du modèle ayant le plus petit RMSE dans notre modèle de classification pour chaque zones.\n"
   ]
  },
  {
   "cell_type": "markdown",
   "id": "ef1ae9b3",
   "metadata": {},
   "source": [
    "#### Ensemble d'entrainement et de validation"
   ]
  },
  {
   "cell_type": "code",
   "execution_count": 23,
   "id": "0734ae43",
   "metadata": {},
   "outputs": [
    {
     "data": {
      "text/plain": [
       "152.225"
      ]
     },
     "execution_count": 23,
     "metadata": {},
     "output_type": "execute_result"
    }
   ],
   "source": [
    "Pluie2021 = PluieAn.Pluie_totale[22]\n",
    "Neige2021 = NeigeAn.Neige_totale[22]\n",
    "NeigeTS2021 = NeigeSolAn.Neige_totale_au_sol[22]\n",
    "JPluie2021 = JourPluieAn.Jours_de_pluie[22] \n",
    "JNeige2021 = JourNeigeAn.Jours_de_neige[22]\n",
    "JNeigeS2021 = JourNeigeSolAn.Jours_neige_au_sol[22] \n",
    "PrixMtl2021 = essenceMtlMoyAn.Prix_moyen_Montréal[25] \n",
    "PrixQc2021 = essenceQcMoyAn.Prix_moyen_Québec[25]\n",
    "PrixEssence2021 = essenceMoyAn.Prix_moyen_Essence[25]"
   ]
  },
  {
   "cell_type": "code",
   "execution_count": null,
   "id": "d33aa621",
   "metadata": {},
   "outputs": [],
   "source": [
    "df2021 = DataFrame(Année = 2021, Température = Temp2021, Pluie_totale = Pluie2021, Neige_totale = Neige2021, Neige_totale_au_sol = NeigeTS2021 = NeigeTS2021, Jours_de_pluie = JPluie2021,\n",
    "    Jours_de_neige = JNeige2021, Jours_de_neige_au_sol = JNeigeS2021, Prix_moyen_Montréal = PrixMtl2021,\n",
    "    Prix_moyen_Québec = PrixQc2021, Prix_moyen_Essence = PrixEssence2021)"
   ]
  },
  {
   "cell_type": "code",
   "execution_count": null,
   "id": "0f39d9c3",
   "metadata": {},
   "outputs": [],
   "source": [
    "m = filter(row -> row.Année !== 2013, Matrice) #On retire 2013 car il nous manque les données météorologique\n",
    "deers_training = filter(row -> row.Année >= 2010 && row.Année < 2020, m)\n",
    "deers_validation = filter(row -> row.Année === 2020, m) #On assume que 2021 sera proche de 2001 donc on veux valider avec 2001"
   ]
  },
  {
   "cell_type": "code",
   "execution_count": null,
   "id": "1e4c8eac",
   "metadata": {},
   "outputs": [],
   "source": [
    "deers_training "
   ]
  },
  {
   "cell_type": "markdown",
   "id": "e4b7f16f",
   "metadata": {},
   "source": [
    "### 6.1 Modèle avec l'année"
   ]
  },
  {
   "cell_type": "markdown",
   "id": "5ee4e0be",
   "metadata": {},
   "source": [
    "Pour ce modèles et les autres, nous utiliserons la fonction de construction de matrice polynomiales fournit lors du TD numéro 4."
   ]
  },
  {
   "cell_type": "code",
   "execution_count": null,
   "id": "702df239",
   "metadata": {},
   "outputs": [],
   "source": [
    "\n",
    "function construct_structure(x::Vector{<:Any}, order::Int)\n",
    "    \n",
    "    X = Array{Float64}(undef, length(x), order)\n",
    "    \n",
    "    for p in 1:order\n",
    "       X[:,p] = x.^p \n",
    "    end\n",
    "    \n",
    "    return X\n",
    "    \n",
    "end\n",
    "    "
   ]
  },
  {
   "cell_type": "markdown",
   "id": "f4615e78",
   "metadata": {},
   "source": [
    "Voici la fonction que nous utiliserons pour touver le meilleur ordre pour ce modèles et les autres. Celui-ci retourne le meilleur degré a utiliser pour effectuer des prédictions dans chaque zone."
   ]
  },
  {
   "cell_type": "code",
   "execution_count": null,
   "id": "ab11f24c",
   "metadata": {},
   "outputs": [],
   "source": [
    "using MLBase"
   ]
  },
  {
   "cell_type": "code",
   "execution_count": null,
   "id": "ea5e683d",
   "metadata": {},
   "outputs": [],
   "source": [
    "function get_best_polynomial_deers_model(variable::String, min_order::Int64, max_order::Int64)\n",
    "    models = DataFrame(Ordre = Int64[], R = Float64[], Raj = Float64[], RMSE = Float64[], Betas = Vector{Float64}[])\n",
    "\n",
    "    df = DataFrame(Ordre = Int64[], R = Float64[], Raj = Float64[], RMSE = Float64[], Betas = Vector{Float64}[])\n",
    "\n",
    "    SST = sum( (deers_training.Cerfs .- mean(deers_training.Cerfs)).^2 )\n",
    "\n",
    "    for order in min_order:max_order\n",
    "        n1 = length(deers_training.Cerfs)\n",
    "        n2 = length(deers_validation.Cerfs)\n",
    "\n",
    "        # Ajustement du modèle de régression polynomiale\n",
    "        X = hcat(ones(n1), construct_structure(Vector{<:Any}(deers_training[!, variable]), order))\n",
    "        β̂  = X\\deers_training.Cerfs\n",
    "\n",
    "        # Calcul de l'erreur\n",
    "        ŷ = X*β̂\n",
    "        e = deers_training.Cerfs - ŷ\n",
    "\n",
    "        # Calcul de la somme du carré des erreurs\n",
    "        SSE = e'e\n",
    "\n",
    "        # Calcul de l'erreur quadratique moyenne avec l'ensemble de validation\n",
    "        X̃ = hcat(ones(n2), construct_structure(deers_validation[!, variable], order))\n",
    "        ỹ = X̃*β̂\n",
    "        RMSE = (mean( (deers_validation.Cerfs - ỹ).^2 ))^0.5\n",
    "\n",
    "        push!(df, [order, 1-SSE/SST, 1-(n1-1)/(n1-order-1)*SSE/SST, RMSE, β̂ ])\n",
    "    end\n",
    "\n",
    "    df = sort(df, :RMSE)\n",
    "    push!(models, [df.Ordre[1], df.R[1], df.Raj[1], df.RMSE[1], df.Betas[1]])\n",
    "    return  models\n",
    "end"
   ]
  },
  {
   "cell_type": "markdown",
   "id": "a09cc744",
   "metadata": {},
   "source": [
    "Voici la fonction qui fera une prédiction pour chaque zone. Elle prend en parametre le résultat de la fonction \"get_best_deer_model\" ainsi que la donnée de 2021 qu'on utilisera pour faire notre prédiction. Elle retourne un tableau avec les prédictions pour chaque zone en 2021."
   ]
  },
  {
   "cell_type": "code",
   "execution_count": null,
   "id": "dd2b7b8f",
   "metadata": {},
   "outputs": [],
   "source": [
    "function polynomial_predictions(dataframe::Any, next_year_data::Any)\n",
    "    \n",
    "    # Matrice de la nouvelle donnée\n",
    "    X = hcat(ones(1), construct_structure([next_year_data], dataframe.Ordre[1]))\n",
    "\n",
    "    # Prédiction\n",
    "    ŷ = X*dataframe.Betas[1]\n",
    "\n",
    "    yceil = ceil(ŷ[1])\n",
    "\n",
    "    prediction = convert(Int64, yceil)\n",
    "    \n",
    "    return prediction\n",
    "end"
   ]
  },
  {
   "cell_type": "markdown",
   "id": "aeb1f350",
   "metadata": {},
   "source": [
    "#### 6.1.1 Meilleur degré"
   ]
  },
  {
   "cell_type": "code",
   "execution_count": null,
   "id": "eca475da",
   "metadata": {},
   "outputs": [],
   "source": [
    "result1 = get_best_polynomial_deers_model(\"Année\", 1, 6)"
   ]
  },
  {
   "cell_type": "markdown",
   "id": "14ec18c6",
   "metadata": {},
   "source": [
    "Selon notre fonction, le meilleur degré pour estimer le nombre de cerfs en 2021 est de 1. Celui-ci donne un RMSE de 1744.28 ce qui est élevé selon nous. Voyons voir si on peut faire mieux."
   ]
  },
  {
   "cell_type": "markdown",
   "id": "896ddbb3",
   "metadata": {},
   "source": [
    "#### 6.1.2 Prédiction pour 2021"
   ]
  },
  {
   "cell_type": "code",
   "execution_count": null,
   "id": "e39d755d",
   "metadata": {},
   "outputs": [],
   "source": [
    "prediction_avec_année = polynomial_predictions(result1, 2021)"
   ]
  },
  {
   "cell_type": "markdown",
   "id": "3788ff72",
   "metadata": {},
   "source": [
    "Sachant, que ce RMSE nous semble élevé, il se pourrait que cette estimation ne soit pas la meilleure."
   ]
  },
  {
   "cell_type": "markdown",
   "id": "ed505ae8",
   "metadata": {},
   "source": [
    "### 6.2 Modèle avec la neige totale"
   ]
  },
  {
   "cell_type": "markdown",
   "id": "2e4c8da6",
   "metadata": {},
   "source": [
    "#### 6.2.1 Meilleur degré"
   ]
  },
  {
   "cell_type": "code",
   "execution_count": null,
   "id": "1a3950cd",
   "metadata": {},
   "outputs": [],
   "source": [
    "result2 = get_best_polynomial_deers_model(\"Neige_totale\", 1, 6)"
   ]
  },
  {
   "cell_type": "markdown",
   "id": "982fac71",
   "metadata": {},
   "source": [
    "Comme on peut le voir, en utilisant la pluie, le meilleur degré est 4, avec un RMSE de 756, ce qui est déjà beaucoup mieux qu'avec l'année."
   ]
  },
  {
   "cell_type": "markdown",
   "id": "780eb7e6",
   "metadata": {},
   "source": [
    "#### 6.2.2 Prédiction pour 2021"
   ]
  },
  {
   "cell_type": "code",
   "execution_count": null,
   "id": "74fba7a9",
   "metadata": {},
   "outputs": [],
   "source": [
    "Neige2021 = NeigeAn.Neige_totale[22]\n",
    "prediction_avec_neige = polynomial_predictions(result2, Neige2021)"
   ]
  },
  {
   "cell_type": "markdown",
   "id": "09f89239",
   "metadata": {},
   "source": [
    "Cette quantité de cerfs se rapproche déja plus de 2020, ce qui semble prometteur puisqu'on assume que le nombre de cerfs récolté en 2021 est proche de celui de 2020."
   ]
  },
  {
   "cell_type": "markdown",
   "id": "a3daae54",
   "metadata": {},
   "source": [
    "### 6.3 Modèle avec le prix moyen de l'essence à Montréal"
   ]
  },
  {
   "cell_type": "markdown",
   "id": "1c6f38da",
   "metadata": {},
   "source": [
    "#### 6.3.1 Meilleur degré"
   ]
  },
  {
   "cell_type": "code",
   "execution_count": null,
   "id": "9dd0d7fb",
   "metadata": {},
   "outputs": [],
   "source": [
    "result3 = get_best_polynomial_deers_model(\"Prix_moyen_Montréal\", 1, 2)"
   ]
  },
  {
   "cell_type": "markdown",
   "id": "26af0a42",
   "metadata": {},
   "source": [
    "#### 6.3.2 Prédiction pour 2021"
   ]
  },
  {
   "cell_type": "code",
   "execution_count": null,
   "id": "c8493295",
   "metadata": {},
   "outputs": [],
   "source": [
    "PrixMtl2021 = essenceMtlMoyAn.Prix_moyen_Montréal[25] \n",
    "prediction_avec_essence_Mtl = polynomial_predictions(result3, PrixMtl2021)"
   ]
  },
  {
   "cell_type": "markdown",
   "id": "6e03fb50",
   "metadata": {},
   "source": [
    "### 6.4 Modèle avec la température moyenne annuelle"
   ]
  },
  {
   "cell_type": "markdown",
   "id": "82f0b28c",
   "metadata": {},
   "source": [
    "#### 6.4.1 Meilleur degré"
   ]
  },
  {
   "cell_type": "code",
   "execution_count": null,
   "id": "251a15d4",
   "metadata": {},
   "outputs": [],
   "source": [
    "result4 = get_best_polynomial_deers_model(\"Température\", 1, 8)"
   ]
  },
  {
   "cell_type": "markdown",
   "id": "563d3334",
   "metadata": {},
   "source": [
    "#### 6.6.2 Prédiction pour 2021"
   ]
  },
  {
   "cell_type": "code",
   "execution_count": null,
   "id": "dd0e8536",
   "metadata": {},
   "outputs": [],
   "source": [
    "Temp2021 = TempMoy.Température[22]\n",
    "prediction_avec_temperature = polynomial_predictions(result4, Temp2021)"
   ]
  },
  {
   "cell_type": "markdown",
   "id": "68de5f07",
   "metadata": {},
   "source": [
    "On constate que, c'est le plus petit RMSE que nous obtenons a date, donc nous l'essayerons pour voir. Cependant, voyons si on peut obtenir un pluis petit RMSE avec les modeles de régression polynomiale."
   ]
  },
  {
   "cell_type": "markdown",
   "id": "58a4118c",
   "metadata": {},
   "source": [
    "### 6.7 Modèles multiples"
   ]
  },
  {
   "cell_type": "markdown",
   "id": "d0bbd188",
   "metadata": {},
   "source": [
    "Dans le but d'arriver au plus petit RMSE possible, essayons d'utiliser les modèles multiples."
   ]
  },
  {
   "cell_type": "code",
   "execution_count": null,
   "id": "ee36d007",
   "metadata": {},
   "outputs": [],
   "source": [
    "deers_training = transform(deers_training, [\"Jours_de_pluie\"] => ByRow(x->(x)^2) => :Jours_de_pluie_square)\n",
    "deers_training = transform(deers_training, [\"Jours_de_pluie\"] => ByRow(x->(x)^3) => :Jours_de_pluie_cubic)\n",
    "deers_training = transform(deers_training, [\"Jours_de_neige\"] => ByRow(x->(x)^2) => :Jours_de_neige_square)\n",
    "deers_training = transform(deers_training, [\"Jours_de_neige\"] => ByRow(x->(x)^3) => :Jours_de_neige_cubic)"
   ]
  },
  {
   "cell_type": "code",
   "execution_count": null,
   "id": "8a8a690d",
   "metadata": {},
   "outputs": [],
   "source": [
    "deers_validation = transform(deers_validation , [\"Jours_de_pluie\"] => ByRow(x->(x)^2) => :Jours_de_pluie_square)\n",
    "deers_validation  = transform(deers_validation , [\"Jours_de_pluie\"] => ByRow(x->(x)^3) => :Jours_de_pluie_cubic)\n",
    "deers_validation  = transform(deers_validation , [\"Jours_de_neige\"] => ByRow(x->(x)^2) => :Jours_de_neige_square)\n",
    "deers_validation  = transform(deers_validation , [\"Jours_de_neige\"] => ByRow(x->(x)^3) => :Jours_de_neige_cubic)"
   ]
  },
  {
   "cell_type": "code",
   "execution_count": null,
   "id": "5cc5d539",
   "metadata": {},
   "outputs": [],
   "source": [
    "deers_training = transform(deers_training, [\"Prix_moyen_Montréal\"] => ByRow(x->(x)^2) => :Prix_moyen_Montréal_square)\n",
    "deers_training = transform(deers_training, [\"Prix_moyen_Montréal\"] => ByRow(x->(x)^3) => :Prix_moyen_Montréal_cubic)"
   ]
  },
  {
   "cell_type": "code",
   "execution_count": null,
   "id": "ebfe5a1b",
   "metadata": {},
   "outputs": [],
   "source": [
    "deers_validation = transform(deers_validation, [\"Prix_moyen_Montréal\"] => ByRow(x->(x)^2) => :Prix_moyen_Montréal_square)\n",
    "deers_validation = transform(deers_validation, [\"Prix_moyen_Montréal\"] => ByRow(x->(x)^3) => :Prix_moyen_Montréal_cubic)"
   ]
  },
  {
   "cell_type": "code",
   "execution_count": null,
   "id": "228f9ea4",
   "metadata": {},
   "outputs": [],
   "source": [
    "deers_training = transform(deers_training, [\"Température\"] => ByRow(x->(x)^2) => :Température_square)\n",
    "deers_training  = transform(deers_training, [\"Température\"] => ByRow(x->(x)^3) => :Température_cubic)"
   ]
  },
  {
   "cell_type": "code",
   "execution_count": null,
   "id": "02b052ac",
   "metadata": {},
   "outputs": [],
   "source": [
    "deers_validation = transform(deers_validation, [\"Température\"] => ByRow(x->(x)^2) => :Température_square)\n",
    "deers_validation = transform(deers_validation, [\"Température\"] => ByRow(x->(x)^3) => :Température_cubic)"
   ]
  },
  {
   "cell_type": "markdown",
   "id": "b04c496e",
   "metadata": {},
   "source": [
    "#### 6.5.1 Meilleurs modèles de régression multiple"
   ]
  },
  {
   "cell_type": "code",
   "execution_count": null,
   "id": "5a645039",
   "metadata": {},
   "outputs": [],
   "source": [
    "\n",
    "models = DataFrame(Raj = Float64[], RMSE= Float64[], Formula= Any[], Prediction= Any[])\n",
    "SST = sum( (deers_training.Cerfs .- mean(deers_training.Cerfs)).^2 )\n",
    "n = length(deers_training.Cerfs)\n",
    "modelsCombination = DataFrame( Raj = Float64[], RMSE= Float64[], Formula = Any[], Prediction= Any[])\n",
    "\n",
    "for termes in combinations([:Pluie_totale, :Neige_totale, :Jours_de_pluie, :Température, :Jours_de_neige, :Prix_moyen_Essence])\n",
    "    formula = term(:Cerfs) ~ sum(term.(termes))\n",
    "    train = deers_training\n",
    "    valid = deers_validation\n",
    "    p = length(termes)\n",
    "    m = glm(formula, train, Normal(), IdentityLink())\n",
    "    est = predict(m, DataFrame(train))\n",
    "    θ̂ = predict(m, DataFrame(valid))\n",
    "    θ̂ = convert.(Int64, [ceil(θ̂[i]) for i in 1:size(θ̂ , 1)])\n",
    "    #println(est)\n",
    "    rmse = StatsBase.rmsd(θ̂ , valid.Cerfs)\n",
    "    e = train.Cerfs - est\n",
    "    SSE = e'e\n",
    "    raj =  [1-(n-1)/(n-p-1)*SSE/SST]\n",
    "    if raj == 1.0\n",
    "        break\n",
    "    end\n",
    "    \n",
    "    m = glm(formula, train, Normal(), IdentityLink())\n",
    "    pred = max(ceil(predict(m, DataFrame(Pluie_totale = [Pluie2021], Neige_totale = [Neige2021], Jours_de_pluie = [JPluie2021], Température = [Temp2021], Jours_de_neige = [JNeige2021], Prix_moyen_Essence = [PrixEssence2021]))[1]), 0)\n",
    "    push!(modelsCombination, [raj[1], rmse, formula, DataFrame(Cerfs = pred)])\n",
    "    \n",
    "end\n",
    "modelsCombination = sort(modelsCombination, :RMSE)"
   ]
  },
  {
   "cell_type": "markdown",
   "id": "2e9b41e4",
   "metadata": {},
   "source": [
    "#### 6.6.2 Prédiction pour 2021"
   ]
  },
  {
   "cell_type": "code",
   "execution_count": null,
   "id": "e421ec8b",
   "metadata": {},
   "outputs": [],
   "source": [
    "prediction_avec_multiple = modelsCombination.Prediction[1].Cerfs[1]"
   ]
  },
  {
   "cell_type": "markdown",
   "id": "23edb8c3",
   "metadata": {},
   "source": [
    "Commme on peut le voir, le meilleur modele multiple nous donne un RMSE de 126 ce qui n'est pas mieux que la polynomiale de degré 6 avec la température qui donnait un RMSE de 67."
   ]
  },
  {
   "cell_type": "markdown",
   "id": "148025e3",
   "metadata": {},
   "source": [
    "## 7. Modèles de prédiction des proportions de 2021 pour chaque zone\n"
   ]
  },
  {
   "cell_type": "markdown",
   "id": "ceb7cfee",
   "metadata": {},
   "source": [
    "Dans cette section, nous assumerons que la probabilité qu'un cerf appartienne à une zone suit une loi catégorielle."
   ]
  },
  {
   "cell_type": "code",
   "execution_count": null,
   "id": "58cac32d",
   "metadata": {},
   "outputs": [],
   "source": [
    "df_teta = MatriceZones\n",
    "first(df_teta, 5)"
   ]
  },
  {
   "cell_type": "markdown",
   "id": "a6696f8c",
   "metadata": {},
   "source": [
    "Comme premier modèle, nous pouvons assumer que les tendance de l'an 2021 sont exactement les mêmes que l'an passé, il nous resterait donc a estimer le nombre de cerfs total en fonction du nombre de permis non résidents"
   ]
  },
  {
   "cell_type": "code",
   "execution_count": null,
   "id": "6a1f3bcd",
   "metadata": {},
   "outputs": [],
   "source": [
    "permis_non_residents_2021 "
   ]
  },
  {
   "cell_type": "code",
   "execution_count": null,
   "id": "a82fd59a",
   "metadata": {},
   "outputs": [],
   "source": []
  },
  {
   "cell_type": "code",
   "execution_count": null,
   "id": "d96a15b7",
   "metadata": {},
   "outputs": [],
   "source": []
  },
  {
   "cell_type": "markdown",
   "id": "70ec0542",
   "metadata": {},
   "source": [
    "### 7.1 Utilisation du nombre de permis pour prédire le nombre de cerfs totale en 2021\n",
    "\n",
    "#### 7.1.1 Prédiction du nombre de cerfs récolté"
   ]
  },
  {
   "cell_type": "markdown",
   "id": "a00a41a7",
   "metadata": {},
   "source": []
  },
  {
   "cell_type": "code",
   "execution_count": null,
   "id": "1aa2c37d",
   "metadata": {},
   "outputs": [],
   "source": [
    "matrice = Matrice\n",
    "rename!(matrice,:\"Non-résidents\" => :\"NonRésidents\")\n",
    "res=lm(@formula(Cerfs ~ NonRésidents), matrice)\n",
    "rename!(matrice, :\"NonRésidents\" => :\"Non-résidents\")\n",
    "deers = Int64(ceil(coef(res)[1] + coef(res)[2] * permis_non_residents_2021))"
   ]
  },
  {
   "cell_type": "markdown",
   "id": "4df504b2",
   "metadata": {},
   "source": [
    "#### 7.1.2 Préction du nombre de cerfs récoltés par zones"
   ]
  },
  {
   "cell_type": "code",
   "execution_count": null,
   "id": "6e07ba15",
   "metadata": {},
   "outputs": [],
   "source": [
    "proportions = last(df_teta.Cerfs ./ df_teta.Cerfs_totale, 18)\n",
    "preds =  [Int64(ceil(proportions[i] * deers)) for i in 1:18]"
   ]
  },
  {
   "cell_type": "markdown",
   "id": "21eaa003",
   "metadata": {},
   "source": [
    "#### 7.1.3 Enregistrement des prédictions"
   ]
  },
  {
   "cell_type": "code",
   "execution_count": null,
   "id": "b6f0c98e",
   "metadata": {},
   "outputs": [],
   "source": [
    "test = CSV.read(\"data/test.csv\", DataFrame);\n",
    "prediction = DataFrame(Zone = test.Zone, Cerfs = preds)\n",
    "\n",
    "CSV.write(\"categorielle_2020.csv\", prediction)"
   ]
  },
  {
   "cell_type": "markdown",
   "id": "b83e4d90",
   "metadata": {},
   "source": [
    "Cela donne un très mauvais score de 808. Trois piste sont possibles: Nous estimons mal le nombre de cerfs total, nous estimons mal le nombre de permis non résidents, et indirectement le nombre de cerfs total en 2021, ou alors les tendances de chasse de 2021 ne sont pas les mêmes qu'en 2020."
   ]
  },
  {
   "cell_type": "code",
   "execution_count": null,
   "id": "e2d1f5ba",
   "metadata": {},
   "outputs": [],
   "source": [
    "df_teta.teta = df_teta.Cerfs ./ df_teta.Cerfs_totale\n",
    "df_teta = filter(row -> row.Zone != 21, df_teta)\n",
    "plot(groupby(df_teta, :Zone)[7], x=:Année, y=:teta, Geom.point, Geom.line)"
   ]
  },
  {
   "cell_type": "markdown",
   "id": "3aba40d9",
   "metadata": {},
   "source": [
    "Comme on peut le voir dans le graphique plus haut, la proportion de cerfs tué dans la zone était beaucoup plus haute que d'habitude. Nous aurions probablement plus de succès si nous estimons les proportions en fonction des autres années aussi."
   ]
  },
  {
   "cell_type": "markdown",
   "id": "4928d726",
   "metadata": {},
   "source": [
    "### 7.2 Utilisation de l'année pour prédire le nombre de cerfs totale en 2021\n",
    "\n",
    "#### 7.2.1 Estimation des proportions pour 2021 pour chaque zone"
   ]
  },
  {
   "cell_type": "code",
   "execution_count": null,
   "id": "992fd052",
   "metadata": {},
   "outputs": [],
   "source": [
    "teta_hat_annee = Any[]\n",
    "for i in 1:18\n",
    "    res=lm(@formula(teta ~ Année), groupby(df_teta, :Zone)[i])\n",
    "    teta = coef(res)[1] + coef(res)[2] * 2021\n",
    "    push!(teta_hat_annee, teta)\n",
    "end\n",
    "teta_hat_annee"
   ]
  },
  {
   "cell_type": "markdown",
   "id": "b5381210",
   "metadata": {},
   "source": [
    "### 7.2.2 Prédictions pour 2021"
   ]
  },
  {
   "cell_type": "code",
   "execution_count": null,
   "id": "b883ea07",
   "metadata": {},
   "outputs": [],
   "source": [
    "preds =  [Int64(ceil(teta_hat_annee[i] * deers)) for i in 1:18]"
   ]
  },
  {
   "cell_type": "markdown",
   "id": "92578620",
   "metadata": {},
   "source": [
    "### 7.2.3 Enregistrement des prédictions"
   ]
  },
  {
   "cell_type": "code",
   "execution_count": null,
   "id": "67f9b1ac",
   "metadata": {},
   "outputs": [],
   "source": [
    "test = CSV.read(\"data/test.csv\", DataFrame);\n",
    "prediction = DataFrame(Zone = test.Zone, Cerfs = preds)\n",
    "\n",
    "CSV.write(\"categorielle_all_years.csv\", prediction)"
   ]
  },
  {
   "cell_type": "markdown",
   "id": "ae7293f2",
   "metadata": {},
   "source": [
    "Nous obtenons un rsme de 723, ce qui est une légère amélioration, mais on peut faire mieux. En effet, nous estimons le nombre de cerfs en fonction d'un nombre de permis non-résidents lui aussi estimé. On aurait probablement de meilleur résultat si nous estimions drectement le nombre de cerfs avec l'année."
   ]
  },
  {
   "cell_type": "markdown",
   "id": "01b7ae6e",
   "metadata": {},
   "source": [
    "Ensembles d'entrainements et de validations pour le nombre de cerfs et les proportions:"
   ]
  },
  {
   "cell_type": "code",
   "execution_count": null,
   "id": "c7c53ba3",
   "metadata": {},
   "outputs": [],
   "source": [
    "mp = filter(row -> row.Année !== 2013, MatriceProportions) #On retire 2013 car il nous manque les données météorologique\n",
    "mp = filter(row -> row.Zone !== 21, mp)\n",
    "proportion_training = filter(row -> row.Année >= 2010 && row.Année < 2020 , mp)\n",
    "proportion_validation = filter(row -> row.Année === 2020, mp)"
   ]
  },
  {
   "cell_type": "markdown",
   "id": "f4d85ada",
   "metadata": {},
   "source": [
    "### 7.3 Utilisation des relations polynomiales"
   ]
  },
  {
   "cell_type": "markdown",
   "id": "2f0cf3ad",
   "metadata": {},
   "source": [
    "Voici le fonctions que nous allons utiliser pour estimer nos proportions de 2021."
   ]
  },
  {
   "cell_type": "code",
   "execution_count": null,
   "id": "de282bed",
   "metadata": {},
   "outputs": [],
   "source": [
    "function get_best_proportion_model(variable::String, min_order::Int64, max_order::Int64)\n",
    "    zones = unique(proportion_training[!, :Zone])\n",
    "    models = DataFrame(Zone = Int64[], Ordre = Int64[], R = Float64[], Raj = Float64[], RMSE = Float64[], Betas = Vector{Float64}[])\n",
    "  \n",
    "    for i = 1:length(zones)\n",
    "        train = groupby(proportion_training, :Zone)[i]\n",
    "        valid = groupby(proportion_validation, :Zone)[i]\n",
    "        \n",
    "        mses = Float64[]\n",
    "        df = DataFrame(Ordre = Int64[], R = Float64[], Raj = Float64[], RMSE = Float64[], Betas = Vector{Float64}[])\n",
    "        \n",
    "        SST = sum( (train.Proportion .- mean(train.Proportion)).^2 )\n",
    "\n",
    "        for order in min_order:max_order\n",
    "            n1 = length(train.Proportion)\n",
    "            n2 = length(valid.Proportion)\n",
    "\n",
    "            # Ajustement du modèle de régression polynomiale\n",
    "            X = hcat(ones(n1), construct_structure(Vector{<:Any}(train[!, variable]), order))\n",
    "            β̂  = X\\train.Proportion\n",
    "\n",
    "            # Calcul de l'erreur\n",
    "            ŷ = X*β̂\n",
    "            e = train.Proportion - ŷ\n",
    "\n",
    "            # Calcul de la somme du carré des erreurs\n",
    "            SSE = e'e\n",
    "\n",
    "            # Calcul de l'erreur quadratique moyenne avec l'ensemble de validation\n",
    "            X̃ = hcat(ones(n2), construct_structure(Vector{<:Any}(valid[!, variable]), order))\n",
    "            ỹ = X̃*β̂\n",
    "            RMSE = (mean( (valid.Proportion - ỹ).^2 ))^0.5\n",
    "\n",
    "            push!(df, [order, 1-SSE/SST, 1-(n1-1)/(n1-order-1)*SSE/SST, RMSE, β̂ ])\n",
    "            push!(mses, RMSE)\n",
    "        end\n",
    "        \n",
    "        df = sort(df, :RMSE)\n",
    "        push!(models, [zones[i], df.Ordre[1], df.R[1], df.Raj[1], df.RMSE[1], df.Betas[1]])\n",
    "    end\n",
    "    return  models\n",
    "end\n",
    "    "
   ]
  },
  {
   "cell_type": "code",
   "execution_count": null,
   "id": "27643eee",
   "metadata": {},
   "outputs": [],
   "source": [
    "function proportion_predictions(dataframe::Any, variable1::Any)\n",
    "    zones = unique(dataframe[!, :Zone])\n",
    "    predictions = DataFrame(Zone = Int64[], Proportion = Float64[])\n",
    "  \n",
    "    for i = 1:length(zones)\n",
    "        \n",
    "        # Matrice de la nouvelle donnée\n",
    "        X = hcat(ones(1), construct_structure([variable1], dataframe.Ordre[i]))\n",
    "\n",
    "        # Prédiction\n",
    "        ŷ = X*dataframe.Betas[i]\n",
    "        \n",
    "        prediction = convert(Float64, ŷ[1])\n",
    "        \n",
    "        push!(predictions, [zones[i], prediction])\n",
    "    end\n",
    "    \n",
    "    return predictions\n",
    "end"
   ]
  },
  {
   "cell_type": "markdown",
   "id": "40cc9593",
   "metadata": {},
   "source": [
    "#### 7.3.1 Utilisation de l'année"
   ]
  },
  {
   "cell_type": "code",
   "execution_count": null,
   "id": "aa31cff0",
   "metadata": {},
   "outputs": [],
   "source": [
    "proportion_model_annee = get_best_proportion_model(\"Année\", 1, 6)"
   ]
  },
  {
   "cell_type": "code",
   "execution_count": null,
   "id": "8e3de54e",
   "metadata": {},
   "outputs": [],
   "source": [
    "proportions2021_annee =  proportion_predictions(proportion_model_annee, 2021)\n",
    "proportions2021_annee.Proportion = proportions2021_annee.Proportion / 100"
   ]
  },
  {
   "cell_type": "code",
   "execution_count": null,
   "id": "cd9e59f1",
   "metadata": {},
   "outputs": [],
   "source": [
    "sum(proportions2021_annee.Proportion)"
   ]
  },
  {
   "cell_type": "markdown",
   "id": "ae98a6d2",
   "metadata": {},
   "source": [
    "#### 7.3.2 Utilisation de la température"
   ]
  },
  {
   "cell_type": "code",
   "execution_count": null,
   "id": "0ddb7681",
   "metadata": {},
   "outputs": [],
   "source": [
    "proportion_model_temp = get_best_proportion_model(\"Température\", 1, 6)"
   ]
  },
  {
   "cell_type": "code",
   "execution_count": null,
   "id": "21316aa9",
   "metadata": {},
   "outputs": [],
   "source": [
    "proportions2021_temp =  proportion_predictions(proportion_model_temp, Temp2021)"
   ]
  },
  {
   "cell_type": "code",
   "execution_count": null,
   "id": "ec475d4a",
   "metadata": {},
   "outputs": [],
   "source": [
    "sum(proportions2021_temp.Proportion)"
   ]
  },
  {
   "cell_type": "code",
   "execution_count": null,
   "id": "9cb13a15",
   "metadata": {},
   "outputs": [],
   "source": []
  },
  {
   "cell_type": "code",
   "execution_count": null,
   "id": "389c53ef",
   "metadata": {},
   "outputs": [],
   "source": [
    "proportion_training = transform(proportion_training, [\"Jours_de_pluie\"] => ByRow(x->(x)^2) => :Jours_de_pluie_square)\n",
    "proportion_training = transform(proportion_training, [\"Jours_de_pluie\"] => ByRow(x->(x)^3) => :Jours_de_pluie_cubic)\n",
    "proportion_training = transform(proportion_training, [\"Jours_de_neige\"] => ByRow(x->(x)^2) => :Jours_de_neige_square)\n",
    "proportion_training = transform(proportion_training, [\"Jours_de_neige\"] => ByRow(x->(x)^3) => :Jours_de_neige_cubic)"
   ]
  },
  {
   "cell_type": "code",
   "execution_count": null,
   "id": "6fe2a231",
   "metadata": {},
   "outputs": [],
   "source": [
    "proportion_validation = transform(proportion_validation , [\"Jours_de_pluie\"] => ByRow(x->(x)^2) => :Jours_de_pluie_square)\n",
    "proportion_validation  = transform(proportion_validation , [\"Jours_de_pluie\"] => ByRow(x->(x)^3) => :Jours_de_pluie_cubic)\n",
    "proportion_validation  = transform(proportion_validation , [\"Jours_de_neige\"] => ByRow(x->(x)^2) => :Jours_de_neige_square)\n",
    "proportion_validation  = transform(proportion_validation , [\"Jours_de_neige\"] => ByRow(x->(x)^3) => :Jours_de_neige_cubic)"
   ]
  },
  {
   "cell_type": "code",
   "execution_count": null,
   "id": "0c2c3efb",
   "metadata": {},
   "outputs": [],
   "source": [
    "proportion_training = transform(proportion_training, [\"Prix_moyen_Montréal\"] => ByRow(x->(x)^2) => :Prix_moyen_Montréal_square)\n",
    "proportion_training = transform(proportion_training, [\"Prix_moyen_Montréal\"] => ByRow(x->(x)^3) => :Prix_moyen_Montréal_cubic)"
   ]
  },
  {
   "cell_type": "code",
   "execution_count": null,
   "id": "dce070b7",
   "metadata": {},
   "outputs": [],
   "source": [
    "proportion_validation = transform(proportion_validation, [\"Prix_moyen_Montréal\"] => ByRow(x->(x)^2) => :Prix_moyen_Montréal_square)\n",
    "proportion_validation = transform(proportion_validation, [\"Prix_moyen_Montréal\"] => ByRow(x->(x)^3) => :Prix_moyen_Montréal_cubic)"
   ]
  },
  {
   "cell_type": "code",
   "execution_count": null,
   "id": "92e4f471",
   "metadata": {},
   "outputs": [],
   "source": [
    " zones = unique(proportion_training[!, :Zone])\n",
    " models = DataFrame(Zone = Int64[], RMSE = Float64[], Formula= Any[], Prediction= Float64[])\n",
    "  \n",
    "for i = 1:length(zones)\n",
    "\n",
    "    modelsZone = DataFrame(RMSE= Float64[], Formula= Any[], Prediction= Float64[])\n",
    "\n",
    "    for termes in combinations([:Année, :Jours_de_neige])\n",
    "\n",
    "        formula = term(:Proportion) ~ sum(term.(termes))\n",
    "\n",
    "        train = groupby(proportion_training, :Zone)[i]\n",
    "        valid = groupby(proportion_validation, :Zone)[i]\n",
    "\n",
    "        m = glm(formula, train, Normal(), IdentityLink())\n",
    "        θ̂ = predict(m, DataFrame(valid))\n",
    "\n",
    "        rmse = StatsBase.rmsd([θ̂[1]] , valid.Proportion)\n",
    "        pred = max(predict(m, DataFrame(Année=[2021], Jours_de_neige = [JNeige2021]))[1], 0)\n",
    "        push!(modelsZone, [rmse, formula, pred])\n",
    "    end\n",
    "    sorted_models = sort(modelsZone, :RMSE)\n",
    "    \n",
    "    push!(models, [groupby(proportion_training, :Zone)[i].Zone[1], sorted_models.RMSE[1], sorted_models.Formula[1], sorted_models.Prediction[1]])\n",
    "end\n",
    "\n",
    "models"
   ]
  },
  {
   "cell_type": "code",
   "execution_count": null,
   "id": "903a413b",
   "metadata": {},
   "outputs": [],
   "source": [
    "\n",
    "models = DataFrame(RMSE= Float64[], Formula= Any[], Prediction= Any[])\n",
    "for termes in combinations([:Année, :Année_square, :Année_cubic,  :Jours_de_pluie, :Jours_de_pluie_square, :Jours_de_pluie_cubic, :Jours_de_neige])\n",
    "    modelsCombination = DataFrame(RMSE= Float64[], Prediction= Int64[])\n",
    "    formula = term(:Cerfs) ~ sum(term.(termes))\n",
    "    train = deers_training\n",
    "    valid = deers_validation\n",
    "\n",
    "    m = glm(formula, train, Normal(), IdentityLink())\n",
    "    θ̂ = predict(m, DataFrame(valid))\n",
    "    θ̂ = convert.(Int64, [ceil(θ̂[i]) for i in 1:size(θ̂ , 1)])\n",
    "\n",
    "    rmse = StatsBase.rmsd(θ̂ , valid.Cerfs)\n",
    "\n",
    "    m = glm(formula, train, Normal(), IdentityLink())\n",
    "    pred = max(ceil(predict(m, DataFrame(Année=[2021], Année_square=[2021^2], Année_cubic=[2021^3], Jours_de_pluie=[JPluie2021],  Jours_de_pluie_square=[JPluie2021^2], Jours_de_pluie_cubic=[JPluie2021^3], Jours_de_neige=[JNeige2021]))[1]), 0)\n",
    "    push!(modelsCombination, [rmse, pred])\n",
    "    push!(models, [mean(modelsCombination.RMSE), formula, DataFrame(Cerfs = modelsCombination.Prediction)])\n",
    "end\n",
    "models = sort(models, :RMSE)"
   ]
  },
  {
   "cell_type": "code",
   "execution_count": null,
   "id": "4754a60d",
   "metadata": {},
   "outputs": [],
   "source": []
  },
  {
   "cell_type": "markdown",
   "id": "97280eaa",
   "metadata": {},
   "source": [
    "#### 7.3.4 Prédiction du nombre de cerfs par zone en 2021"
   ]
  },
  {
   "cell_type": "code",
   "execution_count": null,
   "id": "00af1f9a",
   "metadata": {},
   "outputs": [],
   "source": [
    "preds =  [Int64(ceil(proportions2021_annee.Proportion[i] * deers)) for i in 1:18]"
   ]
  },
  {
   "cell_type": "markdown",
   "id": "540c4f0e",
   "metadata": {},
   "source": [
    "#### 7.3.4 Enregistrement des prédictions"
   ]
  },
  {
   "cell_type": "code",
   "execution_count": null,
   "id": "8ae260ee",
   "metadata": {},
   "outputs": [],
   "source": [
    "test = CSV.read(\"data/test.csv\", DataFrame);\n",
    "prediction = DataFrame(Zone = test.Zone, Cerfs = preds)\n",
    "\n",
    "CSV.write(\"categorielle_total_by_year.csv\", prediction)"
   ]
  },
  {
   "cell_type": "code",
   "execution_count": null,
   "id": "9b64ecbb",
   "metadata": {},
   "outputs": [],
   "source": []
  },
  {
   "cell_type": "markdown",
   "id": "a7928a32",
   "metadata": {},
   "source": [
    "### 7.4 Modèle multinomial logit"
   ]
  },
  {
   "cell_type": "code",
   "execution_count": 23,
   "id": "e8607f14",
   "metadata": {},
   "outputs": [
    {
     "data": {
      "text/html": [
       "<div class=\"data-frame\"><p>728,386 rows × 21 columns (omitted printing of 15 columns)</p><table class=\"data-frame\"><thead><tr><th></th><th>Année</th><th>Température</th><th>Pluie_totale</th><th>Neige_totale</th><th>Neige_totale_au_sol</th><th>Jours_de_pluie</th></tr><tr><th></th><th title=\"Any\">Any</th><th title=\"Any\">Any</th><th title=\"Any\">Any</th><th title=\"Any\">Any</th><th title=\"Any\">Any</th><th title=\"Any\">Any</th></tr></thead><tbody><tr><th>1</th><td>1999</td><td>6.36721</td><td>139.7</td><td>5.1</td><td>2</td><td>26.0</td></tr><tr><th>2</th><td>1999</td><td>6.36721</td><td>139.7</td><td>5.1</td><td>2</td><td>26.0</td></tr><tr><th>3</th><td>1999</td><td>6.36721</td><td>139.7</td><td>5.1</td><td>2</td><td>26.0</td></tr><tr><th>4</th><td>1999</td><td>6.36721</td><td>139.7</td><td>5.1</td><td>2</td><td>26.0</td></tr><tr><th>5</th><td>1999</td><td>6.36721</td><td>139.7</td><td>5.1</td><td>2</td><td>26.0</td></tr><tr><th>6</th><td>1999</td><td>6.36721</td><td>139.7</td><td>5.1</td><td>2</td><td>26.0</td></tr><tr><th>7</th><td>1999</td><td>6.36721</td><td>139.7</td><td>5.1</td><td>2</td><td>26.0</td></tr><tr><th>8</th><td>1999</td><td>6.36721</td><td>139.7</td><td>5.1</td><td>2</td><td>26.0</td></tr><tr><th>9</th><td>1999</td><td>6.36721</td><td>139.7</td><td>5.1</td><td>2</td><td>26.0</td></tr><tr><th>10</th><td>1999</td><td>6.36721</td><td>139.7</td><td>5.1</td><td>2</td><td>26.0</td></tr><tr><th>11</th><td>1999</td><td>6.36721</td><td>139.7</td><td>5.1</td><td>2</td><td>26.0</td></tr><tr><th>12</th><td>1999</td><td>6.36721</td><td>139.7</td><td>5.1</td><td>2</td><td>26.0</td></tr><tr><th>13</th><td>1999</td><td>6.36721</td><td>139.7</td><td>5.1</td><td>2</td><td>26.0</td></tr><tr><th>14</th><td>1999</td><td>6.36721</td><td>139.7</td><td>5.1</td><td>2</td><td>26.0</td></tr><tr><th>15</th><td>1999</td><td>6.36721</td><td>139.7</td><td>5.1</td><td>2</td><td>26.0</td></tr><tr><th>16</th><td>1999</td><td>6.36721</td><td>139.7</td><td>5.1</td><td>2</td><td>26.0</td></tr><tr><th>17</th><td>1999</td><td>6.36721</td><td>139.7</td><td>5.1</td><td>2</td><td>26.0</td></tr><tr><th>18</th><td>1999</td><td>6.36721</td><td>139.7</td><td>5.1</td><td>2</td><td>26.0</td></tr><tr><th>19</th><td>1999</td><td>6.36721</td><td>139.7</td><td>5.1</td><td>2</td><td>26.0</td></tr><tr><th>20</th><td>1999</td><td>6.36721</td><td>139.7</td><td>5.1</td><td>2</td><td>26.0</td></tr><tr><th>21</th><td>1999</td><td>6.36721</td><td>139.7</td><td>5.1</td><td>2</td><td>26.0</td></tr><tr><th>22</th><td>1999</td><td>6.36721</td><td>139.7</td><td>5.1</td><td>2</td><td>26.0</td></tr><tr><th>23</th><td>1999</td><td>6.36721</td><td>139.7</td><td>5.1</td><td>2</td><td>26.0</td></tr><tr><th>24</th><td>1999</td><td>6.36721</td><td>139.7</td><td>5.1</td><td>2</td><td>26.0</td></tr><tr><th>25</th><td>1999</td><td>6.36721</td><td>139.7</td><td>5.1</td><td>2</td><td>26.0</td></tr><tr><th>26</th><td>1999</td><td>6.36721</td><td>139.7</td><td>5.1</td><td>2</td><td>26.0</td></tr><tr><th>27</th><td>1999</td><td>6.36721</td><td>139.7</td><td>5.1</td><td>2</td><td>26.0</td></tr><tr><th>28</th><td>1999</td><td>6.36721</td><td>139.7</td><td>5.1</td><td>2</td><td>26.0</td></tr><tr><th>29</th><td>1999</td><td>6.36721</td><td>139.7</td><td>5.1</td><td>2</td><td>26.0</td></tr><tr><th>30</th><td>1999</td><td>6.36721</td><td>139.7</td><td>5.1</td><td>2</td><td>26.0</td></tr><tr><th>&vellip;</th><td>&vellip;</td><td>&vellip;</td><td>&vellip;</td><td>&vellip;</td><td>&vellip;</td><td>&vellip;</td></tr></tbody></table></div>"
      ],
      "text/latex": [
       "\\begin{tabular}{r|ccccccc}\n",
       "\t& Année & Température & Pluie\\_totale & Neige\\_totale & Neige\\_totale\\_au\\_sol & Jours\\_de\\_pluie & \\\\\n",
       "\t\\hline\n",
       "\t& Any & Any & Any & Any & Any & Any & \\\\\n",
       "\t\\hline\n",
       "\t1 & 1999 & 6.36721 & 139.7 & 5.1 & 2 & 26.0 & $\\dots$ \\\\\n",
       "\t2 & 1999 & 6.36721 & 139.7 & 5.1 & 2 & 26.0 & $\\dots$ \\\\\n",
       "\t3 & 1999 & 6.36721 & 139.7 & 5.1 & 2 & 26.0 & $\\dots$ \\\\\n",
       "\t4 & 1999 & 6.36721 & 139.7 & 5.1 & 2 & 26.0 & $\\dots$ \\\\\n",
       "\t5 & 1999 & 6.36721 & 139.7 & 5.1 & 2 & 26.0 & $\\dots$ \\\\\n",
       "\t6 & 1999 & 6.36721 & 139.7 & 5.1 & 2 & 26.0 & $\\dots$ \\\\\n",
       "\t7 & 1999 & 6.36721 & 139.7 & 5.1 & 2 & 26.0 & $\\dots$ \\\\\n",
       "\t8 & 1999 & 6.36721 & 139.7 & 5.1 & 2 & 26.0 & $\\dots$ \\\\\n",
       "\t9 & 1999 & 6.36721 & 139.7 & 5.1 & 2 & 26.0 & $\\dots$ \\\\\n",
       "\t10 & 1999 & 6.36721 & 139.7 & 5.1 & 2 & 26.0 & $\\dots$ \\\\\n",
       "\t11 & 1999 & 6.36721 & 139.7 & 5.1 & 2 & 26.0 & $\\dots$ \\\\\n",
       "\t12 & 1999 & 6.36721 & 139.7 & 5.1 & 2 & 26.0 & $\\dots$ \\\\\n",
       "\t13 & 1999 & 6.36721 & 139.7 & 5.1 & 2 & 26.0 & $\\dots$ \\\\\n",
       "\t14 & 1999 & 6.36721 & 139.7 & 5.1 & 2 & 26.0 & $\\dots$ \\\\\n",
       "\t15 & 1999 & 6.36721 & 139.7 & 5.1 & 2 & 26.0 & $\\dots$ \\\\\n",
       "\t16 & 1999 & 6.36721 & 139.7 & 5.1 & 2 & 26.0 & $\\dots$ \\\\\n",
       "\t17 & 1999 & 6.36721 & 139.7 & 5.1 & 2 & 26.0 & $\\dots$ \\\\\n",
       "\t18 & 1999 & 6.36721 & 139.7 & 5.1 & 2 & 26.0 & $\\dots$ \\\\\n",
       "\t19 & 1999 & 6.36721 & 139.7 & 5.1 & 2 & 26.0 & $\\dots$ \\\\\n",
       "\t20 & 1999 & 6.36721 & 139.7 & 5.1 & 2 & 26.0 & $\\dots$ \\\\\n",
       "\t21 & 1999 & 6.36721 & 139.7 & 5.1 & 2 & 26.0 & $\\dots$ \\\\\n",
       "\t22 & 1999 & 6.36721 & 139.7 & 5.1 & 2 & 26.0 & $\\dots$ \\\\\n",
       "\t23 & 1999 & 6.36721 & 139.7 & 5.1 & 2 & 26.0 & $\\dots$ \\\\\n",
       "\t24 & 1999 & 6.36721 & 139.7 & 5.1 & 2 & 26.0 & $\\dots$ \\\\\n",
       "\t25 & 1999 & 6.36721 & 139.7 & 5.1 & 2 & 26.0 & $\\dots$ \\\\\n",
       "\t26 & 1999 & 6.36721 & 139.7 & 5.1 & 2 & 26.0 & $\\dots$ \\\\\n",
       "\t27 & 1999 & 6.36721 & 139.7 & 5.1 & 2 & 26.0 & $\\dots$ \\\\\n",
       "\t28 & 1999 & 6.36721 & 139.7 & 5.1 & 2 & 26.0 & $\\dots$ \\\\\n",
       "\t29 & 1999 & 6.36721 & 139.7 & 5.1 & 2 & 26.0 & $\\dots$ \\\\\n",
       "\t30 & 1999 & 6.36721 & 139.7 & 5.1 & 2 & 26.0 & $\\dots$ \\\\\n",
       "\t$\\dots$ & $\\dots$ & $\\dots$ & $\\dots$ & $\\dots$ & $\\dots$ & $\\dots$ &  \\\\\n",
       "\\end{tabular}\n"
      ],
      "text/plain": [
       "\u001b[1m728386×21 DataFrame\u001b[0m\n",
       "\u001b[1m    Row \u001b[0m│\u001b[1m Année \u001b[0m\u001b[1m Température \u001b[0m\u001b[1m Pluie_totale \u001b[0m\u001b[1m Neige_totale \u001b[0m\u001b[1m Neige_totale_au_sol \u001b[0m\u001b[1m\u001b[0m ⋯\n",
       "\u001b[1m        \u001b[0m│\u001b[90m Any   \u001b[0m\u001b[90m Any         \u001b[0m\u001b[90m Any          \u001b[0m\u001b[90m Any          \u001b[0m\u001b[90m Any                 \u001b[0m\u001b[90m\u001b[0m ⋯\n",
       "────────┼───────────────────────────────────────────────────────────────────────\n",
       "      1 │ 1999   6.36721      139.7         5.1           2                    ⋯\n",
       "      2 │ 1999   6.36721      139.7         5.1           2\n",
       "      3 │ 1999   6.36721      139.7         5.1           2\n",
       "      4 │ 1999   6.36721      139.7         5.1           2\n",
       "      5 │ 1999   6.36721      139.7         5.1           2                    ⋯\n",
       "      6 │ 1999   6.36721      139.7         5.1           2\n",
       "      7 │ 1999   6.36721      139.7         5.1           2\n",
       "      8 │ 1999   6.36721      139.7         5.1           2\n",
       "      9 │ 1999   6.36721      139.7         5.1           2                    ⋯\n",
       "     10 │ 1999   6.36721      139.7         5.1           2\n",
       "     11 │ 1999   6.36721      139.7         5.1           2\n",
       "   ⋮    │   ⋮         ⋮            ⋮             ⋮                 ⋮           ⋱\n",
       " 728377 │ 2020   6.64918      150.4         22.4          13\n",
       " 728378 │ 2020   6.64918      150.4         22.4          13                   ⋯\n",
       " 728379 │ 2020   6.64918      150.4         22.4          13\n",
       " 728380 │ 2020   6.64918      150.4         22.4          13\n",
       " 728381 │ 2020   6.64918      150.4         22.4          13\n",
       " 728382 │ 2020   6.64918      150.4         22.4          13                   ⋯\n",
       " 728383 │ 2020   6.64918      150.4         22.4          13\n",
       " 728384 │ 2020   6.64918      150.4         22.4          13\n",
       " 728385 │ 2020   6.64918      150.4         22.4          13\n",
       " 728386 │ 2020   6.64918      150.4         22.4          13                   ⋯\n",
       "\u001b[36m                                              16 columns and 728365 rows omitted\u001b[0m"
      ]
     },
     "execution_count": 23,
     "metadata": {},
     "output_type": "execute_result"
    }
   ],
   "source": [
    "ml = MatriceProportions[!, Not([:Cerfs_totale])]\n",
    "u = unique(ml)\n",
    "\n",
    "MatriceMLogit = DataFrame([name => [] for name in names(ml)])\n",
    "\n",
    "for row in eachrow(u)\n",
    "    m = DataFrame([name => [] for name in names(ml)])\n",
    "    push!(m, row)\n",
    "    m = repeat(m, row.Cerfs[1])\n",
    "    for other_row in eachrow(m)\n",
    "        push!(MatriceMLogit, other_row)\n",
    "    end\n",
    "end\n",
    "\n",
    "MatriceMLogit"
   ]
  },
  {
   "cell_type": "code",
   "execution_count": 24,
   "id": "3d0154ed",
   "metadata": {},
   "outputs": [
    {
     "data": {
      "text/html": [
       "<div class=\"data-frame\"><p>301,306 rows × 21 columns (omitted printing of 15 columns)</p><table class=\"data-frame\"><thead><tr><th></th><th>Année</th><th>Température</th><th>Pluie_totale</th><th>Neige_totale</th><th>Neige_totale_au_sol</th><th>Jours_de_pluie</th></tr><tr><th></th><th title=\"Any\">Any</th><th title=\"Any\">Any</th><th title=\"Any\">Any</th><th title=\"Any\">Any</th><th title=\"Any\">Any</th><th title=\"Any\">Any</th></tr></thead><tbody><tr><th>1</th><td>2010</td><td>5.42459</td><td>206.0</td><td>5.6</td><td>0</td><td>26.0</td></tr><tr><th>2</th><td>2010</td><td>5.42459</td><td>206.0</td><td>5.6</td><td>0</td><td>26.0</td></tr><tr><th>3</th><td>2010</td><td>5.42459</td><td>206.0</td><td>5.6</td><td>0</td><td>26.0</td></tr><tr><th>4</th><td>2010</td><td>5.42459</td><td>206.0</td><td>5.6</td><td>0</td><td>26.0</td></tr><tr><th>5</th><td>2010</td><td>5.42459</td><td>206.0</td><td>5.6</td><td>0</td><td>26.0</td></tr><tr><th>6</th><td>2010</td><td>5.42459</td><td>206.0</td><td>5.6</td><td>0</td><td>26.0</td></tr><tr><th>7</th><td>2010</td><td>5.42459</td><td>206.0</td><td>5.6</td><td>0</td><td>26.0</td></tr><tr><th>8</th><td>2010</td><td>5.42459</td><td>206.0</td><td>5.6</td><td>0</td><td>26.0</td></tr><tr><th>9</th><td>2010</td><td>5.42459</td><td>206.0</td><td>5.6</td><td>0</td><td>26.0</td></tr><tr><th>10</th><td>2010</td><td>5.42459</td><td>206.0</td><td>5.6</td><td>0</td><td>26.0</td></tr><tr><th>11</th><td>2010</td><td>5.42459</td><td>206.0</td><td>5.6</td><td>0</td><td>26.0</td></tr><tr><th>12</th><td>2010</td><td>5.42459</td><td>206.0</td><td>5.6</td><td>0</td><td>26.0</td></tr><tr><th>13</th><td>2010</td><td>5.42459</td><td>206.0</td><td>5.6</td><td>0</td><td>26.0</td></tr><tr><th>14</th><td>2010</td><td>5.42459</td><td>206.0</td><td>5.6</td><td>0</td><td>26.0</td></tr><tr><th>15</th><td>2010</td><td>5.42459</td><td>206.0</td><td>5.6</td><td>0</td><td>26.0</td></tr><tr><th>16</th><td>2010</td><td>5.42459</td><td>206.0</td><td>5.6</td><td>0</td><td>26.0</td></tr><tr><th>17</th><td>2010</td><td>5.42459</td><td>206.0</td><td>5.6</td><td>0</td><td>26.0</td></tr><tr><th>18</th><td>2010</td><td>5.42459</td><td>206.0</td><td>5.6</td><td>0</td><td>26.0</td></tr><tr><th>19</th><td>2010</td><td>5.42459</td><td>206.0</td><td>5.6</td><td>0</td><td>26.0</td></tr><tr><th>20</th><td>2010</td><td>5.42459</td><td>206.0</td><td>5.6</td><td>0</td><td>26.0</td></tr><tr><th>21</th><td>2010</td><td>5.42459</td><td>206.0</td><td>5.6</td><td>0</td><td>26.0</td></tr><tr><th>22</th><td>2010</td><td>5.42459</td><td>206.0</td><td>5.6</td><td>0</td><td>26.0</td></tr><tr><th>23</th><td>2010</td><td>5.42459</td><td>206.0</td><td>5.6</td><td>0</td><td>26.0</td></tr><tr><th>24</th><td>2010</td><td>5.42459</td><td>206.0</td><td>5.6</td><td>0</td><td>26.0</td></tr><tr><th>25</th><td>2010</td><td>5.42459</td><td>206.0</td><td>5.6</td><td>0</td><td>26.0</td></tr><tr><th>26</th><td>2010</td><td>5.42459</td><td>206.0</td><td>5.6</td><td>0</td><td>26.0</td></tr><tr><th>27</th><td>2010</td><td>5.42459</td><td>206.0</td><td>5.6</td><td>0</td><td>26.0</td></tr><tr><th>28</th><td>2010</td><td>5.42459</td><td>206.0</td><td>5.6</td><td>0</td><td>26.0</td></tr><tr><th>29</th><td>2010</td><td>5.42459</td><td>206.0</td><td>5.6</td><td>0</td><td>26.0</td></tr><tr><th>30</th><td>2010</td><td>5.42459</td><td>206.0</td><td>5.6</td><td>0</td><td>26.0</td></tr><tr><th>&vellip;</th><td>&vellip;</td><td>&vellip;</td><td>&vellip;</td><td>&vellip;</td><td>&vellip;</td><td>&vellip;</td></tr></tbody></table></div>"
      ],
      "text/latex": [
       "\\begin{tabular}{r|ccccccc}\n",
       "\t& Année & Température & Pluie\\_totale & Neige\\_totale & Neige\\_totale\\_au\\_sol & Jours\\_de\\_pluie & \\\\\n",
       "\t\\hline\n",
       "\t& Any & Any & Any & Any & Any & Any & \\\\\n",
       "\t\\hline\n",
       "\t1 & 2010 & 5.42459 & 206.0 & 5.6 & 0 & 26.0 & $\\dots$ \\\\\n",
       "\t2 & 2010 & 5.42459 & 206.0 & 5.6 & 0 & 26.0 & $\\dots$ \\\\\n",
       "\t3 & 2010 & 5.42459 & 206.0 & 5.6 & 0 & 26.0 & $\\dots$ \\\\\n",
       "\t4 & 2010 & 5.42459 & 206.0 & 5.6 & 0 & 26.0 & $\\dots$ \\\\\n",
       "\t5 & 2010 & 5.42459 & 206.0 & 5.6 & 0 & 26.0 & $\\dots$ \\\\\n",
       "\t6 & 2010 & 5.42459 & 206.0 & 5.6 & 0 & 26.0 & $\\dots$ \\\\\n",
       "\t7 & 2010 & 5.42459 & 206.0 & 5.6 & 0 & 26.0 & $\\dots$ \\\\\n",
       "\t8 & 2010 & 5.42459 & 206.0 & 5.6 & 0 & 26.0 & $\\dots$ \\\\\n",
       "\t9 & 2010 & 5.42459 & 206.0 & 5.6 & 0 & 26.0 & $\\dots$ \\\\\n",
       "\t10 & 2010 & 5.42459 & 206.0 & 5.6 & 0 & 26.0 & $\\dots$ \\\\\n",
       "\t11 & 2010 & 5.42459 & 206.0 & 5.6 & 0 & 26.0 & $\\dots$ \\\\\n",
       "\t12 & 2010 & 5.42459 & 206.0 & 5.6 & 0 & 26.0 & $\\dots$ \\\\\n",
       "\t13 & 2010 & 5.42459 & 206.0 & 5.6 & 0 & 26.0 & $\\dots$ \\\\\n",
       "\t14 & 2010 & 5.42459 & 206.0 & 5.6 & 0 & 26.0 & $\\dots$ \\\\\n",
       "\t15 & 2010 & 5.42459 & 206.0 & 5.6 & 0 & 26.0 & $\\dots$ \\\\\n",
       "\t16 & 2010 & 5.42459 & 206.0 & 5.6 & 0 & 26.0 & $\\dots$ \\\\\n",
       "\t17 & 2010 & 5.42459 & 206.0 & 5.6 & 0 & 26.0 & $\\dots$ \\\\\n",
       "\t18 & 2010 & 5.42459 & 206.0 & 5.6 & 0 & 26.0 & $\\dots$ \\\\\n",
       "\t19 & 2010 & 5.42459 & 206.0 & 5.6 & 0 & 26.0 & $\\dots$ \\\\\n",
       "\t20 & 2010 & 5.42459 & 206.0 & 5.6 & 0 & 26.0 & $\\dots$ \\\\\n",
       "\t21 & 2010 & 5.42459 & 206.0 & 5.6 & 0 & 26.0 & $\\dots$ \\\\\n",
       "\t22 & 2010 & 5.42459 & 206.0 & 5.6 & 0 & 26.0 & $\\dots$ \\\\\n",
       "\t23 & 2010 & 5.42459 & 206.0 & 5.6 & 0 & 26.0 & $\\dots$ \\\\\n",
       "\t24 & 2010 & 5.42459 & 206.0 & 5.6 & 0 & 26.0 & $\\dots$ \\\\\n",
       "\t25 & 2010 & 5.42459 & 206.0 & 5.6 & 0 & 26.0 & $\\dots$ \\\\\n",
       "\t26 & 2010 & 5.42459 & 206.0 & 5.6 & 0 & 26.0 & $\\dots$ \\\\\n",
       "\t27 & 2010 & 5.42459 & 206.0 & 5.6 & 0 & 26.0 & $\\dots$ \\\\\n",
       "\t28 & 2010 & 5.42459 & 206.0 & 5.6 & 0 & 26.0 & $\\dots$ \\\\\n",
       "\t29 & 2010 & 5.42459 & 206.0 & 5.6 & 0 & 26.0 & $\\dots$ \\\\\n",
       "\t30 & 2010 & 5.42459 & 206.0 & 5.6 & 0 & 26.0 & $\\dots$ \\\\\n",
       "\t$\\dots$ & $\\dots$ & $\\dots$ & $\\dots$ & $\\dots$ & $\\dots$ & $\\dots$ &  \\\\\n",
       "\\end{tabular}\n"
      ],
      "text/plain": [
       "\u001b[1m301306×21 DataFrame\u001b[0m\n",
       "\u001b[1m    Row \u001b[0m│\u001b[1m Année \u001b[0m\u001b[1m Température \u001b[0m\u001b[1m Pluie_totale \u001b[0m\u001b[1m Neige_totale \u001b[0m\u001b[1m Neige_totale_au_sol \u001b[0m\u001b[1m\u001b[0m ⋯\n",
       "\u001b[1m        \u001b[0m│\u001b[90m Any   \u001b[0m\u001b[90m Any         \u001b[0m\u001b[90m Any          \u001b[0m\u001b[90m Any          \u001b[0m\u001b[90m Any                 \u001b[0m\u001b[90m\u001b[0m ⋯\n",
       "────────┼───────────────────────────────────────────────────────────────────────\n",
       "      1 │ 2010   5.42459      206.0         5.6           0                    ⋯\n",
       "      2 │ 2010   5.42459      206.0         5.6           0\n",
       "      3 │ 2010   5.42459      206.0         5.6           0\n",
       "      4 │ 2010   5.42459      206.0         5.6           0\n",
       "      5 │ 2010   5.42459      206.0         5.6           0                    ⋯\n",
       "      6 │ 2010   5.42459      206.0         5.6           0\n",
       "      7 │ 2010   5.42459      206.0         5.6           0\n",
       "      8 │ 2010   5.42459      206.0         5.6           0\n",
       "      9 │ 2010   5.42459      206.0         5.6           0                    ⋯\n",
       "     10 │ 2010   5.42459      206.0         5.6           0\n",
       "     11 │ 2010   5.42459      206.0         5.6           0\n",
       "   ⋮    │   ⋮         ⋮            ⋮             ⋮                 ⋮           ⋱\n",
       " 301297 │ 2020   6.64918      150.4         22.4          13\n",
       " 301298 │ 2020   6.64918      150.4         22.4          13                   ⋯\n",
       " 301299 │ 2020   6.64918      150.4         22.4          13\n",
       " 301300 │ 2020   6.64918      150.4         22.4          13\n",
       " 301301 │ 2020   6.64918      150.4         22.4          13\n",
       " 301302 │ 2020   6.64918      150.4         22.4          13                   ⋯\n",
       " 301303 │ 2020   6.64918      150.4         22.4          13\n",
       " 301304 │ 2020   6.64918      150.4         22.4          13\n",
       " 301305 │ 2020   6.64918      150.4         22.4          13\n",
       " 301306 │ 2020   6.64918      150.4         22.4          13                   ⋯\n",
       "\u001b[36m                                              16 columns and 301285 rows omitted\u001b[0m"
      ]
     },
     "execution_count": 24,
     "metadata": {},
     "output_type": "execute_result"
    }
   ],
   "source": [
    "MLogit_10_years = filter(row -> row.Année >= 2010 && row.Année !== 2013, MatriceMLogit)"
   ]
  },
  {
   "cell_type": "markdown",
   "id": "b211220a",
   "metadata": {},
   "source": [
    "#### On recode les zones de 1 a 18."
   ]
  },
  {
   "cell_type": "code",
   "execution_count": 25,
   "id": "ac847fdf",
   "metadata": {
    "scrolled": true
   },
   "outputs": [
    {
     "data": {
      "text/html": [
       "<div class=\"data-frame\"><p>5 rows × 22 columns (omitted printing of 16 columns)</p><table class=\"data-frame\"><thead><tr><th></th><th>Année</th><th>Température</th><th>Pluie_totale</th><th>Neige_totale</th><th>Neige_totale_au_sol</th><th>Jours_de_pluie</th></tr><tr><th></th><th title=\"Any\">Any</th><th title=\"Any\">Any</th><th title=\"Any\">Any</th><th title=\"Any\">Any</th><th title=\"Any\">Any</th><th title=\"Any\">Any</th></tr></thead><tbody><tr><th>1</th><td>2010</td><td>5.42459</td><td>206.0</td><td>5.6</td><td>0</td><td>26.0</td></tr><tr><th>2</th><td>2010</td><td>5.42459</td><td>206.0</td><td>5.6</td><td>0</td><td>26.0</td></tr><tr><th>3</th><td>2010</td><td>5.42459</td><td>206.0</td><td>5.6</td><td>0</td><td>26.0</td></tr><tr><th>4</th><td>2010</td><td>5.42459</td><td>206.0</td><td>5.6</td><td>0</td><td>26.0</td></tr><tr><th>5</th><td>2010</td><td>5.42459</td><td>206.0</td><td>5.6</td><td>0</td><td>26.0</td></tr></tbody></table></div>"
      ],
      "text/latex": [
       "\\begin{tabular}{r|ccccccc}\n",
       "\t& Année & Température & Pluie\\_totale & Neige\\_totale & Neige\\_totale\\_au\\_sol & Jours\\_de\\_pluie & \\\\\n",
       "\t\\hline\n",
       "\t& Any & Any & Any & Any & Any & Any & \\\\\n",
       "\t\\hline\n",
       "\t1 & 2010 & 5.42459 & 206.0 & 5.6 & 0 & 26.0 & $\\dots$ \\\\\n",
       "\t2 & 2010 & 5.42459 & 206.0 & 5.6 & 0 & 26.0 & $\\dots$ \\\\\n",
       "\t3 & 2010 & 5.42459 & 206.0 & 5.6 & 0 & 26.0 & $\\dots$ \\\\\n",
       "\t4 & 2010 & 5.42459 & 206.0 & 5.6 & 0 & 26.0 & $\\dots$ \\\\\n",
       "\t5 & 2010 & 5.42459 & 206.0 & 5.6 & 0 & 26.0 & $\\dots$ \\\\\n",
       "\\end{tabular}\n"
      ],
      "text/plain": [
       "\u001b[1m5×22 DataFrame\u001b[0m\n",
       "\u001b[1m Row \u001b[0m│\u001b[1m Année \u001b[0m\u001b[1m Température \u001b[0m\u001b[1m Pluie_totale \u001b[0m\u001b[1m Neige_totale \u001b[0m\u001b[1m Neige_totale_au_sol \u001b[0m\u001b[1m Jo\u001b[0m ⋯\n",
       "\u001b[1m     \u001b[0m│\u001b[90m Any   \u001b[0m\u001b[90m Any         \u001b[0m\u001b[90m Any          \u001b[0m\u001b[90m Any          \u001b[0m\u001b[90m Any                 \u001b[0m\u001b[90m An\u001b[0m ⋯\n",
       "─────┼──────────────────────────────────────────────────────────────────────────\n",
       "   1 │ 2010   5.42459      206.0         5.6           0                    26 ⋯\n",
       "   2 │ 2010   5.42459      206.0         5.6           0                    26\n",
       "   3 │ 2010   5.42459      206.0         5.6           0                    26\n",
       "   4 │ 2010   5.42459      206.0         5.6           0                    26\n",
       "   5 │ 2010   5.42459      206.0         5.6           0                    26 ⋯\n",
       "\u001b[36m                                                              17 columns omitted\u001b[0m"
      ]
     },
     "execution_count": 25,
     "metadata": {},
     "output_type": "execute_result"
    }
   ],
   "source": [
    "zones = [1, 2, 3, 4, 5, 6, 7 ,8, 9 ,10, 11, 12, 13, 15, 20, 26, 27, 28 ]\n",
    "MLogit_10_years[!, :Zone_index] = indexin(MLogit_10_years[!, :Zone], zones)\n",
    "filter!(row -> row.Zone_index !== nothing, MLogit_10_years)\n",
    "first(MLogit_10_years, 5)"
   ]
  },
  {
   "cell_type": "code",
   "execution_count": 26,
   "id": "4fae6bb3",
   "metadata": {},
   "outputs": [],
   "source": [
    "# Load Turing.\n",
    "using Turing\n",
    "\n",
    "# Load RDatasets.\n",
    "using RDatasets\n",
    "\n",
    "# Load StatsPlots for visualizations and diagnostics.\n",
    "using StatsPlots\n",
    "\n",
    "# Functionality for splitting and normalizing the data.\n",
    "using MLDataUtils: shuffleobs, splitobs, rescale!\n",
    "\n",
    "# We need a softmax function which is provided by NNlib.\n",
    "using NNlib: softmax\n",
    "\n",
    "# Functionality for constructing arrays with identical elements efficiently.\n",
    "using FillArrays"
   ]
  },
  {
   "cell_type": "code",
   "execution_count": 27,
   "id": "686342c4",
   "metadata": {},
   "outputs": [],
   "source": [
    "# Split our dataset 75%/25% into training/test sets.\n",
    "train, validation = splitobs(shuffleobs(MLogit_10_years), 0.75)\n",
    "\n",
    "# Define features and target.\n",
    "variables = [:Année, :Température, :Pluie_totale, :Neige_totale]\n",
    "y = :Zone_index\n",
    "\n",
    "# Turing requires data in matrix and vector form.\n",
    "train_variables = Matrix(train[!, variables])\n",
    "validation_variables = Matrix(validation[!, variables])\n",
    "train_y = train[!, y]\n",
    "\n",
    "#convert(Vector[Union{Int64}], [train_y])\n",
    "validation_y = validation[!, y]\n",
    "\n",
    "# Standardize the features.\n",
    "μ, σ = rescale!(train_variables; obsdim=1)\n",
    "rescale!(train_variables, μ, σ; obsdim=1);"
   ]
  },
  {
   "cell_type": "markdown",
   "id": "a5cfa79e",
   "metadata": {},
   "source": [
    "Fonction trouvé ici: https://turing.ml/dev/tutorials/08-multinomial-logistic-regression/"
   ]
  },
  {
   "cell_type": "code",
   "execution_count": null,
   "id": "2ca07732",
   "metadata": {},
   "outputs": [],
   "source": [
    "# Bayesian multinomial logistic regression\n",
    "@model function logistic_regression(x, y, σ)\n",
    "    n = size(x, 1)\n",
    "    length(y) == n ||\n",
    "        throw(DimensionMismatch(\"number of observations in `x` and `y` is not equal\"))\n",
    "\n",
    "    # Priors of intercepts and coefficients.\n",
    "    intercept_versicolor ~ Normal(0, σ)\n",
    "    intercept_virginica ~ Normal(0, σ)\n",
    "    coefficients_versicolor ~ MvNormal(Zeros(4), σ^2 * I)\n",
    "    coefficients_virginica ~ MvNormal(Zeros(4), σ^2 * I)\n",
    "\n",
    "    # Compute the likelihood of the observations.\n",
    "    values_versicolor = intercept_versicolor .+ x * coefficients_versicolor\n",
    "    values_virginica = intercept_virginica .+ x * coefficients_virginica\n",
    "    for i in 1:n\n",
    "        # the 0 corresponds to the base category `setosa`\n",
    "        v = softmax([0, values_versicolor[i], values_virginica[i]])\n",
    "        y[i] ~ Categorical(v)\n",
    "    end\n",
    "end;"
   ]
  },
  {
   "cell_type": "code",
   "execution_count": null,
   "id": "961f8c1a",
   "metadata": {},
   "outputs": [],
   "source": [
    "m = logistic_regression(train_variables, train_y, 1)"
   ]
  },
  {
   "cell_type": "code",
   "execution_count": null,
   "id": "4e3504d0",
   "metadata": {},
   "outputs": [],
   "source": [
    "chain = sample(m, HMC(0.05, 10), MCMCThreads(), 1_500, 3)"
   ]
  },
  {
   "cell_type": "code",
   "execution_count": null,
   "id": "126638f9",
   "metadata": {},
   "outputs": [],
   "source": []
  },
  {
   "cell_type": "code",
   "execution_count": null,
   "id": "90ef523e",
   "metadata": {},
   "outputs": [],
   "source": [
    "using MLJLinearModels\n",
    "# Get MNIST dataset and transpose for (records, features)\n",
    "X = Array(train_variables)\n",
    "# MNIST labels: Categorical labels must be 1...c, hence add .+1 to each label\n",
    "\n"
   ]
  },
  {
   "cell_type": "code",
   "execution_count": 39,
   "id": "b8691c36",
   "metadata": {},
   "outputs": [
    {
     "data": {
      "text/plain": [
       "225977-element Vector{Int64}:\n",
       " 18\n",
       " 16\n",
       "  7\n",
       "  3\n",
       "  5\n",
       " 11\n",
       " 11\n",
       "  8\n",
       " 18\n",
       "  9\n",
       " 11\n",
       "  9\n",
       "  4\n",
       "  ⋮\n",
       "  9\n",
       " 11\n",
       "  7\n",
       " 18\n",
       "  6\n",
       "  7\n",
       "  7\n",
       "  9\n",
       " 12\n",
       " 10\n",
       "  5\n",
       "  5"
      ]
     },
     "execution_count": 39,
     "metadata": {},
     "output_type": "execute_result"
    }
   ],
   "source": [
    "λ = 0.5\n",
    "labels = train_y .+1"
   ]
  },
  {
   "cell_type": "code",
   "execution_count": null,
   "id": "646ab9c2",
   "metadata": {},
   "outputs": [],
   "source": [
    "\n",
    "# and the number of classes\n",
    "n_classes = length(Set(labels))\n",
    "n_features = size(X,2)\n",
    "# The MNIST database does not need the intercept\n",
    "intercept = false\n",
    "# deploy MultinomialRegression from MLJLinearModels, λ being the strenght of the reguliser\n",
    "mnr = MultinomialRegression(λ; fit_intercept=intercept)\n",
    "# Fit the model\n",
    "θ  = MLJLinearModels.fit(mnr, X, labels)\n",
    "# The model parameters are organized such we can apply X⋅θ, the following is only to clarify\n",
    "params = reshape(θ, n_features +Int(intercept), n_classes)\n",
    "# Get the predictions X⋅θ \n",
    "preds = MLJLinearModels.softmax(MLJLinearModels.apply_X(X,θ,n_classes))\n",
    "# map each vector to its maximal element \n",
    "targets = map(x->argmax(x),eachrow(preds))\n",
    "#and evaluate the model over the labels\n",
    "scores = 1- sum(targets-labels)/length(preds)"
   ]
  },
  {
   "cell_type": "code",
   "execution_count": null,
   "id": "587ab967",
   "metadata": {},
   "outputs": [],
   "source": []
  },
  {
   "cell_type": "code",
   "execution_count": null,
   "id": "7435bac9",
   "metadata": {},
   "outputs": [],
   "source": []
  },
  {
   "cell_type": "code",
   "execution_count": null,
   "id": "34cdd71b",
   "metadata": {},
   "outputs": [],
   "source": []
  },
  {
   "cell_type": "code",
   "execution_count": null,
   "id": "e8901938",
   "metadata": {},
   "outputs": [],
   "source": []
  },
  {
   "cell_type": "markdown",
   "id": "682c0170",
   "metadata": {
    "collapsed": true
   },
   "source": [
    "## 8. Pédictions du nombre de cers récoltés par zones"
   ]
  },
  {
   "cell_type": "markdown",
   "id": "73877199",
   "metadata": {
    "collapsed": true
   },
   "source": [
    "### 8.1 Modèle 1: Meilleure estimation du nombre de cerfs totale et proportions obtenus selon l'année\n",
    "\n",
    "La meilleur estimation du nombre de cerfs totale en 2021 est la prédiction obtenue avec la température, c'est celui avec le plus petit RMSE."
   ]
  },
  {
   "cell_type": "code",
   "execution_count": null,
   "id": "7ef25771",
   "metadata": {},
   "outputs": [],
   "source": [
    "total_deers =  prediction_avec_temperature"
   ]
  },
  {
   "cell_type": "code",
   "execution_count": null,
   "id": "5c2307b2",
   "metadata": {
    "scrolled": false
   },
   "outputs": [],
   "source": [
    "proportions = teta_hat_annee\n",
    "preds =  [Int64(ceil(proportions[i] * total_deers)) for i in 1:18]\n",
    "test = CSV.read(\"data/test.csv\", DataFrame);\n",
    "prediction = DataFrame(Zone = test.Zone, Cerfs = preds)"
   ]
  },
  {
   "cell_type": "code",
   "execution_count": null,
   "id": "a159e9fc",
   "metadata": {},
   "outputs": [],
   "source": [
    "CSV.write(\"proportion_annee_cerfs_temperature.csv\", prediction)"
   ]
  },
  {
   "cell_type": "markdown",
   "id": "fc9e4f61",
   "metadata": {},
   "source": [
    "Cette soumission nous a donnée 421, ce qui était notre meilleure prédiction."
   ]
  },
  {
   "cell_type": "markdown",
   "id": "88488585",
   "metadata": {},
   "source": [
    "### 8.2 Modèle 2: Meilleure estimation du nombre de cerfs totale et proportions obtenus polynomiale"
   ]
  },
  {
   "cell_type": "code",
   "execution_count": null,
   "id": "148f4d33",
   "metadata": {},
   "outputs": [],
   "source": [
    "total_deers =  prediction_avec_temperature"
   ]
  },
  {
   "cell_type": "code",
   "execution_count": null,
   "id": "8c2a1f91",
   "metadata": {},
   "outputs": [],
   "source": [
    "proportions2021_temp"
   ]
  },
  {
   "cell_type": "code",
   "execution_count": null,
   "id": "6ca8dca4",
   "metadata": {},
   "outputs": [],
   "source": [
    "proportions = proportions2021_temp.Proportion/100\n",
    "preds =  [Int64(ceil(proportions[i] * total_deers)) for i in 1:18]\n",
    "test = CSV.read(\"data/test.csv\", DataFrame);\n",
    "prediction = DataFrame(Zone = test.Zone, Cerfs = preds)"
   ]
  },
  {
   "cell_type": "code",
   "execution_count": null,
   "id": "51ae1da4",
   "metadata": {},
   "outputs": [],
   "source": []
  },
  {
   "cell_type": "code",
   "execution_count": null,
   "id": "64f4e185",
   "metadata": {},
   "outputs": [],
   "source": []
  },
  {
   "cell_type": "markdown",
   "id": "3e233335",
   "metadata": {},
   "source": [
    "### 9.1 Utilisation du nombre de permis pour prédire le nombre de cerfs totale en 2021\n",
    "\n",
    "#### 9.1.1 Prédiction du nombre de cerfs récolté"
   ]
  },
  {
   "cell_type": "code",
   "execution_count": null,
   "id": "a388203a",
   "metadata": {},
   "outputs": [],
   "source": [
    "matrice = Matrice\n",
    "rename!(matrice,:\"Non-résidents\" => :\"NonRésidents\")\n",
    "res=lm(@formula(Cerfs ~ NonRésidents), matrice)\n",
    "rename!(matrice, :\"NonRésidents\" => :\"Non-résidents\")\n",
    "deers = Int64(ceil(coef(res)[1] + coef(res)[2] * permis_residents_2021))"
   ]
  },
  {
   "cell_type": "markdown",
   "id": "672964bf",
   "metadata": {},
   "source": [
    "#### 9.1.2 Préction du nombre de cerfs récoltés par zones"
   ]
  },
  {
   "cell_type": "code",
   "execution_count": null,
   "id": "0d0f3dfd",
   "metadata": {},
   "outputs": [],
   "source": [
    "tetas = last(df_teta.Cerfs ./ df_teta.Cerfs_totale, 18)\n",
    "preds =  [Int64(ceil(tetas[i] * deers)) for i in 1:18]"
   ]
  },
  {
   "cell_type": "markdown",
   "id": "36faf130",
   "metadata": {},
   "source": [
    "#### 9.1.3 Enregistrement des prédictions"
   ]
  },
  {
   "cell_type": "code",
   "execution_count": null,
   "id": "0a21c2ce",
   "metadata": {},
   "outputs": [],
   "source": [
    "test = CSV.read(\"data/test.csv\", DataFrame);\n",
    "prediction = DataFrame(Zone = test.Zone, Cerfs = preds)\n",
    "\n",
    "CSV.write(\"categorielle_2020.csv\", prediction)"
   ]
  },
  {
   "cell_type": "markdown",
   "id": "0511871c",
   "metadata": {},
   "source": [
    "Cela donne un très mauvais score de 808. Trois piste sont possibles: Nous estimons mal le nombre de cerfs total, nous estimons mal le nombre de permis non résidents, et indirectement le nombre de cerfs total en 2021, ou alors les tendances de chasse de 2021 ne sont pas les mêmes qu'en 2020."
   ]
  },
  {
   "cell_type": "code",
   "execution_count": null,
   "id": "0dd40db0",
   "metadata": {},
   "outputs": [],
   "source": [
    "df_teta.teta = df_teta.Cerfs ./ df_teta.Cerfs_totale\n",
    "df_teta = filter(row -> row.Zone != 21, df_teta)\n",
    "plot(groupby(df_teta, :Zone)[7], x=:Année, y=:teta, Geom.point, Geom.line)"
   ]
  },
  {
   "cell_type": "markdown",
   "id": "0f4a408d",
   "metadata": {},
   "source": [
    "Comme on peut le voir dans le graphique plus haut, la proportion de cerfs tué dans la zone était beaucoup plus haute que d'habitude. Nous aurions probablement plus de succès si nous estimons les proportions en fonction des autres années aussi."
   ]
  },
  {
   "cell_type": "markdown",
   "id": "8c79b021",
   "metadata": {},
   "source": [
    "### 9.2 Utilisation de l'année pour prédire le nombre de cerfs totale en 2021\n",
    "\n",
    "#### 9.2.1 Estimation des proportions pour 2021 pour chaque zone"
   ]
  },
  {
   "cell_type": "code",
   "execution_count": null,
   "id": "dc68e832",
   "metadata": {},
   "outputs": [],
   "source": [
    "teta_hat = Any[]\n",
    "for i in 1:18\n",
    "    res=lm(@formula(teta~Année), groupby(df_teta, :Zone)[i])\n",
    "    teta = coef(res)[1] + coef(res)[2] * 2021\n",
    "    push!(teta_hat, teta)\n",
    "end\n",
    "teta_hat"
   ]
  },
  {
   "cell_type": "markdown",
   "id": "e6bdddb4",
   "metadata": {},
   "source": [
    "#### 9.2.2 Prédictions pour 2021"
   ]
  },
  {
   "cell_type": "code",
   "execution_count": null,
   "id": "e6919bde",
   "metadata": {},
   "outputs": [],
   "source": [
    "preds =  [Int64(ceil(teta_hat[i] * deers)) for i in 1:18]"
   ]
  },
  {
   "cell_type": "markdown",
   "id": "8c1fa907",
   "metadata": {},
   "source": [
    "#### 9.2.3 Enregistrement des prédictions"
   ]
  },
  {
   "cell_type": "code",
   "execution_count": null,
   "id": "ab0b63b4",
   "metadata": {},
   "outputs": [],
   "source": [
    "test = CSV.read(\"data/test.csv\", DataFrame);\n",
    "prediction = DataFrame(Zone = test.Zone, Cerfs = preds)\n",
    "\n",
    "CSV.write(\"categorielle_all_years.csv\", prediction)"
   ]
  },
  {
   "cell_type": "markdown",
   "id": "f1dd85c7",
   "metadata": {},
   "source": [
    "Nous obtenons un rsme de 723, ce qui est une légère amélioration, mais on peut faire mieux. En effet, nous estimons le nombre de cerfs en fonction d'un nombre de permis non-résidents lui aussi estimé. On aurait probablement de meilleur résultat si nous estimions drectement le nombre de cerfs avec l'année."
   ]
  },
  {
   "cell_type": "markdown",
   "id": "6d61cca7",
   "metadata": {},
   "source": [
    "### 9.3 Utilisation des relations polynomiales"
   ]
  },
  {
   "cell_type": "code",
   "execution_count": null,
   "id": "4394b1dd",
   "metadata": {},
   "outputs": [],
   "source": [
    "function get_best_model(dataframe::Any, min_order::Int64, max_order::Int64)\n",
    "    models = DataFrame(Ordre = Int64[], R = Float64[], Raj = Float64[], MSE = Float64[], Betas = Vector{Float64}[])\n",
    "\n",
    "    folds = 4\n",
    "    kfold = Kfold(nrow(dataframe), folds)\n",
    "\n",
    "    df = DataFrame(Ordre = Int64[], R = Float64[], Raj = Float64[], MSE = Float64[], Betas = Vector{Float64}[])\n",
    "\n",
    "    for folds_id in kfold\n",
    "        train_fold = dataframe[folds_id, :]\n",
    "        valid_fold = dataframe[Not(folds_id), :]\n",
    "\n",
    "        SST = sum( (train_fold.Cerfs .- mean(train_fold.Cerfs)).^2 )\n",
    "\n",
    "        for order in min_order:max_order\n",
    "            n = size(train_fold,1)\n",
    "\n",
    "            # Ajustement du modèle de régression polynomiale\n",
    "            X = construct_structure(train_fold.Variable, order)\n",
    "            β̂  = X\\train_fold.Cerfs\n",
    "\n",
    "            # Calcul de l'erreur\n",
    "            ŷ = X*β̂\n",
    "            e = train_fold.Cerfs - ŷ\n",
    "\n",
    "            # Calcul de la somme du carré des erreurs\n",
    "            SSE = e'e\n",
    "\n",
    "            # Calcul de l'erreur quadratique moyenne avec l'ensemble de validation\n",
    "            X̃ = construct_structure(valid_fold.Variable, order)\n",
    "            ỹ = X̃*β̂\n",
    "            MSE = mean( (valid_fold.Cerfs - ỹ).^2 )\n",
    "\n",
    "            push!(df, [order, 1-SSE/SST, 1-(n-1)/(n-order-1)*SSE/SST, MSE, β̂ ])\n",
    "        end\n",
    "    end\n",
    "    df = sort(df, :R)\n",
    "    push!(models, [df.Ordre[1], df.R[1], df.Raj[1], df.MSE[1], df.Betas[1]])\n",
    "    return  models\n",
    "end"
   ]
  },
  {
   "cell_type": "code",
   "execution_count": null,
   "id": "9bf9d87e",
   "metadata": {},
   "outputs": [],
   "source": [
    "function get_predictions(dataframe::Any, next_year_data::Any)\n",
    "    \n",
    "    # Matrice de la nouvelle donnée\n",
    "    X = construct_structure([next_year_data], dataframe.Ordre[1])\n",
    "\n",
    "    # Prédiction\n",
    "    ŷ = X*dataframe.Betas[1]\n",
    "\n",
    "    y = ŷ[1]\n",
    "\n",
    "    prediction = convert(Float64, y)\n",
    "    \n",
    "    return prediction\n",
    "end"
   ]
  },
  {
   "cell_type": "markdown",
   "id": "47c97909",
   "metadata": {},
   "source": [
    "#### 9.3.1 Création de la matrice de données"
   ]
  },
  {
   "cell_type": "code",
   "execution_count": null,
   "id": "29a26d19",
   "metadata": {},
   "outputs": [],
   "source": [
    "dataframeAnnée = df_teta[!, [:Année, :Cerfs_totale]]\n",
    "rename!(dataframeAnnée, :Année => :Variable)\n",
    "rename!(dataframeAnnée, :Cerfs_totale => :Cerfs)\n",
    "first(dataframeAnnée, 5)"
   ]
  },
  {
   "cell_type": "markdown",
   "id": "8aa2614b",
   "metadata": {},
   "source": [
    "#### 9.3.2 Détection du meilleur model polynomiale"
   ]
  },
  {
   "cell_type": "code",
   "execution_count": null,
   "id": "c4fe9a91",
   "metadata": {},
   "outputs": [],
   "source": [
    "result = get_best_model(dataframeAnnée, 1, 6)"
   ]
  },
  {
   "cell_type": "markdown",
   "id": "417266bc",
   "metadata": {},
   "source": [
    "#### 9.3.3 Prédiction du nombre de cerfs en 2021"
   ]
  },
  {
   "cell_type": "code",
   "execution_count": null,
   "id": "aa8c5437",
   "metadata": {},
   "outputs": [],
   "source": [
    "deers = ceil(get_predictions(result, 2021))"
   ]
  },
  {
   "cell_type": "markdown",
   "id": "aabd6702",
   "metadata": {},
   "source": [
    "#### 9.3.4 Prédiction des proportions pour 2021"
   ]
  },
  {
   "cell_type": "code",
   "execution_count": null,
   "id": "31fa2ea6",
   "metadata": {},
   "outputs": [],
   "source": [
    "teta_hat = Any[]\n",
    "for i in 1:18\n",
    "    data= groupby(df_teta[!, [:Année, :teta, :Zone]], :Zone)[i]\n",
    "    rename!(data, :Année => :Variable)\n",
    "    rename!(data, :teta => :Cerfs)\n",
    "    first(data, 5)\n",
    "    result = get_best_model(data, 1, 6)\n",
    "    push!(teta_hat, get_predictions(result, 2021))\n",
    "end\n",
    "teta_hat"
   ]
  },
  {
   "cell_type": "code",
   "execution_count": null,
   "id": "4eb0f768",
   "metadata": {},
   "outputs": [],
   "source": [
    "preds =  [Int64(ceil(teta_hat[i] * deers)) for i in 1:18]"
   ]
  },
  {
   "cell_type": "markdown",
   "id": "553f5899",
   "metadata": {},
   "source": [
    "#### 9.3.4 Enregistrement des prédictions"
   ]
  },
  {
   "cell_type": "code",
   "execution_count": null,
   "id": "8d470285",
   "metadata": {},
   "outputs": [],
   "source": [
    "test = CSV.read(\"data/test.csv\", DataFrame);\n",
    "prediction = DataFrame(Zone = test.Zone, Cerfs = preds)\n",
    "\n",
    "CSV.write(\"categorielle_total_by_year.csv\", prediction)"
   ]
  },
  {
   "cell_type": "markdown",
   "id": "a6a1f723",
   "metadata": {},
   "source": [
    "on obtient un score de 449, on se rapproche mais je pense on peut faire mieux."
   ]
  }
 ],
 "metadata": {
  "@webio": {
   "lastCommId": null,
   "lastKernelId": null
  },
  "hide_input": false,
  "kernelspec": {
   "display_name": "Julia 1.8.0",
   "language": "julia",
   "name": "julia-1.8"
  },
  "language_info": {
   "file_extension": ".jl",
   "mimetype": "application/julia",
   "name": "julia",
   "version": "1.8.0"
  }
 },
 "nbformat": 4,
 "nbformat_minor": 5
}
